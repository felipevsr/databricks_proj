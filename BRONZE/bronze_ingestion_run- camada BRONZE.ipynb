{
 "cells": [
  {
   "cell_type": "markdown",
   "metadata": {
    "application/vnd.databricks.v1+cell": {
     "cellMetadata": {},
     "inputWidgets": {},
     "nuid": "5d88f59b-8e91-427b-883e-8ff736ea66ef",
     "showTitle": false,
     "tableResultSettingsMap": {},
     "title": ""
    }
   },
   "source": [
    "![BRONZE LOGO](https://s3-sa-east-1.amazonaws.com/arrematearte-farm/cristinagoston/lot_photos/11920/e2b04faba30f14f269a12c88c1dffc839e637495_ml.jpg)\n",
    "\n",
    "\n",
    "\n",
    "# CAMADA BRONZE"
   ]
  },
  {
   "cell_type": "code",
   "execution_count": 0,
   "metadata": {
    "application/vnd.databricks.v1+cell": {
     "cellMetadata": {
      "byteLimit": 2048000,
      "rowLimit": 10000
     },
     "inputWidgets": {},
     "nuid": "74f8bbe4-6465-49e0-9d6e-40c8c2b9047d",
     "showTitle": true,
     "tableResultSettingsMap": {},
     "title": "Imports"
    }
   },
   "outputs": [],
   "source": [
    "from delta.tables import *\n",
    "from pyspark.sql.types import *\n",
    "from pyspark.sql.functions import col\n",
    "import pytz\n",
    "from pyspark.sql.functions import lit\n",
    "from pyspark.sql import Window\n",
    "from pyspark.sql.functions import *\n",
    "from datetime import datetime\n",
    "\n",
    "import requests\n",
    "import json"
   ]
  },
  {
   "cell_type": "code",
   "execution_count": 0,
   "metadata": {
    "application/vnd.databricks.v1+cell": {
     "cellMetadata": {
      "byteLimit": 2048000,
      "rowLimit": 10000
     },
     "inputWidgets": {},
     "nuid": "cb9a66a9-c7f5-4199-af71-23ae10eea3e4",
     "showTitle": true,
     "tableResultSettingsMap": {},
     "title": "Variaveis"
    }
   },
   "outputs": [
    {
     "output_type": "stream",
     "name": "stdout",
     "output_type": "stream",
     "text": [
      "##----------------------------##\nData e Horário de execusão             ===> 20241110_080740 \n\nTabela bronze a ser criada             ===>  bronze.ibge_news\nCaminho da tabela Bronze a ser criada  ===> dbfs:/mnt/bronze/ \n\n##----------------------------##\nSistema de origem                      ===> dbfs:/mnt/raw_3/\nCaminho para gravação do histórico     ===> dbfs:/mnt/historic/bronze/\n"
     ]
    }
   ],
   "source": [
    "try:\n",
    "  time_file = datetime.now(pytz.timezone('America/Sao_Paulo')).strftime('%Y%m%d_%H%M%S')\n",
    "  # DeltaTable.isDeltaTable(spark, bronze_delta_path)\n",
    "\n",
    "  #### Nome  e caminho onde será feita a escrita da da tabela Delta  ##########\n",
    "  db = 'bronze.'\n",
    "  table = 'ibge_news'\n",
    "  delta_table = f'{db}{table}'\n",
    "  bronze_delta_path = 'dbfs:/mnt/bronze/'\n",
    "\n",
    "  ### Sistema de origem ####\n",
    "  source_system_path = 'dbfs:/mnt/raw_3/'\n",
    "\n",
    "  ### caminho para gravação do histórico ###\n",
    "  historic_path = 'dbfs:/mnt/historic/bronze/'\n",
    "  \n",
    "  print(\"##----------------------------##\")\n",
    "  print(f\"Data e Horário de execusão             ===> {time_file} \\n\")\n",
    "  print(f\"Tabela bronze a ser criada             ===>  {delta_table}\")\n",
    "  print(f\"Caminho da tabela Bronze a ser criada  ===> {bronze_delta_path} \\n\")\n",
    "  print(\"##----------------------------##\")\n",
    "  print(f\"Sistema de origem                      ===> {source_system_path}\")\n",
    "  print(f\"Caminho para gravação do histórico     ===> {historic_path}\")\n",
    "except Exception as e:\n",
    "  print(e)"
   ]
  },
  {
   "cell_type": "markdown",
   "metadata": {
    "application/vnd.databricks.v1+cell": {
     "cellMetadata": {},
     "inputWidgets": {},
     "nuid": "44fc1e2c-d501-4c64-bb68-9d0cc3792705",
     "showTitle": false,
     "tableResultSettingsMap": {},
     "title": ""
    }
   },
   "source": [
    "### Listando arquivos camada RAW"
   ]
  },
  {
   "cell_type": "markdown",
   "metadata": {
    "application/vnd.databricks.v1+cell": {
     "cellMetadata": {},
     "inputWidgets": {},
     "nuid": "996bf487-9b3d-456a-9b1a-5f00585086dd",
     "showTitle": false,
     "tableResultSettingsMap": {},
     "title": ""
    }
   },
   "source": [
    "### Separando Arquivos de 10 em 10"
   ]
  },
  {
   "cell_type": "markdown",
   "metadata": {
    "application/vnd.databricks.v1+cell": {
     "cellMetadata": {},
     "inputWidgets": {},
     "nuid": "a8e628d7-d776-49bd-9779-08436a5e6968",
     "showTitle": false,
     "tableResultSettingsMap": {},
     "title": ""
    }
   },
   "source": [
    "### Criando Classe de Ingestao na Bronze"
   ]
  },
  {
   "cell_type": "code",
   "execution_count": 0,
   "metadata": {
    "application/vnd.databricks.v1+cell": {
     "cellMetadata": {
      "byteLimit": 2048000,
      "rowLimit": 10000
     },
     "inputWidgets": {},
     "nuid": "4daf0652-140a-45df-98ad-9d2d7681f688",
     "showTitle": false,
     "tableResultSettingsMap": {},
     "title": ""
    }
   },
   "outputs": [],
   "source": [
    "class BronzeIngestion:\n",
    "\n",
    "  def __init__(self,db,table,bronze_delta_path,source_system_path,historic_path,period):\n",
    "    self.db                 = db\n",
    "    self.table              = table\n",
    "    self.delta_table        = f\"{self.db}.{self.table}\"\n",
    "    self.bronze_delta_path  = bronze_delta_path\n",
    "    self.source_system_path = source_system_path\n",
    "    self.historic_path      = historic_path\n",
    "    self.period             = str(period)\n",
    "\n",
    "  ### Listando arquivos camada RAW   ####\n",
    "  def list_all_files(self):\n",
    "    try:\n",
    "      #### Faz a comparação entre Raw e histórico caso ja existam arquivos no Historico  ####\n",
    "      ################################################################################\n",
    "      \n",
    "      #### Lista de arquivos da Raw ####\n",
    "      raw_set = {files.path.split('/')[-2] for files in dbutils.fs.ls(f'{self.source_system_path}{self.period}/')} \n",
    "\n",
    "      ### Lista de arquivos Historico   ####\n",
    "      try:\n",
    "        historic_set = {files.path.split('/')[-2]  for files in dbutils.fs.ls(f'{self.historic_path}{self.period}/')}\n",
    "      except:\n",
    "        ## Caso nao haja ANO e MES mais recentes no historico.\n",
    "        all_files = [f'{self.source_system_path}{self.period}/{files}'  for files in list(raw_set)]\n",
    "        print(f'Número de arquivos para ingestão == > {len(all_files)}')\n",
    "        return all_files\n",
    "\n",
    "      all_files = [f'{self.source_system_path}{self.period}/{files}'  for files in list(historic_set.symmetric_difference(raw_set))]\n",
    "      print(all_files)\n",
    "      print(f'Número de arquivos para ingestão == > {len(all_files)}')\n",
    "      return all_files\n",
    "\n",
    "    except Exception as error:\n",
    "      print(f\"{error}\")    \n",
    "\n",
    " \n",
    "  def separate_files(self):\n",
    "    try:\n",
    "      ### Separando arquivos a cada 10 items ou a quantidade que for..\n",
    "      ### caso seja menor do que 10\n",
    "      all_files = self.list_all_files()\n",
    "      return  [ all_files[i:i+10] for i in range(0,len(all_files),10)]\n",
    "    \n",
    "    except Exception as error:\n",
    "      print(f\"{error}\") \n",
    "  \n",
    "  ### Salvando Dados na camada Bronze ###\n",
    "  def save_files_delta(self):\n",
    "    try:\n",
    "      print(\" Inicinado método list_all_files().... \\n Inicinado método list_all_files() .... \\n Inicinado método save_files_delta() ....\\n\")\n",
    "      files_to_record = self.separate_files()\n",
    "      for files in files_to_record:\n",
    "        # print(files,len(files),\"\\n\")\n",
    "        df =spark.read.json(files)\n",
    "        #### Adicionando data de ingestao ####\n",
    "        df = df.withColumn('DTPROC',lit(datetime.now(pytz.timezone('America/Sao_Paulo')).strftime('%Y%m%d_%H%M%S')))\n",
    "        print(f\" Salvando dados da API no caminho ===> {self.bronze_delta_path}  com o nome ===>  {self.delta_table} \")\n",
    "        df.write.mode('append').format('delta').save(self.bronze_delta_path)\n",
    "      print(\"\\n Dados salvos em formato delta. \\n\")\n",
    "    except Exception as error:\n",
    "      print(f\"{error}\")\n",
    "  \n",
    "  ##### Copiando arquivos para Historico  ####\n",
    "  def copy_to_historic(self):\n",
    "    try:\n",
    "      lista_arquivos = self.list_all_files()\n",
    "      for folder in lista_arquivos:\n",
    "        name_folder = folder.split('/')[-1]\n",
    "        date_folder = folder.split('/')[-2]\n",
    "        print(f\"Copiando arquivo {self.source_system_path +date_folder+'/'+ name_folder +'/'} para ===> {self.historic_path+date_folder+'/'}\")\n",
    "        dbutils.fs.cp(self.source_system_path +date_folder+'/'+name_folder,self.historic_path + date_folder +'/'+name_folder +'/',recurse = True)\n",
    "\n",
    "    except Exception as error:\n",
    "      print(f\"{error}\")\n",
    "  \n",
    "  ### Criando tabela no hive_metastore (catalogo Databricks)  ####\n",
    "  def create_delta_table_hive(self):\n",
    "    try:\n",
    "      sql = f\"\"\" CREATE DATABASE IF NOT EXISTS {self.db} \"\"\"\n",
    "      spark.sql(sql)\n",
    "      print(sql,\"\\n\")\n",
    "\n",
    "      sql_drop = f\"\"\" DROP TABLE IF EXISTS {self.delta_table}  \"\"\"\n",
    "      spark.sql(sql_drop)\n",
    "      print(sql_drop,\"\\n\") \n",
    "\n",
    "      sql_table = f\"\"\" CREATE TABLE IF NOT EXISTS {self.delta_table} USING DELTA LOCATION '{self.bronze_delta_path}' \"\"\"\n",
    "      spark.sql(sql_table)\n",
    "      print(sql_table)\n",
    "\n",
    "    except Exception as error:\n",
    "      print(f\"{error}\")\n",
    "\n",
    "  \n",
    "\n",
    "  #### Executando  ####\n",
    "  def bronze_run(self):\n",
    "    print(\"Inicio do processo de ingestão na bronze... \\n\")\n",
    "    # self.list_all_files()\n",
    "    # self.separate_files()\n",
    "    self.save_files_delta()\n",
    "    self.copy_to_historic()\n",
    "    self.create_delta_table_hive()\n",
    "    print(\"Processo finalizado!..\")"
   ]
  },
  {
   "cell_type": "code",
   "execution_count": 0,
   "metadata": {
    "application/vnd.databricks.v1+cell": {
     "cellMetadata": {
      "byteLimit": 2048000,
      "rowLimit": 10000
     },
     "inputWidgets": {},
     "nuid": "a2de4407-c507-469b-9d74-57219db9c223",
     "showTitle": false,
     "tableResultSettingsMap": {},
     "title": ""
    }
   },
   "outputs": [
    {
     "output_type": "stream",
     "name": "stdout",
     "output_type": "stream",
     "text": [
      "Inicio do processo de ingestão na bronze... \n\n Inicinado método list_all_files().... \n Inicinado método list_all_files() .... \n Inicinado método save_files_delta() ....\n\n[]\nNúmero de arquivos para ingestão == > 0\n\n Dados salvos em formato delta. \n\n[]\nNúmero de arquivos para ingestão == > 0\n CREATE DATABASE IF NOT EXISTS bronze  \n\n DROP TABLE IF EXISTS bronze.ibge_news   \n\n CREATE TABLE IF NOT EXISTS bronze.ibge_news USING DELTA LOCATION 'dbfs:/mnt/bronze/' \nProcesso finalizado!..\n"
     ]
    }
   ],
   "source": [
    "bronze = BronzeIngestion('bronze','ibge_news','dbfs:/mnt/bronze/','dbfs:/mnt/raw_3/','dbfs:/mnt/historic/bronze/',202411)\n",
    "bronze.bronze_run()"
   ]
  },
  {
   "cell_type": "code",
   "execution_count": 0,
   "metadata": {
    "application/vnd.databricks.v1+cell": {
     "cellMetadata": {
      "byteLimit": 2048000,
      "implicitDf": true,
      "rowLimit": 10000
     },
     "inputWidgets": {},
     "nuid": "ae74177f-ab33-4298-be5a-7f1c98333ad6",
     "showTitle": false,
     "tableResultSettingsMap": {},
     "title": ""
    }
   },
   "outputs": [
    {
     "output_type": "display_data",
     "data": {
      "text/html": [
       "<style scoped>\n",
       "  .table-result-container {\n",
       "    max-height: 300px;\n",
       "    overflow: auto;\n",
       "  }\n",
       "  table, th, td {\n",
       "    border: 1px solid black;\n",
       "    border-collapse: collapse;\n",
       "  }\n",
       "  th, td {\n",
       "    padding: 5px;\n",
       "  }\n",
       "  th {\n",
       "    text-align: left;\n",
       "  }\n",
       "</style><div class='table-result-container'><table class='table-result'><thead style='background-color: white'><tr><th>PAGE</th><th>data_publicacao</th><th>destaque</th><th>editorias</th><th>id</th><th>imagens</th><th>introducao</th><th>link</th><th>produto_id</th><th>produtos</th><th>produtos_relacionados</th><th>tipo</th><th>titulo</th><th>DTPROC</th></tr></thead><tbody><tr><td>11 - to - 20 - 20241026_105918</td><td>04/06/2024 09:00:00</td><td>true</td><td>economicas</td><td>40241</td><td>{\"image_intro\":\"images\\/agenciadenoticias\\/releases\\/ContasNacionais.png\",\"float_intro\":\"\",\"image_intro_alt\":\"\",\"image_intro_caption\":\"\",\"image_fulltext\":\"images\\/agenciadenoticias\\/releases\\/ContasNacionais.png\",\"float_fulltext\":\"\",\"image_fulltext_alt\":\"\",\"image_fulltext_caption\":\"\"}</td><td>No primeiro trimestre de 2024, o PIB cresceu 0,8% frente ao quarto trimestre de 2023, na série com ajuste sazonal. Pela ótica da produção, os destaques foram Serviços (1,4%) e Agropecuária (11,3%), enquanto a Indústria ficou estável (-0,1%). Período de...</td><td>http://agenciadenoticias.ibge.gov.br/agencia-sala-de-imprensa/2013-agencia-de-noticias/releases/40241-pib-cresce-0-8-no-primeiro-trimestre-de-2024.html</td><td>9300</td><td>9300|Sistema de Contas Nacionais Trimestrais|contas-nacionais-trimestrais|2087</td><td>9300</td><td>Release</td><td>PIB cresce 0,8% no primeiro trimestre de 2024</td><td>20241026_111053</td></tr><tr><td>11 - to - 20 - 20241026_105918</td><td>04/06/2024 09:00:00</td><td>true</td><td>economicas</td><td>40242</td><td>{\"image_intro\":\"images\\/agenciadenoticias\\/estatisticas_economicas\\/2024_06\\/PIB-Tri_THUMB_HelenaPontes.jpg\",\"float_intro\":\"\",\"image_intro_alt\":\"\",\"image_intro_caption\":\"\",\"image_fulltext\":\"images\\/agenciadenoticias\\/estatisticas_economicas\\/2024_06\\/PIB-Tri_HOME_HelenaPontes.jpg\",\"float_fulltext\":\"\",\"image_fulltext_alt\":\"\",\"image_fulltext_caption\":\"\"}</td><td>Setor de serviços puxa alta do PIB no primeiro trimestre de 2024, com destaque para o comércio varejista. - Foto: Helena Pontes/Agência IBGE Notícias No primeiro trimestre de 2024, o Produto Interno Bruto (PIB) do país teve alta de 0,8% frente ao último...</td><td>http://agenciadenoticias.ibge.gov.br/agencia-noticias/2012-agencia-de-noticias/noticias/40242-pib-cresce-0-8-no-primeiro-trimestre-puxado-por-servicos.html</td><td>9300</td><td>9300|Sistema de Contas Nacionais Trimestrais|contas-nacionais-trimestrais|2087</td><td>9300</td><td>Notícia</td><td>PIB cresce 0,8% no primeiro trimestre, puxado por Serviços</td><td>20241026_111053</td></tr><tr><td>11 - to - 20 - 20241026_105918</td><td>03/06/2024 05:54:52</td><td>true</td><td>ibge;censo2020</td><td>40240</td><td>{\"image_intro\":\"images\\/agenciadenoticias\\/ibge\\/2024_06\\/Atendiment-THUMB.jpg\",\"float_intro\":\"\",\"image_intro_alt\":\"\",\"image_intro_caption\":\"\",\"image_fulltext\":\"images\\/agenciadenoticias\\/ibge\\/2024_06\\/Atendiment-HOME.jpg\",\"float_fulltext\":\"\",\"image_fulltext_alt\":\"\",\"image_fulltext_caption\":\"\"}</td><td>Atendimento aos gestores no balcão do IBGE. Na foto, prefeito de Japaratinga e Superintendente da SES/AL - Foto: Nathalia Leal Um dos símbolos do litoral nordestino, a Área de Proteção Ambiental (APA) Costa dos Corais é a maior unidade de conservação...</td><td>http://agenciadenoticias.ibge.gov.br/agencia-noticias/2012-agencia-de-noticias/noticias/40240-superintendencia-do-ibge-mostra-dados-do-censo-2022-para-gestores-publicos-em-alagoas.html</td><td>0</td><td></td><td></td><td>Notícia</td><td>Superintendência do IBGE mostra dados do Censo 2022 para gestores públicos em Alagoas</td><td>20241026_111053</td></tr><tr><td>11 - to - 20 - 20241026_105918</td><td>03/06/2024 02:00:00</td><td>true</td><td>ibge</td><td>40235</td><td>{\"image_intro\":\"images\\/agenciadenoticias\\/ibge\\/2024_06\\/ContadorIBGE_THUMB.jpg\",\"float_intro\":\"\",\"image_intro_alt\":\"\",\"image_intro_caption\":\"\",\"image_fulltext\":\"images\\/agenciadenoticias\\/ibge\\/2024_06\\/ContadorIBGE_HOME.jpg\",\"float_fulltext\":\"\",\"image_fulltext_alt\":\"\",\"image_fulltext_caption\":\"\"}</td><td>O IBGE comemorou seus 88 anos, em 29 de maio de 2024, com uma cerimônia repleta de homenagens, no Palácio da Fazenda, no Rio de Janeiro (RJ). No mesmo dia, houve inauguração da Casa Brasil IBGE e consolidação de acordos de cooperação técnica e protocolos...</td><td>http://agenciadenoticias.ibge.gov.br/agencia-noticias/2012-agencia-de-noticias/noticias/40235-contagem-regressiva-para-os-90-anos-do-ibge.html</td><td>0</td><td></td><td></td><td>Notícia</td><td>Contagem regressiva para os 90 anos do IBGE</td><td>20241026_111053</td></tr><tr><td>11 - to - 20 - 20241026_105918</td><td>03/06/2024 09:00:00</td><td>true</td><td>ibge</td><td>40220</td><td>{\"image_intro\":\"images\\/agenciadenoticias\\/ibge\\/2024_01\\/Agenda-IBGE_THUMB.jpg\",\"float_intro\":\"\",\"image_intro_alt\":\"\",\"image_intro_caption\":\"\",\"image_fulltext\":\"images\\/agenciadenoticias\\/ibge\\/2024_01\\/Agenda-IBGE_HOME.jpg\",\"float_fulltext\":\"\",\"image_fulltext_alt\":\"\",\"image_fulltext_caption\":\"\"}</td><td>Agenda IBGE traz a programação do instituto para a semana - Foto: Bel Corção/Brasil com S Já está disponível a Agenda IBGE para a semana de 3 a 9 de junho. O documento traz as programações do Instituto e contempla as divulgações, as reuniões internas e...</td><td>http://agenciadenoticias.ibge.gov.br/agencia-noticias/2012-agencia-de-noticias/noticias/40220-ibge-disponibiliza-agenda-de-3-a-9-de-junho.html</td><td>0</td><td></td><td></td><td>Notícia</td><td>IBGE disponibiliza Agenda de 3 a 9 de junho</td><td>20241026_111053</td></tr></tbody></table></div>"
      ]
     },
     "metadata": {
      "application/vnd.databricks.v1+output": {
       "addedWidgets": {},
       "aggData": [],
       "aggError": "",
       "aggOverflow": false,
       "aggSchema": [],
       "aggSeriesLimitReached": false,
       "aggType": "",
       "arguments": {},
       "columnCustomDisplayInfos": {},
       "data": [
        [
         "11 - to - 20 - 20241026_105918",
         "04/06/2024 09:00:00",
         true,
         "economicas",
         40241,
         "{\"image_intro\":\"images\\/agenciadenoticias\\/releases\\/ContasNacionais.png\",\"float_intro\":\"\",\"image_intro_alt\":\"\",\"image_intro_caption\":\"\",\"image_fulltext\":\"images\\/agenciadenoticias\\/releases\\/ContasNacionais.png\",\"float_fulltext\":\"\",\"image_fulltext_alt\":\"\",\"image_fulltext_caption\":\"\"}",
         "No primeiro trimestre de 2024, o PIB cresceu 0,8% frente ao quarto trimestre de 2023, na série com ajuste sazonal. Pela ótica da produção, os destaques foram Serviços (1,4%) e Agropecuária (11,3%), enquanto a Indústria ficou estável (-0,1%). Período de...",
         "http://agenciadenoticias.ibge.gov.br/agencia-sala-de-imprensa/2013-agencia-de-noticias/releases/40241-pib-cresce-0-8-no-primeiro-trimestre-de-2024.html",
         9300,
         "9300|Sistema de Contas Nacionais Trimestrais|contas-nacionais-trimestrais|2087",
         "9300",
         "Release",
         "PIB cresce 0,8% no primeiro trimestre de 2024",
         "20241026_111053"
        ],
        [
         "11 - to - 20 - 20241026_105918",
         "04/06/2024 09:00:00",
         true,
         "economicas",
         40242,
         "{\"image_intro\":\"images\\/agenciadenoticias\\/estatisticas_economicas\\/2024_06\\/PIB-Tri_THUMB_HelenaPontes.jpg\",\"float_intro\":\"\",\"image_intro_alt\":\"\",\"image_intro_caption\":\"\",\"image_fulltext\":\"images\\/agenciadenoticias\\/estatisticas_economicas\\/2024_06\\/PIB-Tri_HOME_HelenaPontes.jpg\",\"float_fulltext\":\"\",\"image_fulltext_alt\":\"\",\"image_fulltext_caption\":\"\"}",
         "Setor de serviços puxa alta do PIB no primeiro trimestre de 2024, com destaque para o comércio varejista. - Foto: Helena Pontes/Agência IBGE Notícias No primeiro trimestre de 2024, o Produto Interno Bruto (PIB) do país teve alta de 0,8% frente ao último...",
         "http://agenciadenoticias.ibge.gov.br/agencia-noticias/2012-agencia-de-noticias/noticias/40242-pib-cresce-0-8-no-primeiro-trimestre-puxado-por-servicos.html",
         9300,
         "9300|Sistema de Contas Nacionais Trimestrais|contas-nacionais-trimestrais|2087",
         "9300",
         "Notícia",
         "PIB cresce 0,8% no primeiro trimestre, puxado por Serviços",
         "20241026_111053"
        ],
        [
         "11 - to - 20 - 20241026_105918",
         "03/06/2024 05:54:52",
         true,
         "ibge;censo2020",
         40240,
         "{\"image_intro\":\"images\\/agenciadenoticias\\/ibge\\/2024_06\\/Atendiment-THUMB.jpg\",\"float_intro\":\"\",\"image_intro_alt\":\"\",\"image_intro_caption\":\"\",\"image_fulltext\":\"images\\/agenciadenoticias\\/ibge\\/2024_06\\/Atendiment-HOME.jpg\",\"float_fulltext\":\"\",\"image_fulltext_alt\":\"\",\"image_fulltext_caption\":\"\"}",
         "Atendimento aos gestores no balcão do IBGE. Na foto, prefeito de Japaratinga e Superintendente da SES/AL - Foto: Nathalia Leal Um dos símbolos do litoral nordestino, a Área de Proteção Ambiental (APA) Costa dos Corais é a maior unidade de conservação...",
         "http://agenciadenoticias.ibge.gov.br/agencia-noticias/2012-agencia-de-noticias/noticias/40240-superintendencia-do-ibge-mostra-dados-do-censo-2022-para-gestores-publicos-em-alagoas.html",
         0,
         "",
         "",
         "Notícia",
         "Superintendência do IBGE mostra dados do Censo 2022 para gestores públicos em Alagoas",
         "20241026_111053"
        ],
        [
         "11 - to - 20 - 20241026_105918",
         "03/06/2024 02:00:00",
         true,
         "ibge",
         40235,
         "{\"image_intro\":\"images\\/agenciadenoticias\\/ibge\\/2024_06\\/ContadorIBGE_THUMB.jpg\",\"float_intro\":\"\",\"image_intro_alt\":\"\",\"image_intro_caption\":\"\",\"image_fulltext\":\"images\\/agenciadenoticias\\/ibge\\/2024_06\\/ContadorIBGE_HOME.jpg\",\"float_fulltext\":\"\",\"image_fulltext_alt\":\"\",\"image_fulltext_caption\":\"\"}",
         "O IBGE comemorou seus 88 anos, em 29 de maio de 2024, com uma cerimônia repleta de homenagens, no Palácio da Fazenda, no Rio de Janeiro (RJ). No mesmo dia, houve inauguração da Casa Brasil IBGE e consolidação de acordos de cooperação técnica e protocolos...",
         "http://agenciadenoticias.ibge.gov.br/agencia-noticias/2012-agencia-de-noticias/noticias/40235-contagem-regressiva-para-os-90-anos-do-ibge.html",
         0,
         "",
         "",
         "Notícia",
         "Contagem regressiva para os 90 anos do IBGE",
         "20241026_111053"
        ],
        [
         "11 - to - 20 - 20241026_105918",
         "03/06/2024 09:00:00",
         true,
         "ibge",
         40220,
         "{\"image_intro\":\"images\\/agenciadenoticias\\/ibge\\/2024_01\\/Agenda-IBGE_THUMB.jpg\",\"float_intro\":\"\",\"image_intro_alt\":\"\",\"image_intro_caption\":\"\",\"image_fulltext\":\"images\\/agenciadenoticias\\/ibge\\/2024_01\\/Agenda-IBGE_HOME.jpg\",\"float_fulltext\":\"\",\"image_fulltext_alt\":\"\",\"image_fulltext_caption\":\"\"}",
         "Agenda IBGE traz a programação do instituto para a semana - Foto: Bel Corção/Brasil com S Já está disponível a Agenda IBGE para a semana de 3 a 9 de junho. O documento traz as programações do Instituto e contempla as divulgações, as reuniões internas e...",
         "http://agenciadenoticias.ibge.gov.br/agencia-noticias/2012-agencia-de-noticias/noticias/40220-ibge-disponibiliza-agenda-de-3-a-9-de-junho.html",
         0,
         "",
         "",
         "Notícia",
         "IBGE disponibiliza Agenda de 3 a 9 de junho",
         "20241026_111053"
        ]
       ],
       "datasetInfos": [],
       "dbfsResultPath": null,
       "isJsonSchema": true,
       "metadata": {
        "dataframeName": "_sqldf",
        "executionCount": 30
       },
       "overflow": false,
       "plotOptions": {
        "customPlotOptions": {},
        "displayType": "table",
        "pivotAggregation": null,
        "pivotColumns": null,
        "xColumns": null,
        "yColumns": null
       },
       "removedWidgets": [],
       "schema": [
        {
         "metadata": "{}",
         "name": "PAGE",
         "type": "\"string\""
        },
        {
         "metadata": "{}",
         "name": "data_publicacao",
         "type": "\"string\""
        },
        {
         "metadata": "{}",
         "name": "destaque",
         "type": "\"boolean\""
        },
        {
         "metadata": "{}",
         "name": "editorias",
         "type": "\"string\""
        },
        {
         "metadata": "{}",
         "name": "id",
         "type": "\"long\""
        },
        {
         "metadata": "{}",
         "name": "imagens",
         "type": "\"string\""
        },
        {
         "metadata": "{}",
         "name": "introducao",
         "type": "\"string\""
        },
        {
         "metadata": "{}",
         "name": "link",
         "type": "\"string\""
        },
        {
         "metadata": "{}",
         "name": "produto_id",
         "type": "\"long\""
        },
        {
         "metadata": "{}",
         "name": "produtos",
         "type": "\"string\""
        },
        {
         "metadata": "{}",
         "name": "produtos_relacionados",
         "type": "\"string\""
        },
        {
         "metadata": "{}",
         "name": "tipo",
         "type": "\"string\""
        },
        {
         "metadata": "{}",
         "name": "titulo",
         "type": "\"string\""
        },
        {
         "metadata": "{}",
         "name": "DTPROC",
         "type": "\"string\""
        }
       ],
       "type": "table"
      }
     },
     "output_type": "display_data"
    }
   ],
   "source": [
    "%sql\n",
    "-- select count(*) from delta.`dbfs:/mnt/bronze/`\n",
    "select * from bronze.ibge_news limit 5"
   ]
  },
  {
   "cell_type": "code",
   "execution_count": 0,
   "metadata": {
    "application/vnd.databricks.v1+cell": {
     "cellMetadata": {
      "byteLimit": 2048000,
      "rowLimit": 10000
     },
     "inputWidgets": {},
     "nuid": "a128b90a-bb20-4cba-a687-6b6ef76565ad",
     "showTitle": false,
     "tableResultSettingsMap": {},
     "title": ""
    }
   },
   "outputs": [],
   "source": [
    "# display(dbutils.fs.ls('dbfs:/mnt/historic/bronze/202410/ibgeapipage_1_to_10_20241019_110702/'))\n",
    "\n",
    "## apagar pastas\n",
    "# dbutils.fs.rm('dbfs:/mnt/raw/',True)\n",
    "# dbutils.fs.rm('dbfs:/mnt/bronze/',True)\n",
    "# dbutils.fs.rm('dbfs:/mnt/historic/bronze/',True)\n",
    "\n",
    "## criar pasta\n",
    "# dbutils.fs.mkdirs('dbfs:/mnt/raw/')\n",
    "# dbutils.fs.mkdirs('dbfs:/mnt/raw_2/')\n",
    "# dbutils.fs.mkdirs('dbfs:/mnt/raw_3/')"
   ]
  },
  {
   "cell_type": "code",
   "execution_count": 0,
   "metadata": {
    "application/vnd.databricks.v1+cell": {
     "cellMetadata": {
      "byteLimit": 2048000,
      "rowLimit": 10000
     },
     "inputWidgets": {},
     "nuid": "465a52b2-97ed-45ef-9e8c-fcbd3e24c6b8",
     "showTitle": true,
     "tableResultSettingsMap": {},
     "title": "Leitura de arquivos de forma Multipla"
    }
   },
   "outputs": [],
   "source": [
    "# ### é Possivel fazer a Leitura de varios arquivos de forma Multipla, passando a referencia deles dentro de uma lista  ##########\n",
    "\n",
    "# spark.read.json(files).display()"
   ]
  }
 ],
 "metadata": {
  "application/vnd.databricks.v1+notebook": {
   "dashboards": [],
   "environmentMetadata": null,
   "language": "python",
   "notebookMetadata": {
    "mostRecentlyExecutedCommandWithImplicitDF": {
     "commandId": 1746308985242144,
     "dataframes": [
      "_sqldf"
     ]
    },
    "pythonIndentUnit": 2
   },
   "notebookName": "bronze_ingestion_run- camada BRONZE",
   "widgets": {}
  }
 },
 "nbformat": 4,
 "nbformat_minor": 0
}
