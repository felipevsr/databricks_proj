{
 "cells": [
  {
   "cell_type": "markdown",
   "metadata": {
    "application/vnd.databricks.v1+cell": {
     "cellMetadata": {},
     "inputWidgets": {},
     "nuid": "8e131447-c495-44ec-ba24-2f9c3c5da782",
     "showTitle": false,
     "title": ""
    }
   },
   "source": [
    "![IBGE LOGO](https://www.infoescola.com/wp-content/uploads/2008/02/IBGE.png)\n",
    "\n",
    "\n",
    "\n",
    "## API IBGE Noticias\n"
   ]
  },
  {
   "cell_type": "code",
   "execution_count": 0,
   "metadata": {
    "application/vnd.databricks.v1+cell": {
     "cellMetadata": {
      "byteLimit": 2048000,
      "rowLimit": 10000
     },
     "inputWidgets": {},
     "nuid": "af9098e6-e5f4-4de8-b5ec-b643079b2c97",
     "showTitle": false,
     "title": ""
    }
   },
   "outputs": [],
   "source": [
    "from delta.tables import *\n",
    "from pyspark.sql.types import *\n",
    "from pyspark.sql.functions import col\n",
    "import pytz\n",
    "from pyspark.sql.functions import lit\n",
    "from pyspark.sql import Window\n",
    "from pyspark.sql.functions import *\n",
    "from datetime import datetime\n",
    "\n",
    "import requests\n",
    "import json"
   ]
  },
  {
   "cell_type": "code",
   "execution_count": 0,
   "metadata": {
    "application/vnd.databricks.v1+cell": {
     "cellMetadata": {
      "byteLimit": 2048000,
      "rowLimit": 10000
     },
     "inputWidgets": {},
     "nuid": "75c9285f-456d-47a0-9d35-e606e30247f2",
     "showTitle": true,
     "title": "Classe de ingestao"
    }
   },
   "outputs": [],
   "source": [
    "class RawLayerIngestion:\n",
    "  \n",
    "  def __init__(self,url,first_page,raw_directory):\n",
    "    self.URL_API = url\n",
    "    self.first_page = first_page\n",
    "    self.raw_directory = raw_directory\n",
    "\n",
    "  def raw_ingestion(self):\n",
    "\n",
    "    try:\n",
    "      valor_maximo_raw =[int(i.name.split('_')[-1].replace(\"/\",\"\") ) for i in dbutils.fs.ls(self.raw_directory)]\n",
    "      valor_maximo_raw.sort()\n",
    "      valor_maximo_raw = valor_maximo_raw[-1]\n",
    "      ## Verificando numero total de paginas ##\n",
    "      content_json = requests.get(\"{url}?page={page}\".format(url=self.URL_API,page=self.first_page))\n",
    "      content_json = content_json.json()\n",
    "      print(\"Ultima pagina inserida na RAw ==>  \" ,valor_maximo_raw)\n",
    "      acumulo_paginas = []\n",
    "      np_acumulo = []\n",
    "      contador = valor_maximo_raw\n",
    "      if valor_maximo_raw <= content_json[\"totalPages\"]:\n",
    "\n",
    "        print(f\"Iniciando Proceeso a partit da pagina ==> {contador}\")\n",
    "        while contador <= content_json[\"totalPages\"]:\n",
    "          noticias_API = requests.get(\"{url}?page={contador}\".format(url=self.URL_API,contador=contador))\n",
    "          noticias_json = noticias_API.json()\n",
    "          acumulo_paginas.append(noticias_json[\"items\"])\n",
    "          np_acumulo.append(noticias_json['page'])\n",
    "          ##### Data e hora de ingestao na camada RAW   ####\n",
    "          timezone_sp = pytz.timezone('America/Sao_Paulo')\n",
    "          current_time = datetime.now(timezone_sp)\n",
    "          time_file = datetime.strftime(current_time,'%Y%m%d_%H%M%S')\n",
    "\n",
    "          if noticias_json[\"items\"] != [] and str(noticias_json[\"page\"])[-1] == \"0\":\n",
    "\n",
    "            result_acumulo_paginas =[acumulo_paginas[i][item] for i in range(0,len(acumulo_paginas))\n",
    "                                                                for item in range(0,len(acumulo_paginas[i]))]   \n",
    "            df = spark.createDataFrame(result_acumulo_paginas).withColumn(f'PAGE',lit(f\"{np_acumulo[0]} - to - {np_acumulo[-1]}\"))\n",
    "            print(f\"\\t Gravando até a pagina {contador}  no diretorio dbfs {self.raw_directory}\")\n",
    "            df.write.mode(\"overwrite\").json(f'{self.raw_directory}ibgeapipage_{np_acumulo[0]}_to_{np_acumulo[-1]}')\n",
    "            acumulo_paginas = []\n",
    "            np_acumulo = []\n",
    "          elif  noticias_json[\"page\"] == content_json[\"totalPages\"]:\n",
    "            ### Ajuntando todas as paginas appendadas em uma lista unica ####\n",
    "            result_acumulo_paginas =[acumulo_paginas[i][item] for i in range(0,len(acumulo_paginas))\n",
    "                                                                    for item in range(0,len(acumulo_paginas[i]))]  \n",
    "            df = spark.createDataFrame(result_acumulo_paginas).withColumn(f'PAGE',lit(f\"{np_acumulo[0]} - to - {np_acumulo[-1]}\"))\n",
    "            print(f\"\\t Gravando a pagina {contador}  no diretorio dbfs {self.raw_directory}\")\n",
    "            df.write.mode(\"overwrite\").json(f'{self.raw_directory}ibgeapipage_{np_acumulo[0]}_to_{np_acumulo[-1]}')\n",
    "            acumulo_paginas = []\n",
    "            np_acumulo = []\n",
    "\n",
    "          contador = contador +1\n",
    "        print(\"Processo finalizado\")\n",
    "      else:\n",
    "        print(\"Todas as paginas da API ja foram inseridas na camada RAW\")\n",
    "\n",
    "    except:\n",
    "      try:\n",
    "        print(\"Nao possui arquivos\")\n",
    "        print(\"Buscando noticias desde a pagina 1....\")\n",
    "        noticias_API = requests.get(\"{url}?page={page}\".format(url=self.URL_API,page=self.first_page))\n",
    "        noticias_json = noticias_API.json()\n",
    "        acumulo_paginas = []\n",
    "        np_acumulo = []\n",
    "        contador = 1\n",
    "        while contador <= noticias_json[\"totalPages\"]:\n",
    "          noticias_API = requests.get(\"{url}?page={contador}\".format(url=self.URL_API,contador=contador))\n",
    "          noticias_json = noticias_API.json()\n",
    "          acumulo_paginas.append(noticias_json[\"items\"])\n",
    "          np_acumulo.append(noticias_json['page'])\n",
    "          ##### Data e hora de ingestao na camada RAW   ####\n",
    "          timezone_sp = pytz.timezone('America/Sao_Paulo')\n",
    "          current_time = datetime.now(timezone_sp)\n",
    "          time_file = datetime.strftime(current_time,'%Y%m%d_%H%M%S')\n",
    "\n",
    "          if noticias_json[\"items\"] != [] and str(noticias_json[\"page\"])[-1] == \"0\":\n",
    "\n",
    "            result_acumulo_paginas =[acumulo_paginas[i][item] for i in range(0,len(acumulo_paginas))\n",
    "                                                                for item in range(0,len(acumulo_paginas[i]))]   \n",
    "            \n",
    "            df = spark.createDataFrame(result_acumulo_paginas).withColumn(f'PAGE',lit(f\"{np_acumulo[0]} - to - {np_acumulo[-1]} - {time_file}\"))\n",
    "            print(f\"\\t Gravando até a pagina {contador}  no diretorio dbfs {self.raw_directory}\")\n",
    "            df.write.mode(\"overwrite\").json(f'{self.raw_directory}ibgeapipage_{np_acumulo[0]}_to_{np_acumulo[-1]}_{time_file}')\n",
    "            acumulo_paginas = []\n",
    "            np_acumulo = []\n",
    "          elif noticias_json[\"page\"] == noticias_json[\"totalPages\"]:\n",
    "            print(f\"Gravando todas as paginas até {contador}  no diretorio dbfs {self.raw_directory}\")\n",
    "            ### Ajuntando todas as paginas appendadas em uma lista unica ####\n",
    "            result_acumulo_paginas =[acumulo_paginas[i][item] for i in range(0,len(acumulo_paginas))\n",
    "                                                                  for item in range(0,len(acumulo_paginas[i]))]  \n",
    "            \n",
    "            df = spark.createDataFrame(result_acumulo_paginas).withColumn(f'PAGE',lit(f\"{np_acumulo[0]} - to - {np_acumulo[-1]} - {time_file}\"))\n",
    "            df.write.mode(\"overwrite\").json(f'{self.raw_directory}ibgeapipage_{np_acumulo[0]}_to_{np_acumulo[-1]}_{time_file}')\n",
    "            acumulo_paginas = []\n",
    "            np_acumulo = []\n",
    "          contador = contador +1\n",
    "        print(\"Processo finalizado\")\n",
    "      except Exception as e:\n",
    "        print(f\"===>>>> {e}\")\n",
    "\n",
    "  def start_run(self):\n",
    "    self.raw_ingestion()\n",
    "  \n",
    "\n",
    "\n",
    "\n",
    "\n",
    "### API IBGE de noticias, iniciando da pagina 1,  diretório de armazenamento ###\n",
    "ingestao_raw = RawLayerIngestion('http://servicodados.ibge.gov.br/api/v3/noticias/',1,'dbfs:/mnt/raw_3/')\n",
    "ingestao_raw.start_run()"
   ]
  },
  {
   "cell_type": "code",
   "execution_count": 0,
   "metadata": {
    "application/vnd.databricks.v1+cell": {
     "cellMetadata": {
      "byteLimit": 2048000,
      "rowLimit": 10000
     },
     "inputWidgets": {},
     "nuid": "72f16fb8-4698-4447-8b94-acd513f767f2",
     "showTitle": false,
     "title": ""
    }
   },
   "outputs": [
    {
     "output_type": "stream",
     "name": "stdout",
     "output_type": "stream",
     "text": [
      "Ultima pagina inserida na RAw ==>   204\nIniciando Proceeso a partit da pagina ==> 204\n\t Gravando a pagina 204  no diretorio dbfs dbfs:/mnt/raw_3/\nProcesso finalizado\n"
     ]
    }
   ],
   "source": [
    "ingestao_raw = RawLayerIngestion('http://servicodados.ibge.gov.br/api/v3/noticias/',1,'dbfs:/mnt/raw_3/')\n",
    "ingestao_raw.start_run()"
   ]
  },
  {
   "cell_type": "code",
   "execution_count": 0,
   "metadata": {
    "application/vnd.databricks.v1+cell": {
     "cellMetadata": {
      "byteLimit": 2048000,
      "rowLimit": 10000
     },
     "inputWidgets": {},
     "nuid": "98fa5b56-c2c0-487e-9a6e-2c0d0c925558",
     "showTitle": false,
     "title": ""
    }
   },
   "outputs": [
    {
     "output_type": "display_data",
     "data": {
      "text/html": [
       "<style scoped>\n",
       "  .table-result-container {\n",
       "    max-height: 300px;\n",
       "    overflow: auto;\n",
       "  }\n",
       "  table, th, td {\n",
       "    border: 1px solid black;\n",
       "    border-collapse: collapse;\n",
       "  }\n",
       "  th, td {\n",
       "    padding: 5px;\n",
       "  }\n",
       "  th {\n",
       "    text-align: left;\n",
       "  }\n",
       "</style><div class='table-result-container'><table class='table-result'><thead style='background-color: white'><tr><th>path</th><th>name</th><th>size</th><th>modificationTime</th></tr></thead><tbody><tr><td>dbfs:/mnt/raw_3/ibgeapipage_101_to_110/</td><td>ibgeapipage_101_to_110/</td><td>0</td><td>0</td></tr><tr><td>dbfs:/mnt/raw_3/ibgeapipage_111_to_120/</td><td>ibgeapipage_111_to_120/</td><td>0</td><td>0</td></tr><tr><td>dbfs:/mnt/raw_3/ibgeapipage_11_to_20/</td><td>ibgeapipage_11_to_20/</td><td>0</td><td>0</td></tr><tr><td>dbfs:/mnt/raw_3/ibgeapipage_121_to_130/</td><td>ibgeapipage_121_to_130/</td><td>0</td><td>0</td></tr><tr><td>dbfs:/mnt/raw_3/ibgeapipage_131_to_140/</td><td>ibgeapipage_131_to_140/</td><td>0</td><td>0</td></tr><tr><td>dbfs:/mnt/raw_3/ibgeapipage_141_to_150/</td><td>ibgeapipage_141_to_150/</td><td>0</td><td>0</td></tr><tr><td>dbfs:/mnt/raw_3/ibgeapipage_151_to_160/</td><td>ibgeapipage_151_to_160/</td><td>0</td><td>0</td></tr><tr><td>dbfs:/mnt/raw_3/ibgeapipage_161_to_170/</td><td>ibgeapipage_161_to_170/</td><td>0</td><td>0</td></tr><tr><td>dbfs:/mnt/raw_3/ibgeapipage_171_to_180/</td><td>ibgeapipage_171_to_180/</td><td>0</td><td>0</td></tr><tr><td>dbfs:/mnt/raw_3/ibgeapipage_181_to_190/</td><td>ibgeapipage_181_to_190/</td><td>0</td><td>0</td></tr><tr><td>dbfs:/mnt/raw_3/ibgeapipage_191_to_200/</td><td>ibgeapipage_191_to_200/</td><td>0</td><td>0</td></tr><tr><td>dbfs:/mnt/raw_3/ibgeapipage_1_to_10/</td><td>ibgeapipage_1_to_10/</td><td>0</td><td>0</td></tr><tr><td>dbfs:/mnt/raw_3/ibgeapipage_201_to_204/</td><td>ibgeapipage_201_to_204/</td><td>0</td><td>0</td></tr><tr><td>dbfs:/mnt/raw_3/ibgeapipage_204_to_204/</td><td>ibgeapipage_204_to_204/</td><td>0</td><td>0</td></tr><tr><td>dbfs:/mnt/raw_3/ibgeapipage_21_to_30/</td><td>ibgeapipage_21_to_30/</td><td>0</td><td>0</td></tr><tr><td>dbfs:/mnt/raw_3/ibgeapipage_31_to_40/</td><td>ibgeapipage_31_to_40/</td><td>0</td><td>0</td></tr><tr><td>dbfs:/mnt/raw_3/ibgeapipage_41_to_50/</td><td>ibgeapipage_41_to_50/</td><td>0</td><td>0</td></tr><tr><td>dbfs:/mnt/raw_3/ibgeapipage_51_to_60/</td><td>ibgeapipage_51_to_60/</td><td>0</td><td>0</td></tr><tr><td>dbfs:/mnt/raw_3/ibgeapipage_61_to_70/</td><td>ibgeapipage_61_to_70/</td><td>0</td><td>0</td></tr><tr><td>dbfs:/mnt/raw_3/ibgeapipage_71_to_80/</td><td>ibgeapipage_71_to_80/</td><td>0</td><td>0</td></tr><tr><td>dbfs:/mnt/raw_3/ibgeapipage_81_to_90/</td><td>ibgeapipage_81_to_90/</td><td>0</td><td>0</td></tr><tr><td>dbfs:/mnt/raw_3/ibgeapipage_91_to_100/</td><td>ibgeapipage_91_to_100/</td><td>0</td><td>0</td></tr></tbody></table></div>"
      ]
     },
     "metadata": {
      "application/vnd.databricks.v1+output": {
       "addedWidgets": {},
       "aggData": [],
       "aggError": "",
       "aggOverflow": false,
       "aggSchema": [],
       "aggSeriesLimitReached": false,
       "aggType": "",
       "arguments": {},
       "columnCustomDisplayInfos": {},
       "data": [
        [
         "dbfs:/mnt/raw_3/ibgeapipage_101_to_110/",
         "ibgeapipage_101_to_110/",
         0,
         0
        ],
        [
         "dbfs:/mnt/raw_3/ibgeapipage_111_to_120/",
         "ibgeapipage_111_to_120/",
         0,
         0
        ],
        [
         "dbfs:/mnt/raw_3/ibgeapipage_11_to_20/",
         "ibgeapipage_11_to_20/",
         0,
         0
        ],
        [
         "dbfs:/mnt/raw_3/ibgeapipage_121_to_130/",
         "ibgeapipage_121_to_130/",
         0,
         0
        ],
        [
         "dbfs:/mnt/raw_3/ibgeapipage_131_to_140/",
         "ibgeapipage_131_to_140/",
         0,
         0
        ],
        [
         "dbfs:/mnt/raw_3/ibgeapipage_141_to_150/",
         "ibgeapipage_141_to_150/",
         0,
         0
        ],
        [
         "dbfs:/mnt/raw_3/ibgeapipage_151_to_160/",
         "ibgeapipage_151_to_160/",
         0,
         0
        ],
        [
         "dbfs:/mnt/raw_3/ibgeapipage_161_to_170/",
         "ibgeapipage_161_to_170/",
         0,
         0
        ],
        [
         "dbfs:/mnt/raw_3/ibgeapipage_171_to_180/",
         "ibgeapipage_171_to_180/",
         0,
         0
        ],
        [
         "dbfs:/mnt/raw_3/ibgeapipage_181_to_190/",
         "ibgeapipage_181_to_190/",
         0,
         0
        ],
        [
         "dbfs:/mnt/raw_3/ibgeapipage_191_to_200/",
         "ibgeapipage_191_to_200/",
         0,
         0
        ],
        [
         "dbfs:/mnt/raw_3/ibgeapipage_1_to_10/",
         "ibgeapipage_1_to_10/",
         0,
         0
        ],
        [
         "dbfs:/mnt/raw_3/ibgeapipage_201_to_204/",
         "ibgeapipage_201_to_204/",
         0,
         0
        ],
        [
         "dbfs:/mnt/raw_3/ibgeapipage_204_to_204/",
         "ibgeapipage_204_to_204/",
         0,
         0
        ],
        [
         "dbfs:/mnt/raw_3/ibgeapipage_21_to_30/",
         "ibgeapipage_21_to_30/",
         0,
         0
        ],
        [
         "dbfs:/mnt/raw_3/ibgeapipage_31_to_40/",
         "ibgeapipage_31_to_40/",
         0,
         0
        ],
        [
         "dbfs:/mnt/raw_3/ibgeapipage_41_to_50/",
         "ibgeapipage_41_to_50/",
         0,
         0
        ],
        [
         "dbfs:/mnt/raw_3/ibgeapipage_51_to_60/",
         "ibgeapipage_51_to_60/",
         0,
         0
        ],
        [
         "dbfs:/mnt/raw_3/ibgeapipage_61_to_70/",
         "ibgeapipage_61_to_70/",
         0,
         0
        ],
        [
         "dbfs:/mnt/raw_3/ibgeapipage_71_to_80/",
         "ibgeapipage_71_to_80/",
         0,
         0
        ],
        [
         "dbfs:/mnt/raw_3/ibgeapipage_81_to_90/",
         "ibgeapipage_81_to_90/",
         0,
         0
        ],
        [
         "dbfs:/mnt/raw_3/ibgeapipage_91_to_100/",
         "ibgeapipage_91_to_100/",
         0,
         0
        ]
       ],
       "datasetInfos": [],
       "dbfsResultPath": null,
       "isJsonSchema": true,
       "metadata": {},
       "overflow": false,
       "plotOptions": {
        "customPlotOptions": {},
        "displayType": "table",
        "pivotAggregation": null,
        "pivotColumns": null,
        "xColumns": null,
        "yColumns": null
       },
       "removedWidgets": [],
       "schema": [
        {
         "metadata": "{}",
         "name": "path",
         "type": "\"string\""
        },
        {
         "metadata": "{}",
         "name": "name",
         "type": "\"string\""
        },
        {
         "metadata": "{}",
         "name": "size",
         "type": "\"long\""
        },
        {
         "metadata": "{}",
         "name": "modificationTime",
         "type": "\"long\""
        }
       ],
       "type": "table"
      }
     },
     "output_type": "display_data"
    }
   ],
   "source": [
    "display(dbutils.fs.ls('dbfs:/mnt/raw_3/'))\n",
    "\n",
    "# df2.display()\n"
   ]
  }
 ],
 "metadata": {
  "application/vnd.databricks.v1+notebook": {
   "dashboards": [],
   "environmentMetadata": null,
   "language": "python",
   "notebookMetadata": {
    "pythonIndentUnit": 2
   },
   "notebookName": "raw_ingestion_run_API_IBGE_Noticias",
   "widgets": {}
  }
 },
 "nbformat": 4,
 "nbformat_minor": 0
}
