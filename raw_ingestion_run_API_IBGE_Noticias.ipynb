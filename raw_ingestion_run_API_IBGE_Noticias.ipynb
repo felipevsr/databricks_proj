{
 "cells": [
  {
   "cell_type": "markdown",
   "metadata": {
    "application/vnd.databricks.v1+cell": {
     "cellMetadata": {},
     "inputWidgets": {},
     "nuid": "8e131447-c495-44ec-ba24-2f9c3c5da782",
     "showTitle": false,
     "title": ""
    }
   },
   "source": [
    "![IBGE LOGO](https://www.infoescola.com/wp-content/uploads/2008/02/IBGE.png)\n",
    "\n",
    "\n",
    "\n",
    "## API IBGE Noticias\n"
   ]
  },
  {
   "cell_type": "code",
   "execution_count": 0,
   "metadata": {
    "application/vnd.databricks.v1+cell": {
     "cellMetadata": {
      "byteLimit": 2048000,
      "rowLimit": 10000
     },
     "inputWidgets": {},
     "nuid": "af9098e6-e5f4-4de8-b5ec-b643079b2c97",
     "showTitle": false,
     "title": ""
    }
   },
   "outputs": [],
   "source": [
    "from delta.tables import *\n",
    "from pyspark.sql.types import *\n",
    "from pyspark.sql.functions import col\n",
    "import pytz\n",
    "from pyspark.sql.functions import lit\n",
    "from pyspark.sql import Window\n",
    "from pyspark.sql.functions import *\n",
    "from datetime import datetime\n",
    "\n",
    "import requests\n",
    "import json"
   ]
  },
  {
   "cell_type": "code",
   "execution_count": 0,
   "metadata": {
    "application/vnd.databricks.v1+cell": {
     "cellMetadata": {
      "byteLimit": 2048000,
      "rowLimit": 10000
     },
     "inputWidgets": {},
     "nuid": "75c9285f-456d-47a0-9d35-e606e30247f2",
     "showTitle": true,
     "title": "Classe de ingestao"
    }
   },
   "outputs": [],
   "source": [
    "class RawLayerIngestion:\n",
    "\n",
    "  def __init__(self,url,first_page,raw_directory):\n",
    "    self.URL_API = url\n",
    "    self.first_page = first_page\n",
    "    self.raw_directory = raw_directory\n",
    "\n",
    "  def raw_ingestion(self):\n",
    "    try:\n",
    "      ## Verifica a pasta data mais recente ###\n",
    "      lst_folder_date = [lst_date.name.replace('/','') for lst_date in dbutils.fs.ls(f'{self.raw_directory}')]\n",
    "      lst_folder_date.sort()\n",
    "      ### Verifica a pasta de ingestao da API de dados mais recente  ###\n",
    "      valor_maximo_raw =[int(i.name.split(\"_\")[3]) for i in dbutils.fs.ls(f'{self.raw_directory}{lst_folder_date[-1]}/')]\n",
    "      valor_maximo_raw.sort()\n",
    "      valor_maximo_raw = valor_maximo_raw[-1]\n",
    "      ## Verificando numero total de paginas ##\n",
    "      content_json = requests.get(\"{url}?page={page}\".format(url=self.URL_API,page=self.first_page))\n",
    "      content_json = content_json.json()\n",
    "      print(\"Ultima pagina inserida na RAw ==>  \" ,valor_maximo_raw)\n",
    "      acumulo_paginas = []\n",
    "      np_acumulo = []\n",
    "      contador = valor_maximo_raw\n",
    "      if valor_maximo_raw <= content_json[\"totalPages\"]:\n",
    "\n",
    "        print(f\"Iniciando Processo a partit da pagina ==> {contador}\")\n",
    "        while contador <= content_json[\"totalPages\"]:\n",
    "          noticias_API = requests.get(\"{url}?page={contador}\".format(url=self.URL_API,contador=contador))\n",
    "          noticias_json = noticias_API.json()\n",
    "          acumulo_paginas.append(noticias_json[\"items\"])\n",
    "          np_acumulo.append(noticias_json['page'])\n",
    "          ##### Data e hora de ingestao na camada RAW   ####\n",
    "          time_file = datetime.now(pytz.timezone('America/Sao_Paulo')).strftime('%Y%m%d_%H%M%S')\n",
    "\n",
    "          if noticias_json[\"items\"] != [] and str(noticias_json[\"page\"])[-1] == \"0\":\n",
    "\n",
    "            result_acumulo_paginas =[acumulo_paginas[i][item] for i in range(0,len(acumulo_paginas))\n",
    "                                                                for item in range(0,len(acumulo_paginas[i]))]   \n",
    "            df = spark.createDataFrame(result_acumulo_paginas).withColumn(f'PAGE',lit(f\"{np_acumulo[0]} - to - {np_acumulo[-1]} - {time_file}\"))\n",
    "            print(f\"\\t Gravando até a pagina {contador}  no diretorio dbfs {self.raw_directory}{time_file[0:6]}/\")\n",
    "            df.write.mode(\"overwrite\").json(f'{self.raw_directory}{time_file[0:6]}/ibgeapipage_{np_acumulo[0]}_to_{np_acumulo[-1]}_{time_file}')\n",
    "            acumulo_paginas = []\n",
    "            np_acumulo = []\n",
    "          elif  noticias_json[\"page\"] == content_json[\"totalPages\"]:\n",
    "            ### Ajuntando todas as paginas appendadas em uma lista unica ####\n",
    "            result_acumulo_paginas =[acumulo_paginas[i][item] for i in range(0,len(acumulo_paginas))\n",
    "                                                                    for item in range(0,len(acumulo_paginas[i]))]  \n",
    "            df = spark.createDataFrame(result_acumulo_paginas).withColumn(f'PAGE',lit(f\"{np_acumulo[0]} - to - {np_acumulo[-1]} - {time_file}\"))\n",
    "            print(f\"\\t Gravando a pagina {contador}  no diretorio dbfs {self.raw_directory}{time_file[0:6]}/\")\n",
    "            df.write.mode(\"overwrite\").json(f'{self.raw_directory}{time_file[0:6]}/ibgeapipage_{np_acumulo[0]}_to_{np_acumulo[-1]}_{time_file}')\n",
    "            acumulo_paginas = []\n",
    "            np_acumulo = []\n",
    "\n",
    "          contador = contador +1\n",
    "        print(\"Processo finalizado\")\n",
    "      else:\n",
    "        print(\"Todas as paginas da API ja foram inseridas na camada RAW\")\n",
    "\n",
    "    except:\n",
    "      try:\n",
    "        print(\"Primeira ingestão ou Nao possui arquivos na Data corrente\")\n",
    "        print(\"Buscando noticias desde a pagina ....\")\n",
    "        noticias_API = requests.get(\"{url}?page={page}\".format(url=self.URL_API,page=self.first_page))\n",
    "        noticias_json = noticias_API.json()\n",
    "        acumulo_paginas = []\n",
    "        np_acumulo = []\n",
    "\n",
    "        try:\n",
    "                ## Verifica a pasta data mais recente ###\n",
    "          lst_folder_date = [lst_date.name.replace('/','') for lst_date in dbutils.fs.ls(f'{self.raw_directory}')]\n",
    "          lst_folder_date.sort()\n",
    "          ### Verifica a pasta de ingestao da API de dados mais recente para adicionar ao contador  ###\n",
    "          contador =[int(i.name.split(\"_\")[3]) for i in dbutils.fs.ls(f'{self.raw_directory}{lst_folder_date[-1]}/')]\n",
    "          contador.sort()\n",
    "          contador = contador[-1]\n",
    "        except:\n",
    "          contador = 1\n",
    "\n",
    "        while contador <= noticias_json[\"totalPages\"]:\n",
    "          noticias_API = requests.get(\"{url}?page={contador}\".format(url=self.URL_API,contador=contador))\n",
    "          noticias_json = noticias_API.json()\n",
    "          acumulo_paginas.append(noticias_json[\"items\"])\n",
    "          np_acumulo.append(noticias_json['page'])\n",
    "          ##### Data e hora de ingestao na camada RAW   ####\n",
    "          time_file = datetime.now(pytz.timezone('America/Sao_Paulo')).strftime('%Y%m%d_%H%M%S')\n",
    "\n",
    "          if noticias_json[\"items\"] != [] and str(noticias_json[\"page\"])[-1] == \"0\":\n",
    "\n",
    "            result_acumulo_paginas =[acumulo_paginas[i][item] for i in range(0,len(acumulo_paginas))\n",
    "                                                                for item in range(0,len(acumulo_paginas[i]))]   \n",
    "            \n",
    "            df = spark.createDataFrame(result_acumulo_paginas).withColumn(f'PAGE',lit(f\"{np_acumulo[0]} - to - {np_acumulo[-1]} - {time_file}\"))\n",
    "            print(f\"\\t Gravando até a pagina {contador}  no diretorio dbfs {self.raw_directory}{time_file[0:6]}/\")\n",
    "            df.write.mode(\"overwrite\").json(f'{self.raw_directory}{time_file[0:6]}/ibgeapipage_{np_acumulo[0]}_to_{np_acumulo[-1]}_{time_file}')\n",
    "            acumulo_paginas = []\n",
    "            np_acumulo = []\n",
    "          elif noticias_json[\"page\"] == noticias_json[\"totalPages\"]:\n",
    "            print(f\"Gravando todas as paginas até {contador}  no diretorio dbfs {self.raw_directory}{time_file[0:6]}/\")\n",
    "            ### Ajuntando todas as paginas appendadas em uma lista unica ####\n",
    "            result_acumulo_paginas =[acumulo_paginas[i][item] for i in range(0,len(acumulo_paginas))\n",
    "                                                                  for item in range(0,len(acumulo_paginas[i]))]  \n",
    "            \n",
    "            df = spark.createDataFrame(result_acumulo_paginas).withColumn(f'PAGE',lit(f\"{np_acumulo[0]} - to - {np_acumulo[-1]} - {time_file}\"))\n",
    "            df.write.mode(\"overwrite\").json(f'{self.raw_directory}{time_file[0:6]}/ibgeapipage_{np_acumulo[0]}_to_{np_acumulo[-1]}_{time_file}')\n",
    "            acumulo_paginas = []\n",
    "            np_acumulo = []\n",
    "          contador = contador +1\n",
    "        print(\"Processo finalizado\")\n",
    "      except Exception as e:\n",
    "        print(f\"===>>>> {e}\")\n",
    "\n",
    "  def start_run(self):\n",
    "    self.raw_ingestion()"
   ]
  },
  {
   "cell_type": "code",
   "execution_count": 0,
   "metadata": {
    "application/vnd.databricks.v1+cell": {
     "cellMetadata": {
      "byteLimit": 2048000,
      "rowLimit": 10000
     },
     "inputWidgets": {},
     "nuid": "72f16fb8-4698-4447-8b94-acd513f767f2",
     "showTitle": false,
     "title": ""
    }
   },
   "outputs": [
    {
     "output_type": "stream",
     "name": "stdout",
     "output_type": "stream",
     "text": [
      "Ultima pagina inserida na RAw ==>   130\nIniciando Processo a partit da pagina ==> 130\n\t Gravando até a pagina 130  no diretorio dbfs dbfs:/mnt/raw_3/202410/\n\t Gravando até a pagina 140  no diretorio dbfs dbfs:/mnt/raw_3/202410/\n\t Gravando até a pagina 150  no diretorio dbfs dbfs:/mnt/raw_3/202410/\n\t Gravando até a pagina 160  no diretorio dbfs dbfs:/mnt/raw_3/202410/\n\t Gravando até a pagina 170  no diretorio dbfs dbfs:/mnt/raw_3/202410/\n\t Gravando até a pagina 180  no diretorio dbfs dbfs:/mnt/raw_3/202410/\n\t Gravando até a pagina 190  no diretorio dbfs dbfs:/mnt/raw_3/202410/\n\t Gravando até a pagina 200  no diretorio dbfs dbfs:/mnt/raw_3/202410/\n\t Gravando a pagina 206  no diretorio dbfs dbfs:/mnt/raw_3/202410/\nProcesso finalizado\n"
     ]
    }
   ],
   "source": [
    "ingestao_raw = RawLayerIngestion('http://servicodados.ibge.gov.br/api/v3/noticias/',1,'dbfs:/mnt/raw_3/')\n",
    "ingestao_raw.start_run()"
   ]
  },
  {
   "cell_type": "code",
   "execution_count": 0,
   "metadata": {
    "application/vnd.databricks.v1+cell": {
     "cellMetadata": {
      "byteLimit": 2048000,
      "rowLimit": 10000
     },
     "inputWidgets": {},
     "nuid": "98fa5b56-c2c0-487e-9a6e-2c0d0c925558",
     "showTitle": false,
     "title": ""
    }
   },
   "outputs": [
    {
     "output_type": "display_data",
     "data": {
      "text/html": [
       "<style scoped>\n",
       "  .table-result-container {\n",
       "    max-height: 300px;\n",
       "    overflow: auto;\n",
       "  }\n",
       "  table, th, td {\n",
       "    border: 1px solid black;\n",
       "    border-collapse: collapse;\n",
       "  }\n",
       "  th, td {\n",
       "    padding: 5px;\n",
       "  }\n",
       "  th {\n",
       "    text-align: left;\n",
       "  }\n",
       "</style><div class='table-result-container'><table class='table-result'><thead style='background-color: white'><tr><th>path</th><th>name</th><th>size</th><th>modificationTime</th></tr></thead><tbody><tr><td>dbfs:/mnt/raw_3/202410/ibgeapipage_101_to_110_20241026_110026/</td><td>ibgeapipage_101_to_110_20241026_110026/</td><td>0</td><td>0</td></tr><tr><td>dbfs:/mnt/raw_3/202410/ibgeapipage_111_to_120_20241026_110036/</td><td>ibgeapipage_111_to_120_20241026_110036/</td><td>0</td><td>0</td></tr><tr><td>dbfs:/mnt/raw_3/202410/ibgeapipage_11_to_20_20241026_105918/</td><td>ibgeapipage_11_to_20_20241026_105918/</td><td>0</td><td>0</td></tr><tr><td>dbfs:/mnt/raw_3/202410/ibgeapipage_121_to_130_20241026_110047/</td><td>ibgeapipage_121_to_130_20241026_110047/</td><td>0</td><td>0</td></tr><tr><td>dbfs:/mnt/raw_3/202410/ibgeapipage_130_to_130_20241026_110434/</td><td>ibgeapipage_130_to_130_20241026_110434/</td><td>0</td><td>0</td></tr><tr><td>dbfs:/mnt/raw_3/202410/ibgeapipage_131_to_140_20241026_110444/</td><td>ibgeapipage_131_to_140_20241026_110444/</td><td>0</td><td>0</td></tr><tr><td>dbfs:/mnt/raw_3/202410/ibgeapipage_141_to_150_20241026_110455/</td><td>ibgeapipage_141_to_150_20241026_110455/</td><td>0</td><td>0</td></tr><tr><td>dbfs:/mnt/raw_3/202410/ibgeapipage_151_to_160_20241026_110505/</td><td>ibgeapipage_151_to_160_20241026_110505/</td><td>0</td><td>0</td></tr><tr><td>dbfs:/mnt/raw_3/202410/ibgeapipage_161_to_170_20241026_110516/</td><td>ibgeapipage_161_to_170_20241026_110516/</td><td>0</td><td>0</td></tr><tr><td>dbfs:/mnt/raw_3/202410/ibgeapipage_171_to_180_20241026_110527/</td><td>ibgeapipage_171_to_180_20241026_110527/</td><td>0</td><td>0</td></tr><tr><td>dbfs:/mnt/raw_3/202410/ibgeapipage_181_to_190_20241026_110537/</td><td>ibgeapipage_181_to_190_20241026_110537/</td><td>0</td><td>0</td></tr><tr><td>dbfs:/mnt/raw_3/202410/ibgeapipage_191_to_200_20241026_110548/</td><td>ibgeapipage_191_to_200_20241026_110548/</td><td>0</td><td>0</td></tr><tr><td>dbfs:/mnt/raw_3/202410/ibgeapipage_1_to_10_20241026_105911/</td><td>ibgeapipage_1_to_10_20241026_105911/</td><td>0</td><td>0</td></tr><tr><td>dbfs:/mnt/raw_3/202410/ibgeapipage_201_to_206_20241026_110554/</td><td>ibgeapipage_201_to_206_20241026_110554/</td><td>0</td><td>0</td></tr><tr><td>dbfs:/mnt/raw_3/202410/ibgeapipage_21_to_30_20241026_105924/</td><td>ibgeapipage_21_to_30_20241026_105924/</td><td>0</td><td>0</td></tr><tr><td>dbfs:/mnt/raw_3/202410/ibgeapipage_31_to_40_20241026_105930/</td><td>ibgeapipage_31_to_40_20241026_105930/</td><td>0</td><td>0</td></tr><tr><td>dbfs:/mnt/raw_3/202410/ibgeapipage_41_to_50_20241026_105937/</td><td>ibgeapipage_41_to_50_20241026_105937/</td><td>0</td><td>0</td></tr><tr><td>dbfs:/mnt/raw_3/202410/ibgeapipage_51_to_60_20241026_105943/</td><td>ibgeapipage_51_to_60_20241026_105943/</td><td>0</td><td>0</td></tr><tr><td>dbfs:/mnt/raw_3/202410/ibgeapipage_61_to_70_20241026_105950/</td><td>ibgeapipage_61_to_70_20241026_105950/</td><td>0</td><td>0</td></tr><tr><td>dbfs:/mnt/raw_3/202410/ibgeapipage_71_to_80_20241026_105956/</td><td>ibgeapipage_71_to_80_20241026_105956/</td><td>0</td><td>0</td></tr><tr><td>dbfs:/mnt/raw_3/202410/ibgeapipage_81_to_90_20241026_110004/</td><td>ibgeapipage_81_to_90_20241026_110004/</td><td>0</td><td>0</td></tr><tr><td>dbfs:/mnt/raw_3/202410/ibgeapipage_91_to_100_20241026_110016/</td><td>ibgeapipage_91_to_100_20241026_110016/</td><td>0</td><td>0</td></tr></tbody></table></div>"
      ]
     },
     "metadata": {
      "application/vnd.databricks.v1+output": {
       "addedWidgets": {},
       "aggData": [],
       "aggError": "",
       "aggOverflow": false,
       "aggSchema": [],
       "aggSeriesLimitReached": false,
       "aggType": "",
       "arguments": {},
       "columnCustomDisplayInfos": {},
       "data": [
        [
         "dbfs:/mnt/raw_3/202410/ibgeapipage_101_to_110_20241026_110026/",
         "ibgeapipage_101_to_110_20241026_110026/",
         0,
         0
        ],
        [
         "dbfs:/mnt/raw_3/202410/ibgeapipage_111_to_120_20241026_110036/",
         "ibgeapipage_111_to_120_20241026_110036/",
         0,
         0
        ],
        [
         "dbfs:/mnt/raw_3/202410/ibgeapipage_11_to_20_20241026_105918/",
         "ibgeapipage_11_to_20_20241026_105918/",
         0,
         0
        ],
        [
         "dbfs:/mnt/raw_3/202410/ibgeapipage_121_to_130_20241026_110047/",
         "ibgeapipage_121_to_130_20241026_110047/",
         0,
         0
        ],
        [
         "dbfs:/mnt/raw_3/202410/ibgeapipage_130_to_130_20241026_110434/",
         "ibgeapipage_130_to_130_20241026_110434/",
         0,
         0
        ],
        [
         "dbfs:/mnt/raw_3/202410/ibgeapipage_131_to_140_20241026_110444/",
         "ibgeapipage_131_to_140_20241026_110444/",
         0,
         0
        ],
        [
         "dbfs:/mnt/raw_3/202410/ibgeapipage_141_to_150_20241026_110455/",
         "ibgeapipage_141_to_150_20241026_110455/",
         0,
         0
        ],
        [
         "dbfs:/mnt/raw_3/202410/ibgeapipage_151_to_160_20241026_110505/",
         "ibgeapipage_151_to_160_20241026_110505/",
         0,
         0
        ],
        [
         "dbfs:/mnt/raw_3/202410/ibgeapipage_161_to_170_20241026_110516/",
         "ibgeapipage_161_to_170_20241026_110516/",
         0,
         0
        ],
        [
         "dbfs:/mnt/raw_3/202410/ibgeapipage_171_to_180_20241026_110527/",
         "ibgeapipage_171_to_180_20241026_110527/",
         0,
         0
        ],
        [
         "dbfs:/mnt/raw_3/202410/ibgeapipage_181_to_190_20241026_110537/",
         "ibgeapipage_181_to_190_20241026_110537/",
         0,
         0
        ],
        [
         "dbfs:/mnt/raw_3/202410/ibgeapipage_191_to_200_20241026_110548/",
         "ibgeapipage_191_to_200_20241026_110548/",
         0,
         0
        ],
        [
         "dbfs:/mnt/raw_3/202410/ibgeapipage_1_to_10_20241026_105911/",
         "ibgeapipage_1_to_10_20241026_105911/",
         0,
         0
        ],
        [
         "dbfs:/mnt/raw_3/202410/ibgeapipage_201_to_206_20241026_110554/",
         "ibgeapipage_201_to_206_20241026_110554/",
         0,
         0
        ],
        [
         "dbfs:/mnt/raw_3/202410/ibgeapipage_21_to_30_20241026_105924/",
         "ibgeapipage_21_to_30_20241026_105924/",
         0,
         0
        ],
        [
         "dbfs:/mnt/raw_3/202410/ibgeapipage_31_to_40_20241026_105930/",
         "ibgeapipage_31_to_40_20241026_105930/",
         0,
         0
        ],
        [
         "dbfs:/mnt/raw_3/202410/ibgeapipage_41_to_50_20241026_105937/",
         "ibgeapipage_41_to_50_20241026_105937/",
         0,
         0
        ],
        [
         "dbfs:/mnt/raw_3/202410/ibgeapipage_51_to_60_20241026_105943/",
         "ibgeapipage_51_to_60_20241026_105943/",
         0,
         0
        ],
        [
         "dbfs:/mnt/raw_3/202410/ibgeapipage_61_to_70_20241026_105950/",
         "ibgeapipage_61_to_70_20241026_105950/",
         0,
         0
        ],
        [
         "dbfs:/mnt/raw_3/202410/ibgeapipage_71_to_80_20241026_105956/",
         "ibgeapipage_71_to_80_20241026_105956/",
         0,
         0
        ],
        [
         "dbfs:/mnt/raw_3/202410/ibgeapipage_81_to_90_20241026_110004/",
         "ibgeapipage_81_to_90_20241026_110004/",
         0,
         0
        ],
        [
         "dbfs:/mnt/raw_3/202410/ibgeapipage_91_to_100_20241026_110016/",
         "ibgeapipage_91_to_100_20241026_110016/",
         0,
         0
        ]
       ],
       "datasetInfos": [],
       "dbfsResultPath": null,
       "isJsonSchema": true,
       "metadata": {},
       "overflow": false,
       "plotOptions": {
        "customPlotOptions": {},
        "displayType": "table",
        "pivotAggregation": null,
        "pivotColumns": null,
        "xColumns": null,
        "yColumns": null
       },
       "removedWidgets": [],
       "schema": [
        {
         "metadata": "{}",
         "name": "path",
         "type": "\"string\""
        },
        {
         "metadata": "{}",
         "name": "name",
         "type": "\"string\""
        },
        {
         "metadata": "{}",
         "name": "size",
         "type": "\"long\""
        },
        {
         "metadata": "{}",
         "name": "modificationTime",
         "type": "\"long\""
        }
       ],
       "type": "table"
      }
     },
     "output_type": "display_data"
    }
   ],
   "source": [
    "display(dbutils.fs.ls('dbfs:/mnt/raw_3/202410/'))\n",
    "\n",
    "# df2.display()\n"
   ]
  },
  {
   "cell_type": "code",
   "execution_count": 0,
   "metadata": {
    "application/vnd.databricks.v1+cell": {
     "cellMetadata": {
      "byteLimit": 2048000,
      "rowLimit": 10000
     },
     "inputWidgets": {},
     "nuid": "86bfa605-5efd-496a-a114-6792e8a32474",
     "showTitle": false,
     "title": ""
    }
   },
   "outputs": [],
   "source": [
    "# df2 = spark.read.json('dbfs:/mnt/raw_3/202410/*')\n",
    "\n",
    "# df2.display()\n"
   ]
  },
  {
   "cell_type": "code",
   "execution_count": 0,
   "metadata": {
    "application/vnd.databricks.v1+cell": {
     "cellMetadata": {
      "byteLimit": 2048000,
      "rowLimit": 10000
     },
     "inputWidgets": {},
     "nuid": "f734681a-73ca-4d15-8485-1f9374909888",
     "showTitle": false,
     "title": ""
    }
   },
   "outputs": [
    {
     "output_type": "execute_result",
     "data": {
      "text/plain": [
       "6186"
      ]
     },
     "execution_count": 16,
     "metadata": {},
     "output_type": "execute_result"
    }
   ],
   "source": [
    "df2.count()"
   ]
  }
 ],
 "metadata": {
  "application/vnd.databricks.v1+notebook": {
   "dashboards": [],
   "environmentMetadata": null,
   "language": "python",
   "notebookMetadata": {
    "pythonIndentUnit": 2
   },
   "notebookName": "raw_ingestion_run_API_IBGE_Noticias",
   "widgets": {}
  }
 },
 "nbformat": 4,
 "nbformat_minor": 0
}
