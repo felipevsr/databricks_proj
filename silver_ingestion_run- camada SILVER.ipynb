{
 "cells": [
  {
   "cell_type": "markdown",
   "metadata": {
    "application/vnd.databricks.v1+cell": {
     "cellMetadata": {},
     "inputWidgets": {},
     "nuid": "a9c2c94b-c27f-4bac-9e38-e613e0496d16",
     "showTitle": false,
     "tableResultSettingsMap": {},
     "title": ""
    }
   },
   "source": [
    "![Silver LOGO](https://carboncredits.b-cdn.net/wp-content/uploads/2024/04/shutterstock_1447266653.jpg)\n",
    "\n",
    "\n",
    "\n",
    "# CAMADA SILVER"
   ]
  },
  {
   "cell_type": "code",
   "execution_count": 0,
   "metadata": {
    "application/vnd.databricks.v1+cell": {
     "cellMetadata": {
      "byteLimit": 2048000,
      "rowLimit": 10000
     },
     "inputWidgets": {},
     "nuid": "0116879c-4ed7-4ca7-a905-21ccdea3137d",
     "showTitle": true,
     "tableResultSettingsMap": {},
     "title": "Imports"
    }
   },
   "outputs": [],
   "source": [
    "from delta.tables import *\n",
    "from pyspark.sql.types import *\n",
    "from pyspark.sql.functions import col\n",
    "import pytz\n",
    "from pyspark.sql.functions import lit\n",
    "from pyspark.sql import Window\n",
    "from pyspark.sql.functions import *\n",
    "from datetime import datetime , timedelta\n",
    "\n",
    "import requests\n",
    "import json\n",
    "\n",
    "'''\n",
    "Essa configuração permite que o Delta Lake faça automaticamente a evolução do esquema \n",
    "ao detectar mudanças no esquema dos dados durante operações de merge, update ou append, \n",
    "sem a necessidade de redefinir manualmente o esquema.\n",
    "'''\n",
    "spark.conf.set(\"spark.databricks.delta.schema.autoMerge.enabled\", \"true\")\n",
    "'''\n",
    "Essa configuração permite que o Delta Lake faça automaticamente a união de arquivos pequenos \n",
    "durante operações de escrita, reduzindo a fragmentação sem a necessidade de otimizações manuais frequentes\n",
    "'''\n",
    "spark.conf.set(\"spark.databricks.delta.autoCompact.enabled\", \"true\")"
   ]
  },
  {
   "cell_type": "markdown",
   "metadata": {
    "application/vnd.databricks.v1+cell": {
     "cellMetadata": {},
     "inputWidgets": {},
     "nuid": "65f1de15-595f-491d-96a9-c4691cf2af1c",
     "showTitle": false,
     "tableResultSettingsMap": {},
     "title": ""
    }
   },
   "source": [
    "## PARÂMETROS"
   ]
  },
  {
   "cell_type": "code",
   "execution_count": 0,
   "metadata": {
    "application/vnd.databricks.v1+cell": {
     "cellMetadata": {
      "byteLimit": 2048000,
      "rowLimit": 10000
     },
     "inputWidgets": {},
     "nuid": "129222e1-695b-466f-9bbd-82bcdfbb0fd5",
     "showTitle": false,
     "tableResultSettingsMap": {},
     "title": ""
    }
   },
   "outputs": [
    {
     "output_type": "stream",
     "name": "stdout",
     "output_type": "stream",
     "text": [
      "##----------------------------##\nData e Horário de execusão             ===>  20250202_101025 \n\nDT_START                               ===>  2025-01-01 \nDT_END                                 ===>  2025-02-02\nBanco de Dados                         ===>  silver\nNome da Tabela                         ===>  ibge_news\nTabela silver a ser criada             ===>  silver.ibge_news\nCaminho da tabela silver a ser criada  ===>  dbfs:/mnt/silver/ \n\n##----------------------------##\nTabela de Origem                     ===> bronze.ibge_news\n"
     ]
    }
   ],
   "source": [
    "try:\n",
    "  time_file = datetime.now(pytz.timezone('America/Sao_Paulo')).strftime('%Y%m%d_%H%M%S')\n",
    "  # DeltaTable.isDeltaTable(spark, silver_delta_path)\n",
    "\n",
    "  #### Nome  e caminho onde será feita a escrita da da tabela Delta  ##########\n",
    "  db = 'silver'\n",
    "  table = 'ibge_news'\n",
    "  silver_delta_table = f'{db}.{table}'\n",
    "  silver_delta_path = 'dbfs:/mnt/silver/'\n",
    "  DT_END = datetime.now().date()\n",
    "  DT_START = (DT_END - timedelta(days = 7))\n",
    "  # if not DeltaTable.isDeltaTable(spark,silver_delta_path):\n",
    "  #   DT_START = '2020-01-01'\n",
    "\n",
    "  if DeltaTable.isDeltaTable(spark,silver_delta_path):\n",
    "    DT_START = spark.sql(\"select cast(trunc(to_date(max(left(dateIngestion,10) ),'yyyy-MM-dd'),'MM') as string) from delta.`dbfs:/mnt/silver/` \").collect()[0][0]\n",
    "  else:\n",
    "    DT_START = spark.sql(\"select cast(trunc(to_date(min(left(DTPROC,8 ) ),'yyyyMMdd'),'MM') as string) from delta.`dbfs:/mnt/bronze/` \").collect()[0][0]\n",
    "\n",
    "  ### Sistema de origem ####\n",
    "  source_delta_table = 'bronze.ibge_news'\n",
    "  \n",
    "  print(\"##----------------------------##\")\n",
    "  print(f\"Data e Horário de execusão             ===>  {time_file} \\n\")\n",
    "  print(f\"DT_START                               ===>  {DT_START} \")\n",
    "  print(f\"DT_END                                 ===>  {DT_END}\")\n",
    "  print(f\"Banco de Dados                         ===>  {db}\")\n",
    "  print(f\"Nome da Tabela                         ===>  {table}\")\n",
    "  print(f\"Tabela silver a ser criada             ===>  {silver_delta_table}\")\n",
    "  print(f\"Caminho da tabela silver a ser criada  ===>  {silver_delta_path} \\n\")\n",
    "  print(\"##----------------------------##\")\n",
    "  print(f\"Tabela de Origem                     ===> {source_delta_table}\")\n",
    "\n",
    "except Exception as e:\n",
    "  print(e)"
   ]
  },
  {
   "cell_type": "code",
   "execution_count": 0,
   "metadata": {
    "application/vnd.databricks.v1+cell": {
     "cellMetadata": {
      "byteLimit": 2048000,
      "rowLimit": 10000
     },
     "inputWidgets": {},
     "nuid": "b3bd8780-c1c5-4a8a-9124-499d7c12aeec",
     "showTitle": false,
     "tableResultSettingsMap": {},
     "title": ""
    }
   },
   "outputs": [],
   "source": [
    "class  SilverIngestion:\n",
    "  def __init__(self,source_delta_table,silver_delta_table,silver_delta_path,dtstart,dtend):\n",
    "    self.source_delta_table = source_delta_table\n",
    "    self.silver_delta_table = silver_delta_table\n",
    "    self.silver_delta_path = silver_delta_path\n",
    "    self.dtstart = dtstart\n",
    "    self.dtend = dtend\n",
    "    self.dt = str(dtend).replace('-','')[0:6]\n",
    "\n",
    "  def create_structured_delta_schema(self):\n",
    "\n",
    "    if not DeltaTable.isDeltaTable(spark,self.silver_delta_path):\n",
    "      print('Criando estrutura tabela Delta....\\n')\n",
    "      schema = StructType([\n",
    "\n",
    "                      StructField('referenceMonthDate',DateType(),True,metadata={\"comment\": \"Data do Mes de referencia\"}),\n",
    "                      StructField('id',LongType(),True,metadata={\"comment\": \"Identificador único da notícia\"}),\n",
    "                      StructField('newsHighlight', StringType(),True,metadata={\"comment\": \"Destaque\"}),\n",
    "                      StructField('editorials', StringType(),True,metadata={\"comment\": \"Editorial\"}),\n",
    "                      StructField('images', StringType(),True,metadata={\"comment\": \"Descrição das imagens\"}),\n",
    "                      StructField('publicationDate', TimestampType(),True,metadata={\"comment\": \"Data da publicaçao\"}),\n",
    "                      StructField('introduction', StringType(),True,metadata={\"comment\": \"Introduçao da Noticia\"}),\n",
    "                      StructField('link', StringType(),True,metadata={\"comment\": \"Link da Noticia\"}),\n",
    "                      StructField('product_id', StringType(),True,metadata={\"comment\": \"ID do produto\"}),\n",
    "                      StructField('products', StringType(),True,metadata={\"comment\": \"Produto\"}),\n",
    "                      StructField('relatedProducts', StringType(),True,metadata={\"comment\": \"Produtos relacionados\"}),\n",
    "                      StructField('type', StringType(),True,metadata={\"comment\": \"Tipo \"}),\n",
    "                      StructField('title', StringType(),True,metadata={\"comment\": \"Título da Noticia\"}),\n",
    "                      StructField('dateIngestion', TimestampType(),True,metadata={\"comment\": \"Data de Ingestão\"}),\n",
    "                      StructField('dt', StringType(),True,metadata={\"comment\": \"Data para partiçao\"})\n",
    "                            ])\n",
    "      ### Criando estrutura tabela Delta ###\n",
    "      df =  spark.createDataFrame(data= [],schema=schema)\n",
    "      print(f'Criando estrutura da tabela delta no caminho .. {self.silver_delta_path}')\n",
    "      df.write.format('delta').partitionBy('dt').save(f'{self.silver_delta_path}')\n",
    "      ####  FOI PRECISO CRIAR A TABELA A CADA EXECUÇÃO ,POIS, O CLUSTER DO DB COMMUNITY NAO SALVA AS INFORMAÇOES NO META STORE QDO O CLUSTER É DESLIGADO ######\n",
    "\n",
    "      ### Criando Data base  ###\n",
    "      sql = f\"\"\" CREATE DATABASE IF NOT EXISTS {db} \"\"\"\n",
    "      spark.sql(sql)\n",
    "      ### Criando tabela de metadadados db silver  ###\n",
    "      sql =  f\"\"\" DROP TABLE IF EXISTS {self.silver_delta_table}\"\"\"\n",
    "      spark.sql(sql)\n",
    "      print(sql)\n",
    "\n",
    "      sql =  f\"\"\" CREATE TABLE IF NOT EXISTS {self.silver_delta_table} USING DELTA LOCATION '{self.silver_delta_path}' \"\"\"\n",
    "      spark.sql(sql)\n",
    "      print(sql,'\\n')\n",
    "\n",
    "      print(f'Tabela {self.silver_delta_table}  criada com sucesso !!!\\n')\n",
    "     \n",
    "    else:\n",
    "      print(f'Tabela ===> {self.silver_delta_table}  ja foi anteriormente criada no caminho ===> {self.silver_delta_path}')\n",
    "      ### Criando Data base  ###\n",
    "      sql = f\"\"\" CREATE DATABASE IF NOT EXISTS {db} \"\"\"\n",
    "      spark.sql(sql)\n",
    "      ### Criando tabela de metadadados db silver  ###\n",
    "      sql =  f\"\"\" DROP TABLE IF EXISTS {self.silver_delta_table}\"\"\"\n",
    "      spark.sql(sql)\n",
    "      print(sql)\n",
    "\n",
    "      sql =  f\"\"\" CREATE TABLE IF NOT EXISTS {self.silver_delta_table} USING DELTA LOCATION '{self.silver_delta_path}' \"\"\"\n",
    "      spark.sql(sql)\n",
    "      print(sql,'\\n')\n",
    "\n",
    "      print(f'Tabela {self.silver_delta_table}  criada com sucesso !!!\\n')\n",
    "\n",
    "\n",
    "  def transform(self):\n",
    "    try:  \n",
    "      self.create_structured_delta_schema()\n",
    "      ## É feito um filtro de data por data inicial(a data mais recente da tabela bronze ou data mais antiga da tabela silver)\n",
    "      ## e data final (correpondente pela data corrente)\n",
    "      df = spark.table(self.source_delta_table).filter(to_date(substring(col('DTPROC'),1,8 ),'yyyyMMdd').between(f\"{self.dtstart}\",f\"{self.dtend}\"))\n",
    "      ### função de janela para efetuar a deduplicaçao dos dados   #####\n",
    "      row_numer_experssion = Window.partitionBy(col('id')).orderBy(col('DTPROC').desc())\n",
    "\n",
    "      df_stage = (df.withColumn('referenceMonthDate',trunc(to_date(col('data_publicacao'),'dd/MM/yyyy HH:mm:ss').cast('date'),'MM'))\n",
    "                  .withColumn('rownumber_wdw', row_number().over(row_numer_experssion)).filter(col(\"rownumber_wdw\") == 1)\n",
    "         )\n",
    "     \n",
    "      df_stage = (df_stage.withColumn('publicationDate',\n",
    "                             to_timestamp(col('data_publicacao'),'dd/MM/yyyy HH:mm:ss').cast('timestamp'))\n",
    "                  .withColumn('newsHighlight', col('destaque').cast('string'))\n",
    "                  .withColumn('editorials', col('editorias').cast('string'))\n",
    "                  .withColumn('images', col('imagens').cast('string'))\n",
    "                  .withColumn('introduction', col('introducao').cast('string'))\n",
    "                  .withColumn('product_id', col('produto_id').cast('string'))\n",
    "                  .withColumn('products', col('produtos').cast('string'))\n",
    "                  .withColumn('relatedProducts', col('produtos_relacionados').cast('string'))\n",
    "                  .withColumn('type', col('tipo').cast('string'))\n",
    "                  .withColumn('title', col('titulo').cast('string'))\n",
    "                  .withColumn('dateIngestion', lit(datetime.now() - timedelta(hours = 3)).cast('timestamp')) \n",
    "                  .withColumn('dt', lit(f\"{self.dt}\"))\n",
    "                  )\n",
    "    \n",
    "      df_final = (df_stage\n",
    "                  .select(                \n",
    "                    'referenceMonthDate',\n",
    "                    'id',\n",
    "                    'newsHighlight',\n",
    "                    'editorials',\n",
    "                    'imagens',\n",
    "                    'publicationDate',\n",
    "                    'introduction',\n",
    "                    'link',\n",
    "                    'product_id',\n",
    "                    'products', \n",
    "                    'relatedProducts',\n",
    "                    'type', \n",
    "                    'title',\n",
    "                    'dateIngestion',\n",
    "                    'dt'\n",
    "                    ) \n",
    "                )\n",
    "      return df_final\n",
    "\n",
    "    except Exception as error:    \n",
    "      raise ValueError(f\"{error}\")\n",
    "    \n",
    "  def save_silver(self):\n",
    "    try:\n",
    "      df_final = self.transform()\n",
    "\n",
    "      print('Inicio gravação tabela delta...\\n')\n",
    "      (DeltaTable.forPath(spark, self.silver_delta_path).alias(\"old\")\n",
    "       .merge(df_final.alias(\"new\"),\"old.id = new.id\")\n",
    "       .whenMatchedUpdateAll()\n",
    "       .whenNotMatchedInsertAll().execute()\n",
    "       )\n",
    "      print('Gravação finalizada com sucesso!!!')\n",
    "    except Exception as error: \n",
    "      raise ValueError(f\"{error}\")\n"
   ]
  },
  {
   "cell_type": "code",
   "execution_count": 0,
   "metadata": {
    "application/vnd.databricks.v1+cell": {
     "cellMetadata": {
      "byteLimit": 2048000,
      "rowLimit": 10000
     },
     "inputWidgets": {},
     "nuid": "4aad5a7b-fb91-4169-a6b2-71b9eb8f5c3f",
     "showTitle": false,
     "tableResultSettingsMap": {},
     "title": ""
    }
   },
   "outputs": [
    {
     "output_type": "stream",
     "name": "stdout",
     "output_type": "stream",
     "text": [
      "Tabela ===> silver.ibge_news  ja foi anteriormente criada no caminho ===> dbfs:/mnt/silver/\n DROP TABLE IF EXISTS silver.ibge_news\n CREATE TABLE IF NOT EXISTS silver.ibge_news USING DELTA LOCATION 'dbfs:/mnt/silver/'  \n\nTabela silver.ibge_news  criada com sucesso !!!\n\nInicio gravação tabela delta...\n\nGravação finalizada com sucesso!!!\n"
     ]
    }
   ],
   "source": [
    "silver_class = SilverIngestion(source_delta_table,silver_delta_table,silver_delta_path,DT_START,DT_END)\n",
    "silver_class.save_silver()"
   ]
  },
  {
   "cell_type": "code",
   "execution_count": 0,
   "metadata": {
    "application/vnd.databricks.v1+cell": {
     "cellMetadata": {
      "byteLimit": 2048000,
      "implicitDf": true,
      "rowLimit": 10000
     },
     "inputWidgets": {},
     "nuid": "cba87964-3146-4c1a-919a-1006810e6723",
     "showTitle": false,
     "tableResultSettingsMap": {},
     "title": ""
    }
   },
   "outputs": [
    {
     "output_type": "display_data",
     "data": {
      "text/html": [
       "<style scoped>\n",
       "  .table-result-container {\n",
       "    max-height: 300px;\n",
       "    overflow: auto;\n",
       "  }\n",
       "  table, th, td {\n",
       "    border: 1px solid black;\n",
       "    border-collapse: collapse;\n",
       "  }\n",
       "  th, td {\n",
       "    padding: 5px;\n",
       "  }\n",
       "  th {\n",
       "    text-align: left;\n",
       "  }\n",
       "</style><div class='table-result-container'><table class='table-result'><thead style='background-color: white'><tr><th>count(1)</th></tr></thead><tbody><tr><td>6156</td></tr></tbody></table></div>"
      ]
     },
     "metadata": {
      "application/vnd.databricks.v1+output": {
       "addedWidgets": {},
       "aggData": [],
       "aggError": "",
       "aggOverflow": false,
       "aggSchema": [],
       "aggSeriesLimitReached": false,
       "aggType": "",
       "arguments": {},
       "columnCustomDisplayInfos": {},
       "data": [
        [
         6156
        ]
       ],
       "datasetInfos": [],
       "dbfsResultPath": null,
       "isJsonSchema": true,
       "metadata": {
        "createTempViewForImplicitDf": true,
        "dataframeName": "_sqldf",
        "executionCount": 17
       },
       "overflow": false,
       "plotOptions": {
        "customPlotOptions": {},
        "displayType": "table",
        "pivotAggregation": null,
        "pivotColumns": null,
        "xColumns": null,
        "yColumns": null
       },
       "removedWidgets": [],
       "schema": [
        {
         "metadata": "{\"__autoGeneratedAlias\":\"true\"}",
         "name": "count(1)",
         "type": "\"long\""
        }
       ],
       "type": "table"
      }
     },
     "output_type": "display_data"
    }
   ],
   "source": [
    "%sql\n",
    "select count(*) from silver.ibge_news"
   ]
  },
  {
   "cell_type": "code",
   "execution_count": 0,
   "metadata": {
    "application/vnd.databricks.v1+cell": {
     "cellMetadata": {
      "byteLimit": 2048000,
      "rowLimit": 10000
     },
     "inputWidgets": {},
     "nuid": "ad8c42c2-82f4-4cfc-8832-deab6eedef69",
     "showTitle": false,
     "tableResultSettingsMap": {},
     "title": ""
    }
   },
   "outputs": [
    {
     "output_type": "execute_result",
     "data": {
      "text/plain": [
       "False"
      ]
     },
     "execution_count": 162,
     "metadata": {},
     "output_type": "execute_result"
    }
   ],
   "source": [
    "# spark.sql(\"Drop table if exists silver.ibge_news\")\n",
    "\n",
    "# dbutils.fs.rm('dbfs:/mnt/silver/',True)"
   ]
  },
  {
   "cell_type": "markdown",
   "metadata": {
    "application/vnd.databricks.v1+cell": {
     "cellMetadata": {},
     "inputWidgets": {},
     "nuid": "0c41e7d2-5187-481c-90b7-12f4b15ec34e",
     "showTitle": false,
     "tableResultSettingsMap": {},
     "title": ""
    }
   },
   "source": [
    "MONTAR E SELECIONAR DATAFRAME COM FUNÇAO DE JANELA E TRATAMENTO DE ALGUNS CAMPOS. (MUDAR NOMES PAFRA INGLES)"
   ]
  },
  {
   "cell_type": "code",
   "execution_count": 0,
   "metadata": {
    "application/vnd.databricks.v1+cell": {
     "cellMetadata": {
      "byteLimit": 2048000,
      "rowLimit": 10000
     },
     "inputWidgets": {},
     "nuid": "1ec9f100-a8b8-464c-866c-1e553e24310b",
     "showTitle": false,
     "tableResultSettingsMap": {},
     "title": ""
    }
   },
   "outputs": [
    {
     "output_type": "display_data",
     "data": {
      "text/html": [
       "<style scoped>\n",
       "  .table-result-container {\n",
       "    max-height: 300px;\n",
       "    overflow: auto;\n",
       "  }\n",
       "  table, th, td {\n",
       "    border: 1px solid black;\n",
       "    border-collapse: collapse;\n",
       "  }\n",
       "  th, td {\n",
       "    padding: 5px;\n",
       "  }\n",
       "  th {\n",
       "    text-align: left;\n",
       "  }\n",
       "</style><div class='table-result-container'><table class='table-result'><thead style='background-color: white'><tr><th>path</th><th>name</th><th>size</th><th>modificationTime</th></tr></thead><tbody><tr><td>dbfs:/mnt/silver/_delta_log/</td><td>_delta_log/</td><td>0</td><td>0</td></tr><tr><td>dbfs:/mnt/silver/dt=202501/</td><td>dt=202501/</td><td>0</td><td>0</td></tr></tbody></table></div>"
      ]
     },
     "metadata": {
      "application/vnd.databricks.v1+output": {
       "addedWidgets": {},
       "aggData": [],
       "aggError": "",
       "aggOverflow": false,
       "aggSchema": [],
       "aggSeriesLimitReached": false,
       "aggType": "",
       "arguments": {},
       "columnCustomDisplayInfos": {},
       "data": [
        [
         "dbfs:/mnt/silver/_delta_log/",
         "_delta_log/",
         0,
         0
        ],
        [
         "dbfs:/mnt/silver/dt=202501/",
         "dt=202501/",
         0,
         0
        ]
       ],
       "datasetInfos": [],
       "dbfsResultPath": null,
       "isJsonSchema": true,
       "metadata": {},
       "overflow": false,
       "plotOptions": {
        "customPlotOptions": {},
        "displayType": "table",
        "pivotAggregation": null,
        "pivotColumns": null,
        "xColumns": null,
        "yColumns": null
       },
       "removedWidgets": [],
       "schema": [
        {
         "metadata": "{}",
         "name": "path",
         "type": "\"string\""
        },
        {
         "metadata": "{}",
         "name": "name",
         "type": "\"string\""
        },
        {
         "metadata": "{}",
         "name": "size",
         "type": "\"long\""
        },
        {
         "metadata": "{}",
         "name": "modificationTime",
         "type": "\"long\""
        }
       ],
       "type": "table"
      }
     },
     "output_type": "display_data"
    }
   ],
   "source": [
    "# display(dbutils.fs.ls('dbfs:/mnt/silver/'))\n",
    "# display(dbutils.fs.ls('dbfs:/mnt/historic/bronze/202410/ibgeapipage_1_to_10_20241019_110702/'))\n",
    "\n",
    "## apagar pastas\n",
    "# dbutils.fs.rm('dbfs:/mnt/silver/',True)\n",
    "# dbutils.fs.rm('dbfs:/mnt/bronze/',True)\n",
    "# dbutils.fs.rm('dbfs:/mnt/historic/bronze/',True)\n",
    "# dbutils.fs.rm(silver_delta_path,True)"
   ]
  }
 ],
 "metadata": {
  "application/vnd.databricks.v1+notebook": {
   "computePreferences": null,
   "dashboards": [],
   "environmentMetadata": null,
   "language": "python",
   "notebookMetadata": {
    "mostRecentlyExecutedCommandWithImplicitDF": {
     "commandId": 4325707567173552,
     "dataframes": [
      "_sqldf"
     ]
    },
    "pythonIndentUnit": 2
   },
   "notebookName": "Silver_ingestion_run- camada SILVER",
   "widgets": {}
  }
 },
 "nbformat": 4,
 "nbformat_minor": 0
}
