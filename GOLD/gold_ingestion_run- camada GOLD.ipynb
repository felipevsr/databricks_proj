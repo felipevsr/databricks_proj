{
 "cells": [
  {
   "cell_type": "markdown",
   "metadata": {
    "application/vnd.databricks.v1+cell": {
     "cellMetadata": {
      "byteLimit": 2048000,
      "rowLimit": 10000
     },
     "inputWidgets": {},
     "nuid": "a192cbeb-1bc4-41f9-a264-e5d49cbbe34a",
     "showTitle": false,
     "tableResultSettingsMap": {},
     "title": ""
    }
   },
   "source": [
    "![gold LOGO](https://economictimes.indiatimes.com/thumb/msid-66701484,width-1200,height-900,resizemode-4,imgsize-148822/gold-4-ts.jpg?from=mdr)\n",
    "\n",
    "\n",
    "\n",
    "# CAMADA GOLD\n"
   ]
  },
  {
   "cell_type": "code",
   "execution_count": 0,
   "metadata": {
    "application/vnd.databricks.v1+cell": {
     "cellMetadata": {
      "byteLimit": 2048000,
      "rowLimit": 10000
     },
     "inputWidgets": {},
     "nuid": "cfcb871b-c7ac-4d87-80f3-282b44344307",
     "showTitle": false,
     "tableResultSettingsMap": {},
     "title": ""
    }
   },
   "outputs": [],
   "source": [
    "from delta.tables import *\n",
    "from pyspark.sql.types import *\n",
    "from pyspark.sql.functions import col\n",
    "import pytz\n",
    "from pyspark.sql.functions import lit\n",
    "from pyspark.sql import Window\n",
    "from pyspark.sql.functions import *\n",
    "from datetime import datetime , timedelta\n",
    "\n",
    "import requests\n",
    "import json\n",
    "\n",
    "'''\n",
    "Essa configuração permite que o Delta Lake faça automaticamente a evolução do esquema \n",
    "ao detectar mudanças no esquema dos dados durante operações de merge, update ou append, \n",
    "sem a necessidade de redefinir manualmente o esquema.\n",
    "'''\n",
    "spark.conf.set(\"spark.databricks.delta.schema.autoMerge.enabled\", \"true\")\n",
    "'''\n",
    "Essa configuração permite que o Delta Lake faça automaticamente a união de arquivos pequenos \n",
    "durante operações de escrita, reduzindo a fragmentação sem a necessidade de otimizações manuais frequentes\n",
    "'''\n",
    "spark.conf.set(\"spark.databricks.delta.autoCompact.enabled\", \"true\")\n",
    "'''\n",
    "Esse comando abaixo possibilita Time zone de São Paulo\n",
    "'''\n",
    "spark.conf.set(\"spark.sql.session.timeZone\", \"America/Sao_Paulo\")"
   ]
  },
  {
   "cell_type": "markdown",
   "metadata": {
    "application/vnd.databricks.v1+cell": {
     "cellMetadata": {
      "byteLimit": 2048000,
      "rowLimit": 10000
     },
     "inputWidgets": {},
     "nuid": "ab954579-a01e-4736-8026-7760025cbc0d",
     "showTitle": false,
     "tableResultSettingsMap": {},
     "title": ""
    }
   },
   "source": [
    "## PARÂMETROS"
   ]
  },
  {
   "cell_type": "code",
   "execution_count": 0,
   "metadata": {
    "application/vnd.databricks.v1+cell": {
     "cellMetadata": {
      "byteLimit": 2048000,
      "rowLimit": 10000
     },
     "inputWidgets": {},
     "nuid": "e9b44c65-b5a6-45d7-bcb0-e0502e696dfe",
     "showTitle": true,
     "tableResultSettingsMap": {},
     "title": "Parâmetros"
    }
   },
   "outputs": [
    {
     "output_type": "stream",
     "name": "stdout",
     "output_type": "stream",
     "text": [
      "##----------------------------##\nData e Horário de execusão             ===>  2025-02-14T09:23:28 \n\nDT_START                               ===>  2025-01-01 \nDT_END                                 ===>  2025-02-14\nBanco de Dados                         ===>  gold\nNome da Tabela                         ===>  ibge_news\nTabela gold a ser criada             ===>  gold.ibge_news\nCaminho da tabela gold a ser criada  ===>  dbfs:/mnt/gold/ \n\n##----------------------------##\nTabela de Origem                     ===> silver.ibge_news\n"
     ]
    }
   ],
   "source": [
    "try:\n",
    "  time_file = datetime.now(pytz.timezone('America/Sao_Paulo')).strftime('%Y-%m-%dT%H:%M:%S')\n",
    "  # DeltaTable.isDeltaTable(spark, gold_delta_path)\n",
    "\n",
    "  #### Nome  e caminho onde será feita a escrita da da tabela Delta  ##########\n",
    "  db = 'gold'\n",
    "  table = 'ibge_news'\n",
    "  gold_delta_table = f'{db}.{table}'\n",
    "  gold_delta_path = 'dbfs:/mnt/gold/'\n",
    "  DT_END = datetime.now().date()\n",
    "\n",
    "  #   DT_START = '2020-01-01'\n",
    "\n",
    "  if DeltaTable.isDeltaTable(spark,gold_delta_path):\n",
    "    DT_START = spark.sql(\"select cast(trunc(to_date(max(left(dateIngestion,10) ),'yyyy-MM-dd'),'MM') as string) from delta.`dbfs:/mnt/gold/` \").collect()[0][0]\n",
    "  else:\n",
    "    DT_START = spark.sql(\"select cast(trunc(to_date(min(left(dateIngestion,10 ) ),'yyyy-MM-dd'),'MM') as string) from delta.`dbfs:/mnt/silver/` \").collect()[0][0]\n",
    "\n",
    "  ### Sistema de origem ####\n",
    "  source_delta_table = 'silver.ibge_news'\n",
    "  \n",
    "  print(\"##----------------------------##\")\n",
    "  print(f\"Data e Horário de execusão             ===>  {time_file} \\n\")\n",
    "  print(f\"DT_START                               ===>  {DT_START} \")\n",
    "  print(f\"DT_END                                 ===>  {DT_END}\")\n",
    "  print(f\"Banco de Dados                         ===>  {db}\")\n",
    "  print(f\"Nome da Tabela                         ===>  {table}\")\n",
    "  print(f\"Tabela gold a ser criada             ===>  {gold_delta_table}\")\n",
    "  print(f\"Caminho da tabela gold a ser criada  ===>  {gold_delta_path} \\n\")\n",
    "  print(\"##----------------------------##\")\n",
    "  print(f\"Tabela de Origem                     ===> {source_delta_table}\")\n",
    "\n",
    "except Exception as e:\n",
    "  print(e)"
   ]
  },
  {
   "cell_type": "code",
   "execution_count": 0,
   "metadata": {
    "application/vnd.databricks.v1+cell": {
     "cellMetadata": {
      "byteLimit": 2048000,
      "rowLimit": 10000
     },
     "inputWidgets": {},
     "nuid": "1e0c6735-072e-48d0-9340-467f6b493a65",
     "showTitle": false,
     "tableResultSettingsMap": {},
     "title": ""
    }
   },
   "outputs": [],
   "source": [
    "class GoldIngestion:\n",
    "  def __init__(self,source_delta_table,gold_delta_table,gold_delta_path,dtstart,dtend):\n",
    "    self.source_delta_table = source_delta_table\n",
    "    self.gold_delta_table = gold_delta_table\n",
    "    self.gold_delta_path = gold_delta_path\n",
    "    self.dtstart = dtstart\n",
    "    self.dtend = dtend\n",
    "    self.dt = str(dtend).replace('-','')[0:6]\n",
    "\n",
    "  #### CRIANDO ESTRUTURA BASE DA TABELA DELTA (CAMADA GOLD) ####\n",
    "  def create_structured_delta_schema(self):\n",
    "\n",
    "    if not DeltaTable.isDeltaTable(spark,self.gold_delta_path):\n",
    "      print('Criando estrutura tabela Delta....\\n')\n",
    "      schema = StructType([\n",
    "\n",
    "                      StructField('referenceMonthDate',DateType(),True,metadata={\"comment\": \"Data do Mes de referencia\"}),\n",
    "                      StructField('id',LongType(),True,metadata={\"comment\": \"Identificador único da notícia\"}),\n",
    "                      StructField('newsHighlight', StringType(),True,metadata={\"comment\": \"Destaque\"}),\n",
    "                      StructField('editorials', StringType(),True,metadata={\"comment\": \"Editorial\"}),\n",
    "                      StructField('images', StringType(),True,metadata={\"comment\": \"Descrição das imagens\"}),\n",
    "                      StructField('publicationDate', TimestampType(),True,metadata={\"comment\": \"Data da publicaçao\"}),\n",
    "                      StructField('introduction', StringType(),True,metadata={\"comment\": \"Introduçao da Noticia\"}),\n",
    "                      StructField('link', StringType(),True,metadata={\"comment\": \"Link da Noticia\"}),\n",
    "                      StructField('product_id', StringType(),True,metadata={\"comment\": \"ID do produto\"}),\n",
    "                      StructField('products', StringType(),True,metadata={\"comment\": \"Produto\"}),\n",
    "                      StructField('relatedProducts', StringType(),True,metadata={\"comment\": \"Produtos relacionados\"}),\n",
    "                      StructField('type', StringType(),True,metadata={\"comment\": \"Tipo \"}),\n",
    "                      StructField('title', StringType(),True,metadata={\"comment\": \"Título da Noticia\"}),\n",
    "                      StructField('dateIngestion', TimestampType(),True,metadata={\"comment\": \"Data de Ingestão\"}),\n",
    "                      StructField('dt', StringType(),True,metadata={\"comment\": \"Data para partiçao\"})\n",
    "                            ])\n",
    "      ### Criando estrutura tabela Delta ###\n",
    "      df =  spark.createDataFrame(data= [],schema=schema)\n",
    "      print(f'Criando estrutura da tabela delta no caminho .. {self.gold_delta_path}')\n",
    "      df.write.format('delta').partitionBy('dt').save(f'{self.gold_delta_path}')\n",
    "      \n",
    "      print(f'Tabela ===> {self.gold_delta_table}  ja foi anteriormente criada no caminho ===> {self.gold_delta_path}')\n",
    "      ### Criando Data base  ###\n",
    "      sql = f\"\"\" CREATE DATABASE IF NOT EXISTS {db} \"\"\"\n",
    "      spark.sql(sql)\n",
    "      ### Criando tabela de metadadados db gold  ###\n",
    "      sql =  f\"\"\" DROP TABLE IF EXISTS {self.gold_delta_table}\"\"\"\n",
    "      spark.sql(sql)\n",
    "      print(sql)\n",
    "\n",
    "      sql =  f\"\"\" CREATE TABLE IF NOT EXISTS {self.gold_delta_table} USING DELTA LOCATION '{self.gold_delta_path}' \"\"\"\n",
    "      spark.sql(sql)\n",
    "      print(sql,'\\n')\n",
    "\n",
    "      print(f'Tabela {self.gold_delta_table}  criada com sucesso !!!\\n')\n",
    "      \n",
    "     \n",
    "    else:\n",
    "      print(f'Tabela ===> {self.gold_delta_table}  ja foi anteriormente criada no caminho ===> {self.gold_delta_path}')\n",
    "      ### Criando Data base  ###\n",
    "      sql = f\"\"\" CREATE DATABASE IF NOT EXISTS {db} \"\"\"\n",
    "      spark.sql(sql)\n",
    "      ### Criando tabela de metadadados db gold  ###\n",
    "      sql =  f\"\"\" DROP TABLE IF EXISTS {self.gold_delta_table}\"\"\"\n",
    "      spark.sql(sql)\n",
    "      print(sql)\n",
    "\n",
    "      sql =  f\"\"\" CREATE TABLE IF NOT EXISTS {self.gold_delta_table} USING DELTA LOCATION '{self.gold_delta_path}' \"\"\"\n",
    "      spark.sql(sql)\n",
    "      print(sql,'\\n')\n",
    "\n",
    "      print(f'Tabela {self.gold_delta_table}  criada com sucesso !!!\\n')\n",
    "\n",
    "  #### MUDANDO O DATATYPE DOS CAMPOS IDENTIFICADOS DE STRING PARA MAP(JSON) ####\n",
    "  def campos_json(self):\n",
    "    try:\n",
    "      print('Iniciando ... campos_json')\n",
    "      df_silver = spark.table(f'{self.source_delta_table}').filter(substring(col('dateIngestion'),1,10).cast('date').between(f'{self.dtstart}',f'{self.dtend}') )\n",
    "      ### Vericar com antecedencia na tabela silver campos com estrutura json ###(Não ocorre erro caso a lista estiver vazia)\n",
    "      list_columns = ['imagens']\n",
    "      # list_columns = []\n",
    "\n",
    "      if len(list_columns) > 0:\n",
    "        for column in df_silver.dtypes:\n",
    "          if column[0] in list_columns:\n",
    "            print(f'Criando estrutura JSON do campo == > {column[0]}')\n",
    "            df_silver = df_silver.withColumn(f'{column[0]}_dict',from_json(f'{column[0]}',MapType(StringType(),StringType())))\n",
    "            return  df_silver\n",
    "      else:\n",
    "        df_silver = spark.table(f'{self.source_delta_table}').filter(substring(col('dateIngestion'),1,10).cast('date').between(f'{self.dtstart}',f'{self.dtend}') )\n",
    "        return df_silver\n",
    "    except Exception as error:\n",
    "      raise ValueError(f\"{error}\")\n",
    "\n",
    "  #### FAZENDO A SEPARAÃO DOS CAMPOS QUE ESTÃO ANINHADOS EM UM CAMPO JSON, PARA CAMPOS INDIVIDUAIS ####\n",
    "  def newColumns(self):\n",
    "    ### Faz a separação de todos os campos dentro da do campo Json identificado  ###\n",
    "    from pyspark.sql.functions import col\n",
    "    df = self.campos_json()\n",
    "    try:\n",
    "      print('Iniciando ... newColumns')\n",
    "      all_new_columns = []\n",
    "      for column in df.dtypes:\n",
    "        if column[1].startswith('map'):\n",
    "          print(column[0],column[1],'\\n')\n",
    "          max_columns = df.select(max(map_keys(column[0])) ).collect()[0][0]\n",
    "          all_new_columns.extend([col(f'{column[0]}.'+ cols).alias(f'{cols}') for cols in max_columns])\n",
    "\n",
    "\n",
    "      return all_new_columns ,df\n",
    "    \n",
    "    except Exception as error:\n",
    "      raise ValueError(f\"{error}\")\n",
    "\n",
    "  #### SELECIONANDO OS CAMPOS PARA GRAVAÇAO DA TABELA DELTA. E ADICIONANDO OS CAMPOS QUE ESTAVAM COMO JSON PARA CAMPOS ÚNICOS E INDIVIDUAIS(all_new_columns) ####\n",
    "  def transform_gold(self):\n",
    "     all_new_columns,df = self.newColumns()\n",
    "\n",
    "     df_final = (df.withColumn('dt',lit(f\"{self.dt}\"))\n",
    "                   .withColumn('dateIngestion',current_timestamp())\n",
    "                   .select( 'referenceMonthDate'\n",
    "                            ,'id'\n",
    "                            ,'newsHighlight'\n",
    "                            ,'editorials'\n",
    "                            ,'images'\n",
    "                            ,'publicationDate'\n",
    "                            ,'introduction'\n",
    "                            ,'link'\n",
    "                            ,'product_id'\n",
    "                            ,'products'\n",
    "                            ,'relatedProducts'\n",
    "                            ,'type'\n",
    "                            ,'title'\n",
    "                            ,'dateIngestion'\n",
    "                            ,'dt'\n",
    "                            ,*all_new_columns\n",
    "                         )\n",
    "                 )\n",
    "\n",
    "     print('Inicio gravação tabela delta...\\n')\n",
    "     (DeltaTable.forPath(spark, self.gold_delta_path).alias(\"old\")\n",
    "       .merge(df_final.alias(\"new\"),\"old.id = new.id and old.dt = new.dt\")\n",
    "       .whenMatchedUpdateAll()\n",
    "       .whenNotMatchedInsertAll()\n",
    "       .execute()\n",
    "      )\n",
    "     print('Gravação finalizada com sucesso!!!')\n",
    "     \n",
    "  \n",
    "  def save_gold(self):\n",
    "    self.create_structured_delta_schema()\n",
    "    self.transform_gold()\n"
   ]
  },
  {
   "cell_type": "code",
   "execution_count": 0,
   "metadata": {
    "application/vnd.databricks.v1+cell": {
     "cellMetadata": {
      "byteLimit": 2048000,
      "rowLimit": 10000
     },
     "inputWidgets": {},
     "nuid": "a63cc637-d2d8-42fb-9afe-e7f4ac44699b",
     "showTitle": false,
     "tableResultSettingsMap": {},
     "title": ""
    }
   },
   "outputs": [
    {
     "output_type": "stream",
     "name": "stdout",
     "output_type": "stream",
     "text": [
      "Criando estrutura tabela Delta....\n\nCriando estrutura da tabela delta no caminho .. dbfs:/mnt/gold/\nTabela ===> gold.ibge_news  ja foi anteriormente criada no caminho ===> dbfs:/mnt/gold/\n DROP TABLE IF EXISTS gold.ibge_news\n CREATE TABLE IF NOT EXISTS gold.ibge_news USING DELTA LOCATION 'dbfs:/mnt/gold/'  \n\nTabela gold.ibge_news  criada com sucesso !!!\n\nIniciando ... campos_json\nCriando estrutura JSON do campo == > imagens\nIniciando ... newColumns\nimagens_dict map<string,string> \n\nInicio gravação tabela delta...\n\nGravação finalizada com sucesso!!!\n"
     ]
    }
   ],
   "source": [
    "gold_class = GoldIngestion(source_delta_table,gold_delta_table,gold_delta_path,DT_START,DT_END)\n",
    "# df = gold_class.save_gold()\n",
    "gold_class.save_gold()"
   ]
  },
  {
   "cell_type": "code",
   "execution_count": 0,
   "metadata": {
    "application/vnd.databricks.v1+cell": {
     "cellMetadata": {
      "byteLimit": 2048000,
      "implicitDf": true,
      "rowLimit": 10000
     },
     "inputWidgets": {},
     "nuid": "0fdaf3fa-71ca-4e46-83f6-6ed9858e9867",
     "showTitle": false,
     "tableResultSettingsMap": {},
     "title": ""
    }
   },
   "outputs": [
    {
     "output_type": "display_data",
     "data": {
      "text/html": [
       "<style scoped>\n",
       "  .table-result-container {\n",
       "    max-height: 300px;\n",
       "    overflow: auto;\n",
       "  }\n",
       "  table, th, td {\n",
       "    border: 1px solid black;\n",
       "    border-collapse: collapse;\n",
       "  }\n",
       "  th, td {\n",
       "    padding: 5px;\n",
       "  }\n",
       "  th {\n",
       "    text-align: left;\n",
       "  }\n",
       "</style><div class='table-result-container'><table class='table-result'><thead style='background-color: white'><tr><th>referenceMonthDate</th><th>id</th><th>newsHighlight</th><th>editorials</th><th>images</th><th>publicationDate</th><th>introduction</th><th>link</th><th>product_id</th><th>products</th><th>relatedProducts</th><th>type</th><th>title</th><th>dateIngestion</th><th>dt</th><th>image_intro</th><th>float_intro</th><th>image_intro_alt</th><th>image_intro_caption</th><th>image_fulltext</th><th>float_fulltext</th><th>image_fulltext_alt</th><th>image_fulltext_caption</th></tr></thead><tbody><tr><td>2017-04-01</td><td>9401</td><td>false</td><td>sociais</td><td>null</td><td>2017-04-28T07:54:00-03:00</td><td>Indicador / Período Jan - Fev - Mar2017 Out - Nov - Dez2016 Jan - Fev - Mar2016 Taxa de desocupação 13,7% 12,0% 10,9% Rendimento real habitual R$ 2.110 R$$ 2.064 R$ 2.059 Valor do rendimento real habitual em relação a: estável estável A taxa de...</td><td>http://agenciadenoticias.ibge.gov.br/agencia-sala-de-imprensa/2013-agencia-de-noticias/releases/9401-pnad-continua-taxa-de-desocupacao-vai-a-13-7-no-trimestre-encerrado-em-marco-de-2017.html</td><td>9171</td><td>9171|Divulgação mensal#pnadc1|pesquisa-nacional-por-amostra-de-domicilios-continua-mensal|2511</td><td>9171</td><td>Release</td><td>PNAD Contínua: taxa de desocupação vai a 13,7% no trimestre encerrado em março de 2017</td><td>2025-02-14T09:23:37.347-03:00</td><td>202502</td><td>images/agenciadenoticias/00000032854504152017453428948368.JPG</td><td></td><td></td><td></td><td></td><td></td><td></td><td></td></tr><tr><td>2017-04-01</td><td>9403</td><td>false</td><td>economicas</td><td>null</td><td>2017-04-27T08:11:00-03:00</td><td>Março de 2017 0,09% Fevereiro de 2017 -0,45% Março de 2016 -1,20% Acumulado do ano -0,05% Acumulado em 12 meses 2,85% Em março, os preços da Indústria Geral variaram, em média, 0,09% em relação a fevereiro, acima do observado na comparação entre...</td><td>http://agenciadenoticias.ibge.gov.br/agencia-sala-de-imprensa/2013-agencia-de-noticias/releases/9403-indice-de-precos-ao-produtor-de-marco-foi-de-0-09.html</td><td>9282</td><td>9282|Índice de Preços ao Produtor - Indústrias Extrativas e de Transformação|indice-de-precos-ao-produtor-industrias-extrativas-e-de-transformacao|2081</td><td>9282</td><td>Release</td><td>Índice de Preços ao Produtor de março foi de 0,09%</td><td>2025-02-14T09:23:37.347-03:00</td><td>202502</td><td>images/agenciadenoticias/00000032812704132017275927578538.JPG</td><td></td><td></td><td></td><td></td><td></td><td></td><td></td></tr><tr><td>2017-05-01</td><td>9406</td><td>false</td><td>economicas</td><td>null</td><td>2017-05-02T23:07:00-03:00</td><td>Período Produção industrial Março 2017 / Fevereiro 2017 -1,8% Março 2017 / Março 2016 1,1% Acumulado em 2017 0,6% Acumulado em 12 meses -3,8% Média móvel trimestral -0,7% Em março de 2017, a produção industrial nacional mostrou redução de 1,8% frente a...</td><td>http://agenciadenoticias.ibge.gov.br/agencia-sala-de-imprensa/2013-agencia-de-noticias/releases/9406-producao-industrial-cai-1-8-em-marco.html</td><td>0</td><td></td><td></td><td>Release</td><td>Produção industrial cai 1,8% em março</td><td>2025-02-14T09:23:37.347-03:00</td><td>202502</td><td>images/agenciadenoticias/00000032883905142017395003315045.JPG</td><td></td><td></td><td></td><td></td><td></td><td></td><td></td></tr><tr><td>2017-04-01</td><td>9413</td><td>false</td><td>economicas</td><td>null</td><td>2017-04-20T06:45:00-03:00</td><td>PERÍODO TAXA Abril 0,21% Março 0,15% Abril 2016 0,51% Acumulado no ano 1,22% Acumulado em 12 meses 4,41% O Índice Nacional de Preços ao Consumidor Amplo 15 (IPCA-15) teve variação de 0,21% em abril e ficou acima da taxa de 0,15% de março em 0,06 ponto...</td><td>http://agenciadenoticias.ibge.gov.br/agencia-sala-de-imprensa/2013-agencia-de-noticias/releases/9413-em-abril-ipca-15-fica-em-0-21.html</td><td>9260</td><td>9260|Índice Nacional de Preços ao Consumidor Amplo 15|indice-nacional-de-precos-ao-consumidor-amplo-15|2213</td><td>9260</td><td>Release</td><td>Em abril, IPCA-15 fica em 0,21%</td><td>2025-02-14T09:23:37.347-03:00</td><td>202502</td><td>images/00000032751704112017170920839529.png</td><td></td><td></td><td></td><td></td><td></td><td></td><td></td></tr><tr><td>2017-04-01</td><td>9416</td><td>false</td><td>economicas</td><td>null</td><td>2017-04-12T07:13:00-03:00</td><td>Período Varejo Varejo Ampliado Volume de vendas Receita nominal Volume de vendas Receita nominal Fevereiro/Janeiro -0,2 0,1 1,4 1,0 Média móvel trimestral* 1,0 0,5 1,5 1,0 Fevereiro 2017 / Fevereiro 2016 -3,2 0,4 -4,2 -1,7 Acumulado 2017 -2,2 2,1 -2,1...</td><td>http://agenciadenoticias.ibge.gov.br/agencia-sala-de-imprensa/2013-agencia-de-noticias/releases/9416-vendas-no-varejo-variam-0-2-em-fevereiro-em-relacao-a-janeiro-2.html</td><td>9227</td><td>9227|Pesquisa Mensal de Comércio|pesquisa-mensal-de-comercio|2075</td><td>9227</td><td>Release</td><td>Vendas no varejo variam -0,2% em fevereiro em relação a janeiro</td><td>2025-02-14T09:23:37.347-03:00</td><td>202502</td><td>images/agenciadenoticias/00000032692604102017262412627846.png</td><td></td><td></td><td></td><td></td><td></td><td></td><td></td></tr></tbody></table></div>"
      ]
     },
     "metadata": {
      "application/vnd.databricks.v1+output": {
       "addedWidgets": {},
       "aggData": [],
       "aggError": "",
       "aggOverflow": false,
       "aggSchema": [],
       "aggSeriesLimitReached": false,
       "aggType": "",
       "arguments": {},
       "columnCustomDisplayInfos": {},
       "data": [
        [
         "2017-04-01",
         9401,
         "false",
         "sociais",
         null,
         "2017-04-28T07:54:00-03:00",
         "Indicador / Período Jan - Fev - Mar2017 Out - Nov - Dez2016 Jan - Fev - Mar2016 Taxa de desocupação 13,7% 12,0% 10,9% Rendimento real habitual R$ 2.110 R$$ 2.064 R$ 2.059 Valor do rendimento real habitual em relação a: estável estável A taxa de...",
         "http://agenciadenoticias.ibge.gov.br/agencia-sala-de-imprensa/2013-agencia-de-noticias/releases/9401-pnad-continua-taxa-de-desocupacao-vai-a-13-7-no-trimestre-encerrado-em-marco-de-2017.html",
         "9171",
         "9171|Divulgação mensal#pnadc1|pesquisa-nacional-por-amostra-de-domicilios-continua-mensal|2511",
         "9171",
         "Release",
         "PNAD Contínua: taxa de desocupação vai a 13,7% no trimestre encerrado em março de 2017",
         "2025-02-14T09:23:37.347-03:00",
         "202502",
         "images/agenciadenoticias/00000032854504152017453428948368.JPG",
         "",
         "",
         "",
         "",
         "",
         "",
         ""
        ],
        [
         "2017-04-01",
         9403,
         "false",
         "economicas",
         null,
         "2017-04-27T08:11:00-03:00",
         "Março de 2017 0,09% Fevereiro de 2017 -0,45% Março de 2016 -1,20% Acumulado do ano -0,05% Acumulado em 12 meses 2,85% Em março, os preços da Indústria Geral variaram, em média, 0,09% em relação a fevereiro, acima do observado na comparação entre...",
         "http://agenciadenoticias.ibge.gov.br/agencia-sala-de-imprensa/2013-agencia-de-noticias/releases/9403-indice-de-precos-ao-produtor-de-marco-foi-de-0-09.html",
         "9282",
         "9282|Índice de Preços ao Produtor - Indústrias Extrativas e de Transformação|indice-de-precos-ao-produtor-industrias-extrativas-e-de-transformacao|2081",
         "9282",
         "Release",
         "Índice de Preços ao Produtor de março foi de 0,09%",
         "2025-02-14T09:23:37.347-03:00",
         "202502",
         "images/agenciadenoticias/00000032812704132017275927578538.JPG",
         "",
         "",
         "",
         "",
         "",
         "",
         ""
        ],
        [
         "2017-05-01",
         9406,
         "false",
         "economicas",
         null,
         "2017-05-02T23:07:00-03:00",
         "Período Produção industrial Março 2017 / Fevereiro 2017 -1,8% Março 2017 / Março 2016 1,1% Acumulado em 2017 0,6% Acumulado em 12 meses -3,8% Média móvel trimestral -0,7% Em março de 2017, a produção industrial nacional mostrou redução de 1,8% frente a...",
         "http://agenciadenoticias.ibge.gov.br/agencia-sala-de-imprensa/2013-agencia-de-noticias/releases/9406-producao-industrial-cai-1-8-em-marco.html",
         "0",
         "",
         "",
         "Release",
         "Produção industrial cai 1,8% em março",
         "2025-02-14T09:23:37.347-03:00",
         "202502",
         "images/agenciadenoticias/00000032883905142017395003315045.JPG",
         "",
         "",
         "",
         "",
         "",
         "",
         ""
        ],
        [
         "2017-04-01",
         9413,
         "false",
         "economicas",
         null,
         "2017-04-20T06:45:00-03:00",
         "PERÍODO TAXA Abril 0,21% Março 0,15% Abril 2016 0,51% Acumulado no ano 1,22% Acumulado em 12 meses 4,41% O Índice Nacional de Preços ao Consumidor Amplo 15 (IPCA-15) teve variação de 0,21% em abril e ficou acima da taxa de 0,15% de março em 0,06 ponto...",
         "http://agenciadenoticias.ibge.gov.br/agencia-sala-de-imprensa/2013-agencia-de-noticias/releases/9413-em-abril-ipca-15-fica-em-0-21.html",
         "9260",
         "9260|Índice Nacional de Preços ao Consumidor Amplo 15|indice-nacional-de-precos-ao-consumidor-amplo-15|2213",
         "9260",
         "Release",
         "Em abril, IPCA-15 fica em 0,21%",
         "2025-02-14T09:23:37.347-03:00",
         "202502",
         "images/00000032751704112017170920839529.png",
         "",
         "",
         "",
         "",
         "",
         "",
         ""
        ],
        [
         "2017-04-01",
         9416,
         "false",
         "economicas",
         null,
         "2017-04-12T07:13:00-03:00",
         "Período Varejo Varejo Ampliado Volume de vendas Receita nominal Volume de vendas Receita nominal Fevereiro/Janeiro -0,2 0,1 1,4 1,0 Média móvel trimestral* 1,0 0,5 1,5 1,0 Fevereiro 2017 / Fevereiro 2016 -3,2 0,4 -4,2 -1,7 Acumulado 2017 -2,2 2,1 -2,1...",
         "http://agenciadenoticias.ibge.gov.br/agencia-sala-de-imprensa/2013-agencia-de-noticias/releases/9416-vendas-no-varejo-variam-0-2-em-fevereiro-em-relacao-a-janeiro-2.html",
         "9227",
         "9227|Pesquisa Mensal de Comércio|pesquisa-mensal-de-comercio|2075",
         "9227",
         "Release",
         "Vendas no varejo variam -0,2% em fevereiro em relação a janeiro",
         "2025-02-14T09:23:37.347-03:00",
         "202502",
         "images/agenciadenoticias/00000032692604102017262412627846.png",
         "",
         "",
         "",
         "",
         "",
         "",
         ""
        ]
       ],
       "datasetInfos": [],
       "dbfsResultPath": null,
       "isJsonSchema": true,
       "metadata": {
        "createTempViewForImplicitDf": true,
        "dataframeName": "_sqldf",
        "executionCount": 35
       },
       "overflow": false,
       "plotOptions": {
        "customPlotOptions": {},
        "displayType": "table",
        "pivotAggregation": null,
        "pivotColumns": null,
        "xColumns": null,
        "yColumns": null
       },
       "removedWidgets": [],
       "schema": [
        {
         "metadata": "{\"comment\":\"Data do Mes de referencia\"}",
         "name": "referenceMonthDate",
         "type": "\"date\""
        },
        {
         "metadata": "{\"comment\":\"Identificador único da notícia\"}",
         "name": "id",
         "type": "\"long\""
        },
        {
         "metadata": "{\"comment\":\"Destaque\"}",
         "name": "newsHighlight",
         "type": "\"string\""
        },
        {
         "metadata": "{\"comment\":\"Editorial\"}",
         "name": "editorials",
         "type": "\"string\""
        },
        {
         "metadata": "{\"comment\":\"Descrição das imagens\"}",
         "name": "images",
         "type": "\"string\""
        },
        {
         "metadata": "{\"comment\":\"Data da publicaçao\"}",
         "name": "publicationDate",
         "type": "\"timestamp\""
        },
        {
         "metadata": "{\"comment\":\"Introduçao da Noticia\"}",
         "name": "introduction",
         "type": "\"string\""
        },
        {
         "metadata": "{\"comment\":\"Link da Noticia\"}",
         "name": "link",
         "type": "\"string\""
        },
        {
         "metadata": "{\"comment\":\"ID do produto\"}",
         "name": "product_id",
         "type": "\"string\""
        },
        {
         "metadata": "{\"comment\":\"Produto\"}",
         "name": "products",
         "type": "\"string\""
        },
        {
         "metadata": "{\"comment\":\"Produtos relacionados\"}",
         "name": "relatedProducts",
         "type": "\"string\""
        },
        {
         "metadata": "{\"comment\":\"Tipo \"}",
         "name": "type",
         "type": "\"string\""
        },
        {
         "metadata": "{\"comment\":\"Título da Noticia\"}",
         "name": "title",
         "type": "\"string\""
        },
        {
         "metadata": "{\"comment\":\"Data de Ingestão\"}",
         "name": "dateIngestion",
         "type": "\"timestamp\""
        },
        {
         "metadata": "{\"comment\":\"Data para partiçao\"}",
         "name": "dt",
         "type": "\"string\""
        },
        {
         "metadata": "{}",
         "name": "image_intro",
         "type": "\"string\""
        },
        {
         "metadata": "{}",
         "name": "float_intro",
         "type": "\"string\""
        },
        {
         "metadata": "{}",
         "name": "image_intro_alt",
         "type": "\"string\""
        },
        {
         "metadata": "{}",
         "name": "image_intro_caption",
         "type": "\"string\""
        },
        {
         "metadata": "{}",
         "name": "image_fulltext",
         "type": "\"string\""
        },
        {
         "metadata": "{}",
         "name": "float_fulltext",
         "type": "\"string\""
        },
        {
         "metadata": "{}",
         "name": "image_fulltext_alt",
         "type": "\"string\""
        },
        {
         "metadata": "{}",
         "name": "image_fulltext_caption",
         "type": "\"string\""
        }
       ],
       "type": "table"
      }
     },
     "output_type": "display_data"
    }
   ],
   "source": [
    "%sql\n",
    "select * from gold.ibge_news limit 5"
   ]
  }
 ],
 "metadata": {
  "application/vnd.databricks.v1+notebook": {
   "computePreferences": null,
   "dashboards": [],
   "environmentMetadata": {
    "base_environment": "",
    "client": "1"
   },
   "language": "python",
   "notebookMetadata": {
    "mostRecentlyExecutedCommandWithImplicitDF": {
     "commandId": 2667264808988914,
     "dataframes": [
      "_sqldf"
     ]
    },
    "pythonIndentUnit": 2
   },
   "notebookName": "gold_ingestion_run- camada GOLD",
   "widgets": {}
  }
 },
 "nbformat": 4,
 "nbformat_minor": 0
}
