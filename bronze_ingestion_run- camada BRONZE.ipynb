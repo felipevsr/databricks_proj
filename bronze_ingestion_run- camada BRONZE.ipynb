{
 "cells": [
  {
   "cell_type": "markdown",
   "metadata": {
    "application/vnd.databricks.v1+cell": {
     "cellMetadata": {},
     "inputWidgets": {},
     "nuid": "5d88f59b-8e91-427b-883e-8ff736ea66ef",
     "showTitle": false,
     "title": ""
    }
   },
   "source": [
    "![IBGE LOGO](https://s3-sa-east-1.amazonaws.com/arrematearte-farm/cristinagoston/lot_photos/11920/e2b04faba30f14f269a12c88c1dffc839e637495_ml.jpg)\n",
    "\n",
    "\n",
    "\n",
    "# CAMADA BRONZE"
   ]
  },
  {
   "cell_type": "code",
   "execution_count": 0,
   "metadata": {
    "application/vnd.databricks.v1+cell": {
     "cellMetadata": {
      "byteLimit": 2048000,
      "rowLimit": 10000
     },
     "inputWidgets": {},
     "nuid": "74f8bbe4-6465-49e0-9d6e-40c8c2b9047d",
     "showTitle": true,
     "title": "Imports"
    }
   },
   "outputs": [],
   "source": [
    "from delta.tables import *\n",
    "from pyspark.sql.types import *\n",
    "from pyspark.sql.functions import col\n",
    "import pytz\n",
    "from pyspark.sql.functions import lit\n",
    "from pyspark.sql import Window\n",
    "from pyspark.sql.functions import *\n",
    "from datetime import datetime\n",
    "\n",
    "import requests\n",
    "import json"
   ]
  },
  {
   "cell_type": "code",
   "execution_count": 0,
   "metadata": {
    "application/vnd.databricks.v1+cell": {
     "cellMetadata": {
      "byteLimit": 2048000,
      "rowLimit": 10000
     },
     "inputWidgets": {},
     "nuid": "cb9a66a9-c7f5-4199-af71-23ae10eea3e4",
     "showTitle": true,
     "title": "Variaveis"
    }
   },
   "outputs": [
    {
     "output_type": "stream",
     "name": "stdout",
     "output_type": "stream",
     "text": [
      "##----------------------------##\nData e Horário de execusão             ===> 20241026_100659 \n\nTabela bronze a ser criada             ===>  bronze.ibge_news\nCaminho da tabela Bronze a ser criada  ===> dbfs:/mnt/bronze/ \n\n##----------------------------##\nSistema de origem                      ===> dbfs:/mnt/raw_3/\nCaminho para gravação do histórico     ===> dbfs:/mnt/historic/bronze/\n"
     ]
    }
   ],
   "source": [
    "try:\n",
    "  time_file = datetime.now(pytz.timezone('America/Sao_Paulo')).strftime('%Y%m%d_%H%M%S')\n",
    "  # DeltaTable.isDeltaTable(spark, bronze_delta_path)\n",
    "\n",
    "  #### Nome  e caminho onde será feita a escrita da da tabela Delta  ##########\n",
    "  db = 'bronze.'\n",
    "  table = 'ibge_news'\n",
    "  delta_table = f'{db}{table}'\n",
    "  bronze_delta_path = 'dbfs:/mnt/bronze/'\n",
    "\n",
    "  ### Sistema de origem ####\n",
    "  source_system_path = 'dbfs:/mnt/raw_3/'\n",
    "\n",
    "  ### caminho para gravação do histórico ###\n",
    "  historic_path = 'dbfs:/mnt/historic/bronze/'\n",
    "  \n",
    "  print(\"##----------------------------##\")\n",
    "  print(f\"Data e Horário de execusão             ===> {time_file} \\n\")\n",
    "  print(f\"Tabela bronze a ser criada             ===>  {delta_table}\")\n",
    "  print(f\"Caminho da tabela Bronze a ser criada  ===> {bronze_delta_path} \\n\")\n",
    "  print(\"##----------------------------##\")\n",
    "  print(f\"Sistema de origem                      ===> {source_system_path}\")\n",
    "  print(f\"Caminho para gravação do histórico     ===> {historic_path}\")\n",
    "except Exception as e:\n",
    "  print(e)"
   ]
  },
  {
   "cell_type": "markdown",
   "metadata": {
    "application/vnd.databricks.v1+cell": {
     "cellMetadata": {},
     "inputWidgets": {},
     "nuid": "44fc1e2c-d501-4c64-bb68-9d0cc3792705",
     "showTitle": false,
     "title": ""
    }
   },
   "source": [
    "### Listando arquivos camada RAW"
   ]
  },
  {
   "cell_type": "markdown",
   "metadata": {
    "application/vnd.databricks.v1+cell": {
     "cellMetadata": {},
     "inputWidgets": {},
     "nuid": "996bf487-9b3d-456a-9b1a-5f00585086dd",
     "showTitle": false,
     "title": ""
    }
   },
   "source": [
    "### Separando Arquivos de 10 em 10"
   ]
  },
  {
   "cell_type": "markdown",
   "metadata": {
    "application/vnd.databricks.v1+cell": {
     "cellMetadata": {},
     "inputWidgets": {},
     "nuid": "a8e628d7-d776-49bd-9779-08436a5e6968",
     "showTitle": false,
     "title": ""
    }
   },
   "source": [
    "### Criando Classe de Ingestao na Bronze"
   ]
  },
  {
   "cell_type": "code",
   "execution_count": 0,
   "metadata": {
    "application/vnd.databricks.v1+cell": {
     "cellMetadata": {
      "byteLimit": 2048000,
      "rowLimit": 10000
     },
     "inputWidgets": {},
     "nuid": "4daf0652-140a-45df-98ad-9d2d7681f688",
     "showTitle": false,
     "title": ""
    }
   },
   "outputs": [],
   "source": [
    "class BronzeIngestion:\n",
    "\n",
    "  def __init__(self,db,table,bronze_delta_path,source_system_path,historic_path):\n",
    "    self.db                 = db\n",
    "    self.table              = table\n",
    "    self.delta_table        = f\"{self.db}.{self.table}\"\n",
    "    self.bronze_delta_path  = bronze_delta_path\n",
    "    self.source_system_path = source_system_path\n",
    "    self.historic_path      = historic_path\n",
    "\n",
    "  ### Listando arquivos camada RAW   ####\n",
    "  def list_all_files(self):\n",
    "    try:\n",
    "      #### Faz a comparação entre Raw e histórico caso ja existam arquivos no Historico  ####\n",
    "      ################################################################################\n",
    "      \n",
    "      #### Lista de arquivos da Raw ####\n",
    "      lst_folder_date = [lst_date.name.replace('/','') for lst_date in dbutils.fs.ls(f'{self.source_system_path}') if lst_date.name.replace('/','').isnumeric() ]\n",
    "      lst_folder_date.sort()\n",
    "      raw_set = {files.path.split('/')[-2] for files in dbutils.fs.ls(f'{self.source_system_path}{lst_folder_date[-1]}/')} \n",
    "      ### Lista de arquivos Historico   ####\n",
    "      lst_folder_date_historic = [lst_date.name.replace('/','') for lst_date in dbutils.fs.ls(f'{self.historic_path}') if lst_date.name.replace('/','').isnumeric()  ]\n",
    "      lst_folder_date_historic.sort()\n",
    "      historic_set = {files.path.split('/')[-2]  for files in dbutils.fs.ls(f'{self.historic_path}{lst_folder_date_historic[-1]}/')}\n",
    "\n",
    "      all_files = [f'{self.source_system_path}{lst_folder_date[-1]}/{files}'  for files in list(raw_set.symmetric_difference(historic_set))]\n",
    "      print(f'Número de arquivos para ingestão == > {len(all_files)}')\n",
    "      return all_files\n",
    "\n",
    "    except:\n",
    "      try:\n",
    "        #### Caso naõa existm arquivos no histórico é listado todos arquivos na Raw ####\n",
    "        ################################################################################\n",
    "        ## Verifica a pasta data mais recente ###\n",
    "        lst_folder_date = [lst_date.name.replace('/','') for lst_date in dbutils.fs.ls(f'{self.source_system_path}')]\n",
    "        lst_folder_date.sort()\n",
    "        ### self.source_system_path => sistema de origem   ####\n",
    "        all_files = []\n",
    "        for files in dbutils.fs.ls(f'{self.source_system_path}{lst_folder_date[-1]}/'):\n",
    "          all_files.append([files.path,files.path.split(\"_\")[-1].replace(\"/\",\"\")])\n",
    "        all_files.sort(key = lambda pos:pos[1])\n",
    "        # print(all_files)\n",
    "        all_files_found = [all_files[i][0] for i in range(0,len(all_files))]\n",
    "        print(f'Número de arquivos para ingestão == > {len(all_files_found)}')\n",
    "        return all_files_found\n",
    "      except Exception as error:\n",
    "        print(f\"{error}\")       \n",
    "\n",
    "\n",
    "  \n",
    "  def separate_files(self):\n",
    "    try:\n",
    "      ### Separando arquivos a cada 10 items ou a quantidade que for..\n",
    "      ### caso seja menor do que 10\n",
    "      all_files = self.list_all_files()\n",
    "      return  [ all_files[i:i+10] for i in range(0,len(all_files),10)]\n",
    "    \n",
    "    except Exception as error:\n",
    "      print(f\"{error}\") \n",
    "  \n",
    "  ### Salvando Dados na camada Bronze ###\n",
    "  def save_files_delta(self):\n",
    "    try:\n",
    "      print(\" Inicinado método list_all_files().... \\n Inicinado método list_all_files() .... \\n Inicinado método save_files_delta() ....\\n\")\n",
    "      files_to_record = self.separate_files()\n",
    "      for files in files_to_record:\n",
    "        # print(files,len(files),\"\\n\")\n",
    "        df =spark.read.json(files)\n",
    "        #### Adicionando data de ingestao ####\n",
    "        df = df.withColumn('DTPROC',lit(datetime.now(pytz.timezone('America/Sao_Paulo')).strftime('%Y%m%d_%H%M%S')))\n",
    "        print(f\" Salvando dados da API no caminho ===> {self.bronze_delta_path}  com o nome ===>  {self.delta_table} \")\n",
    "        df.write.mode('append').format('delta').save(self.bronze_delta_path)\n",
    "      print(\"\\n Dados salvos em formato delta. \\n\")\n",
    "    except Exception as error:\n",
    "      print(f\"{error}\")\n",
    "  \n",
    "  ##### Copiando arquivos para Historico  ####\n",
    "  def copy_to_historic(self):\n",
    "    try:\n",
    "      lista_arquivos = self.list_all_files()\n",
    "      for folder in lista_arquivos:\n",
    "        name_folder = folder.split('/')[-2]\n",
    "        date_folder = folder.split('/')[-3]\n",
    "        print(f\"Copiando arquivo {self.source_system_path +date_folder+'/'+ name_folder +'/'} para ===> {self.historic_path+date_folder+'/'}\")\n",
    "        dbutils.fs.cp(self.source_system_path +date_folder+'/'+name_folder +'/',self.historic_path + date_folder +'/'+name_folder +'/',recurse = True)\n",
    "\n",
    "    except Exception as error:\n",
    "      print(f\"{error}\")\n",
    "  \n",
    "  ### Criando tabela no hive_metastore (catalogo Databricks)  ####\n",
    "  def create_delta_table_hive(self):\n",
    "    try:\n",
    "      sql = f\"\"\" CREATE DATABASE IF NOT EXISTS {self.db} \"\"\"\n",
    "      spark.sql(sql)\n",
    "      print(sql,\"\\n\")\n",
    "\n",
    "      sql_drop = f\"\"\" DROP TABLE IF EXISTS {self.delta_table}  \"\"\"\n",
    "      spark.sql(sql_drop)\n",
    "      print(sql_drop,\"\\n\") \n",
    "\n",
    "      sql_table = f\"\"\" CREATE TABLE IF NOT EXISTS {self.delta_table} USING DELTA LOCATION '{self.bronze_delta_path}' \"\"\"\n",
    "      spark.sql(sql_table)\n",
    "      print(sql_table)\n",
    "\n",
    "    except Exception as error:\n",
    "      print(f\"{error}\")\n",
    "\n",
    "  \n",
    "\n",
    "  #### Executando  ####\n",
    "  def bronze_run(self):\n",
    "    print(\"Inicio do processo de ingestão na bronze... \\n\")\n",
    "    # self.list_all_files()\n",
    "    # self.separate_files()\n",
    "    self.save_files_delta()\n",
    "    self.copy_to_historic()\n",
    "    self.create_delta_table_hive()\n",
    "    print(\"Processo finalizado!..\")"
   ]
  },
  {
   "cell_type": "code",
   "execution_count": 0,
   "metadata": {
    "application/vnd.databricks.v1+cell": {
     "cellMetadata": {
      "byteLimit": 2048000,
      "rowLimit": 10000
     },
     "inputWidgets": {},
     "nuid": "a2de4407-c507-469b-9d74-57219db9c223",
     "showTitle": false,
     "title": ""
    }
   },
   "outputs": [
    {
     "output_type": "stream",
     "name": "stdout",
     "output_type": "stream",
     "text": [
      "Inicio do processo de ingestão na bronze... \n\n Inicinado método list_all_files().... \n Inicinado método list_all_files() .... \n Inicinado método save_files_delta() ....\n\nNúmero de arquivos para ingestão == > 0\n\n Dados salvos em formato delta. \n\nNúmero de arquivos para ingestão == > 0\n CREATE DATABASE IF NOT EXISTS bronze  \n\n DROP TABLE IF EXISTS bronze.ibge_news   \n\n CREATE TABLE IF NOT EXISTS bronze.ibge_news USING DELTA LOCATION 'dbfs:/mnt/bronze/' \nProcesso finalizado!..\n"
     ]
    }
   ],
   "source": [
    "bronze = BronzeIngestion('bronze','ibge_news','dbfs:/mnt/bronze/','dbfs:/mnt/raw_3/','dbfs:/mnt/historic/bronze/')\n",
    "bronze.bronze_run()"
   ]
  },
  {
   "cell_type": "code",
   "execution_count": 0,
   "metadata": {
    "application/vnd.databricks.v1+cell": {
     "cellMetadata": {
      "byteLimit": 2048000,
      "implicitDf": true,
      "rowLimit": 10000
     },
     "inputWidgets": {},
     "nuid": "ae74177f-ab33-4298-be5a-7f1c98333ad6",
     "showTitle": false,
     "title": ""
    }
   },
   "outputs": [
    {
     "output_type": "display_data",
     "data": {
      "text/html": [
       "<style scoped>\n",
       "  .table-result-container {\n",
       "    max-height: 300px;\n",
       "    overflow: auto;\n",
       "  }\n",
       "  table, th, td {\n",
       "    border: 1px solid black;\n",
       "    border-collapse: collapse;\n",
       "  }\n",
       "  th, td {\n",
       "    padding: 5px;\n",
       "  }\n",
       "  th {\n",
       "    text-align: left;\n",
       "  }\n",
       "</style><div class='table-result-container'><table class='table-result'><thead style='background-color: white'><tr><th>PAGE</th><th>data_publicacao</th><th>destaque</th><th>editorias</th><th>id</th><th>imagens</th><th>introducao</th><th>link</th><th>produto_id</th><th>produtos</th><th>produtos_relacionados</th><th>tipo</th><th>titulo</th><th>DTPROC</th></tr></thead><tbody><tr><td>11 - to - 20 - 20241026_105918</td><td>04/06/2024 09:00:00</td><td>true</td><td>economicas</td><td>40241</td><td>{\"image_intro\":\"images\\/agenciadenoticias\\/releases\\/ContasNacionais.png\",\"float_intro\":\"\",\"image_intro_alt\":\"\",\"image_intro_caption\":\"\",\"image_fulltext\":\"images\\/agenciadenoticias\\/releases\\/ContasNacionais.png\",\"float_fulltext\":\"\",\"image_fulltext_alt\":\"\",\"image_fulltext_caption\":\"\"}</td><td>No primeiro trimestre de 2024, o PIB cresceu 0,8% frente ao quarto trimestre de 2023, na série com ajuste sazonal. Pela ótica da produção, os destaques foram Serviços (1,4%) e Agropecuária (11,3%), enquanto a Indústria ficou estável (-0,1%). Período de...</td><td>http://agenciadenoticias.ibge.gov.br/agencia-sala-de-imprensa/2013-agencia-de-noticias/releases/40241-pib-cresce-0-8-no-primeiro-trimestre-de-2024.html</td><td>9300</td><td>9300|Sistema de Contas Nacionais Trimestrais|contas-nacionais-trimestrais|2087</td><td>9300</td><td>Release</td><td>PIB cresce 0,8% no primeiro trimestre de 2024</td><td>20241026_111053</td></tr><tr><td>11 - to - 20 - 20241026_105918</td><td>04/06/2024 09:00:00</td><td>true</td><td>economicas</td><td>40242</td><td>{\"image_intro\":\"images\\/agenciadenoticias\\/estatisticas_economicas\\/2024_06\\/PIB-Tri_THUMB_HelenaPontes.jpg\",\"float_intro\":\"\",\"image_intro_alt\":\"\",\"image_intro_caption\":\"\",\"image_fulltext\":\"images\\/agenciadenoticias\\/estatisticas_economicas\\/2024_06\\/PIB-Tri_HOME_HelenaPontes.jpg\",\"float_fulltext\":\"\",\"image_fulltext_alt\":\"\",\"image_fulltext_caption\":\"\"}</td><td>Setor de serviços puxa alta do PIB no primeiro trimestre de 2024, com destaque para o comércio varejista. - Foto: Helena Pontes/Agência IBGE Notícias No primeiro trimestre de 2024, o Produto Interno Bruto (PIB) do país teve alta de 0,8% frente ao último...</td><td>http://agenciadenoticias.ibge.gov.br/agencia-noticias/2012-agencia-de-noticias/noticias/40242-pib-cresce-0-8-no-primeiro-trimestre-puxado-por-servicos.html</td><td>9300</td><td>9300|Sistema de Contas Nacionais Trimestrais|contas-nacionais-trimestrais|2087</td><td>9300</td><td>Notícia</td><td>PIB cresce 0,8% no primeiro trimestre, puxado por Serviços</td><td>20241026_111053</td></tr><tr><td>11 - to - 20 - 20241026_105918</td><td>03/06/2024 05:54:52</td><td>true</td><td>ibge;censo2020</td><td>40240</td><td>{\"image_intro\":\"images\\/agenciadenoticias\\/ibge\\/2024_06\\/Atendiment-THUMB.jpg\",\"float_intro\":\"\",\"image_intro_alt\":\"\",\"image_intro_caption\":\"\",\"image_fulltext\":\"images\\/agenciadenoticias\\/ibge\\/2024_06\\/Atendiment-HOME.jpg\",\"float_fulltext\":\"\",\"image_fulltext_alt\":\"\",\"image_fulltext_caption\":\"\"}</td><td>Atendimento aos gestores no balcão do IBGE. Na foto, prefeito de Japaratinga e Superintendente da SES/AL - Foto: Nathalia Leal Um dos símbolos do litoral nordestino, a Área de Proteção Ambiental (APA) Costa dos Corais é a maior unidade de conservação...</td><td>http://agenciadenoticias.ibge.gov.br/agencia-noticias/2012-agencia-de-noticias/noticias/40240-superintendencia-do-ibge-mostra-dados-do-censo-2022-para-gestores-publicos-em-alagoas.html</td><td>0</td><td></td><td></td><td>Notícia</td><td>Superintendência do IBGE mostra dados do Censo 2022 para gestores públicos em Alagoas</td><td>20241026_111053</td></tr><tr><td>11 - to - 20 - 20241026_105918</td><td>03/06/2024 02:00:00</td><td>true</td><td>ibge</td><td>40235</td><td>{\"image_intro\":\"images\\/agenciadenoticias\\/ibge\\/2024_06\\/ContadorIBGE_THUMB.jpg\",\"float_intro\":\"\",\"image_intro_alt\":\"\",\"image_intro_caption\":\"\",\"image_fulltext\":\"images\\/agenciadenoticias\\/ibge\\/2024_06\\/ContadorIBGE_HOME.jpg\",\"float_fulltext\":\"\",\"image_fulltext_alt\":\"\",\"image_fulltext_caption\":\"\"}</td><td>O IBGE comemorou seus 88 anos, em 29 de maio de 2024, com uma cerimônia repleta de homenagens, no Palácio da Fazenda, no Rio de Janeiro (RJ). No mesmo dia, houve inauguração da Casa Brasil IBGE e consolidação de acordos de cooperação técnica e protocolos...</td><td>http://agenciadenoticias.ibge.gov.br/agencia-noticias/2012-agencia-de-noticias/noticias/40235-contagem-regressiva-para-os-90-anos-do-ibge.html</td><td>0</td><td></td><td></td><td>Notícia</td><td>Contagem regressiva para os 90 anos do IBGE</td><td>20241026_111053</td></tr><tr><td>11 - to - 20 - 20241026_105918</td><td>03/06/2024 09:00:00</td><td>true</td><td>ibge</td><td>40220</td><td>{\"image_intro\":\"images\\/agenciadenoticias\\/ibge\\/2024_01\\/Agenda-IBGE_THUMB.jpg\",\"float_intro\":\"\",\"image_intro_alt\":\"\",\"image_intro_caption\":\"\",\"image_fulltext\":\"images\\/agenciadenoticias\\/ibge\\/2024_01\\/Agenda-IBGE_HOME.jpg\",\"float_fulltext\":\"\",\"image_fulltext_alt\":\"\",\"image_fulltext_caption\":\"\"}</td><td>Agenda IBGE traz a programação do instituto para a semana - Foto: Bel Corção/Brasil com S Já está disponível a Agenda IBGE para a semana de 3 a 9 de junho. O documento traz as programações do Instituto e contempla as divulgações, as reuniões internas e...</td><td>http://agenciadenoticias.ibge.gov.br/agencia-noticias/2012-agencia-de-noticias/noticias/40220-ibge-disponibiliza-agenda-de-3-a-9-de-junho.html</td><td>0</td><td></td><td></td><td>Notícia</td><td>IBGE disponibiliza Agenda de 3 a 9 de junho</td><td>20241026_111053</td></tr><tr><td>11 - to - 20 - 20241026_105918</td><td>29/05/2024 05:20:00</td><td>true</td><td>ibge</td><td>40222</td><td>{\"image_intro\":\"images\\/agenciadenoticias\\/ibge\\/2024_05\\/IBGE_88Anos\\/Casa_IBGE_THUMB.jpg\",\"float_intro\":\"\",\"image_intro_alt\":\"\",\"image_intro_caption\":\"\",\"image_fulltext\":\"images\\/agenciadenoticias\\/ibge\\/2024_05\\/IBGE_88Anos\\/Casa_IBGE_HOME.jpg\",\"float_fulltext\":\"\",\"image_fulltext_alt\":\"\",\"image_fulltext_caption\":\"\"}</td><td>Mapa mundi com o Brasil no centro do mundo no espaço Casa IBGE - Foto: Acervo IBGE Na próxima segunda-feira, 3 de junho, a Casa Brasil IBGE será aberta ao público para visitação, trazendo ainda uma promoção na livraria. Por R$ 50,00 será possível...</td><td>http://agenciadenoticias.ibge.gov.br/agencia-noticias/2012-agencia-de-noticias/noticias/40222-casa-brasil-ibge-abre-ao-publico-no-dia-3-de-junho-e-livraria-tem-promocao-especial.html</td><td>0</td><td></td><td></td><td>Notícia</td><td>Casa Brasil IBGE abre ao público no dia 3 de junho e livraria tem promoção especial</td><td>20241026_111053</td></tr><tr><td>11 - to - 20 - 20241026_105918</td><td>29/05/2024 05:00:36</td><td>true</td><td>ibge</td><td>40217</td><td>{\"image_intro\":\"images\\/agenciadenoticias\\/ibge\\/2024_05\\/IBGE_88Anos\\/Evento-88_THUMB.jpg\",\"float_intro\":\"\",\"image_intro_alt\":\"\",\"image_intro_caption\":\"\",\"image_fulltext\":\"images\\/agenciadenoticias\\/ibge\\/2024_05\\/IBGE_88Anos\\/Evento-88_HOME.jpg\",\"float_fulltext\":\"\",\"image_fulltext_alt\":\"\",\"image_fulltext_caption\":\"\"}</td><td>Aniversário de 88 anos do IBGE foi comemorado em evento no Palácio da Fazenda - Foto: Adriana Saraiva/Agência IBGE Notícias O IBGE realizou na manhã desta quarta-feira (29) um evento de comemoração pelos 88 anos do Instituto. Com a presença de servidores...</td><td>http://agenciadenoticias.ibge.gov.br/agencia-noticias/2012-agencia-de-noticias/noticias/40217-ibge-celebra-aniversario-de-88-anos-no-palacio-da-fazenda-e-lanca-casa-brasil-ibge.html</td><td>0</td><td></td><td></td><td>Notícia</td><td>IBGE celebra aniversário de 88 anos no Palácio da Fazenda e lança Casa Brasil IBGE</td><td>20241026_111053</td></tr><tr><td>11 - to - 20 - 20241026_105918</td><td>29/05/2024 10:00:00</td><td>true</td><td>sociais</td><td>40201</td><td>{\"image_intro\":\"images\\/agenciadenoticias\\/releases\\/PNAD_Coeficiente-Desequilibrio-Regional_release.png\",\"float_intro\":\"\",\"image_intro_alt\":\"\",\"image_intro_caption\":\"\",\"image_fulltext\":\"images\\/agenciadenoticias\\/releases\\/PNAD_Coeficiente-Desequilibrio-Regional_release.png\",\"float_fulltext\":\"\",\"image_fulltext_alt\":\"\",\"image_fulltext_caption\":\"\"}</td><td>O IBGE divulga hoje os valores de rendimento nominal mensal domiciliar per capita (RDPC) e os Coeficientes de Desequilíbrio Regional (CDR) referentes a 2023 para o Brasil e três Grandes Regiões: Norte, Nordeste e Centro-Oeste, calculados com base na...</td><td>http://agenciadenoticias.ibge.gov.br/agencia-sala-de-imprensa/2013-agencia-de-noticias/releases/40201-ibge-divulga-o-rendimento-domiciliar-per-capita-e-o-coeficiente-de-desequilibrio-regional-de-2023.html</td><td>0</td><td>17270|Divulgação anual#pnadc3|pnad-continua|2511;26253|Acessibilidade Geográfica|acessibilidade-geografica|2969</td><td>17270, 26253</td><td>Release</td><td>IBGE divulga o rendimento domiciliar per capita e o Coeficiente de Desequilíbrio Regional de 2023</td><td>20241026_111053</td></tr><tr><td>11 - to - 20 - 20241026_105918</td><td>29/05/2024 10:00:00</td><td>true</td><td>economicas</td><td>40192</td><td>{\"image_intro\":\"images\\/agenciadenoticias\\/estatisticas_economicas\\/2024_05\\/PAIC_THUMB_HelenaPontes.jpg\",\"float_intro\":\"\",\"image_intro_alt\":\"\",\"image_intro_caption\":\"\",\"image_fulltext\":\"images\\/agenciadenoticias\\/estatisticas_economicas\\/2024_05\\/PAIC_HOME_HelenaPontes.jpg\",\"float_fulltext\":\"\",\"image_fulltext_alt\":\"\",\"image_fulltext_caption\":\"\"}</td><td>Serviços especializados para construção cresceu 6,5 pontos percentuais desde 2013 - Foto: Helena Pontes/Agência IBGE Notícias A indústria da Construção gerou R$439,0 bilhões em valor de incorporações, obras e/ou serviços em 2022, sendo R$415,6 bilhões em...</td><td>http://agenciadenoticias.ibge.gov.br/agencia-noticias/2012-agencia-de-noticias/noticias/40192-em-2022-ocupacao-na-industria-da-construcao-cresce-4-4-e-servicos-especializados-ganham-participacao-no-valor-de-obras-do-setor.html</td><td>9018</td><td>9018|Pesquisa Anual da Indústria da Construção|pesquisa-anual-da-industria-da-construcao|2002</td><td>9018</td><td>Notícia</td><td>Em 2022, ocupação na indústria da construção cresce 4,4% e serviços especializados ganham participação no valor de obras do setor</td><td>20241026_111053</td></tr><tr><td>11 - to - 20 - 20241026_105918</td><td>29/05/2024 09:00:00</td><td>true</td><td>sociais</td><td>40198</td><td>{\"image_intro\":\"images\\/agenciadenoticias\\/releases\\/PNAD_C_Mensal_Release.png\",\"float_intro\":\"\",\"image_intro_alt\":\"\",\"image_intro_caption\":\"\",\"image_fulltext\":\"images\\/agenciadenoticias\\/releases\\/PNAD_C_Mensal_Release.png\",\"float_fulltext\":\"\",\"image_fulltext_alt\":\"\",\"image_fulltext_caption\":\"\"}</td><td>A taxa de desocupação (7,5%) no trimestre encerrado em abril de 2024 não teve variação significativa frente ao trimestre de novembro a janeiro de 2024 (7,6%) e caiu 1,0 ponto percentual (p.p.) ante o mesmo trimestre móvel de 2023 (8,5%). Essa foi a menor...</td><td>http://agenciadenoticias.ibge.gov.br/agencia-sala-de-imprensa/2013-agencia-de-noticias/releases/40198-pnad-continua-taxa-de-desocupacao-e-de-7-5-e-taxa-de-subutilizacao-e-de-17-4-no-trimestre-encerrado-em-abril.html</td><td>9171</td><td>9171|Divulgação mensal#pnadc1|pesquisa-nacional-por-amostra-de-domicilios-continua-mensal|2511</td><td>9171</td><td>Release</td><td>PNAD Contínua: taxa de desocupação é de 7,5% e taxa de subutilização é de 17,4% no trimestre encerrado em abril</td><td>20241026_111053</td></tr><tr><td>11 - to - 20 - 20241026_105918</td><td>29/05/2024 09:00:00</td><td>true</td><td>sociais</td><td>40197</td><td>{\"image_intro\":\"images\\/agenciadenoticias\\/estatisticas_sociais\\/2024_05\\/trabalho-THUMB-Karolina-Fabbris-Pacheco-AEN.jpg\",\"float_intro\":\"\",\"image_intro_alt\":\"\",\"image_intro_caption\":\"\",\"image_fulltext\":\"images\\/agenciadenoticias\\/estatisticas_sociais\\/2024_05\\/trabalho-HOME-Karolina-Fabbris-Pacheco-AEN.jpg\",\"float_fulltext\":\"\",\"image_fulltext_alt\":\"\",\"image_fulltext_caption\":\"\"}</td><td>Trabalhadores com carteira chegam a 38,188 milhões e sem carteira chegam a 13,5 milhões, maiores contingentes da série histórica da PNAD Contínua, iniciada em 2012 - Foto: Karolina Fabbris Pacheco/AEN No trimestre móvel encerrado em abril de 2024, a taxa...</td><td>http://agenciadenoticias.ibge.gov.br/agencia-noticias/2012-agencia-de-noticias/noticias/40197-desemprego-fica-estavel-e-ocupacao-com-e-sem-carteira-batem-recordes.html</td><td>9171</td><td>9171|Divulgação mensal#pnadc1|pesquisa-nacional-por-amostra-de-domicilios-continua-mensal|2511</td><td>9171</td><td>Notícia</td><td>Desemprego fica estável, com recordes de empregos com e sem carteira</td><td>20241026_111053</td></tr><tr><td>11 - to - 20 - 20241026_105918</td><td>28/05/2024 01:44:24</td><td>true</td><td>ibge</td><td>40202</td><td>{\"image_intro\":\"images\\/agenciadenoticias\\/ibge\\/2024_05\\/furukawa-home.jpg\",\"float_intro\":\"\",\"image_intro_alt\":\"\",\"image_intro_caption\":\"\",\"image_fulltext\":\"images\\/agenciadenoticias\\/ibge\\/2024_05\\/furukawa-home.jpg\",\"float_fulltext\":\"\",\"image_fulltext_alt\":\"\",\"image_fulltext_caption\":\"\"}</td><td>Os projetos de inovação reconhecidos foram divulgados nacional e internacionalmente. O IBGE recebeu premiação na categoria de Data Center na quarta edição do Furukawa Electric Awards, realizado na semana passada. Participaram dessa premiação projetos...</td><td>http://agenciadenoticias.ibge.gov.br/agencia-noticias/2012-agencia-de-noticias/noticias/40202-ibge-e-premiado-na-edicao-de-2024-do-furukawa-electric-awards.html</td><td>0</td><td></td><td></td><td>Notícia</td><td>IBGE é premiado na edição de 2024 do Furukawa Electric Awards</td><td>20241026_111053</td></tr><tr><td>11 - to - 20 - 20241026_105918</td><td>28/05/2024 09:00:00</td><td>true</td><td>economicas</td><td>40190</td><td>{\"image_intro\":\"images\\/agenciadenoticias\\/releases\\/IPP_Release.png\",\"float_intro\":\"\",\"image_intro_alt\":\"\",\"image_intro_caption\":\"\",\"image_fulltext\":\"images\\/agenciadenoticias\\/releases\\/IPP_Release.png\",\"float_fulltext\":\"\",\"image_fulltext_alt\":\"\",\"image_fulltext_caption\":\"\"}</td><td>Em abril de 2024, os preços da indústria variaram 0,74% frente a março de 2024, terceiro resultado positivo seguido nesse indicador. Nessa comparação, 20 das 24 atividades industriais tiveram variações positivas de preços. O acumulado no ano foi de...</td><td>http://agenciadenoticias.ibge.gov.br/agencia-sala-de-imprensa/2013-agencia-de-noticias/releases/40190-indice-de-precos-ao-produtor-ipp-e-de-0-74-em-abril.html</td><td>9282</td><td>9282|Índice de Preços ao Produtor - Indústrias Extrativas e de Transformação|indice-de-precos-ao-produtor-industrias-extrativas-e-de-transformacao|2081</td><td>9282</td><td>Release</td><td>Índice de Preços ao Produtor (IPP) é de 0,74% em abril</td><td>20241026_111053</td></tr><tr><td>11 - to - 20 - 20241026_105918</td><td>28/05/2024 09:00:00</td><td>true</td><td>economicas</td><td>40186</td><td>{\"image_intro\":\"images\\/agenciadenoticias\\/releases\\/IPCA15_Release.png\",\"float_intro\":\"\",\"image_intro_alt\":\"\",\"image_intro_caption\":\"\",\"image_fulltext\":\"images\\/agenciadenoticias\\/releases\\/IPCA15_Release.png\",\"float_fulltext\":\"\",\"image_fulltext_alt\":\"\",\"image_fulltext_caption\":\"\"}</td><td>O Índice Nacional de Preços ao Consumidor Amplo 15 (IPCA-15) apresentou alta de 0,44% em maio, 0,23 ponto percentual (p.p.) acima da taxa registrada em abril (0,21%). No ano, o IPCA-15 acumula alta de 2,12% e, em 12 meses, de 3,70%, abaixo dos 3,77%...</td><td>http://agenciadenoticias.ibge.gov.br/agencia-sala-de-imprensa/2013-agencia-de-noticias/releases/40186-ipca-15-foi-de-0-44-em-maio.html</td><td>0</td><td>9262|Índice Nacional de Preços ao Consumidor Amplo Especial|indice-nacional-de-precos-ao-consumidor-amplo-especial|2212;9260|Índice Nacional de Preços ao Consumidor Amplo 15|indice-nacional-de-precos-ao-consumidor-amplo-15|2213</td><td>9262, 9260</td><td>Release</td><td>IPCA-15 foi de 0,44% em maio</td><td>20241026_111053</td></tr><tr><td>11 - to - 20 - 20241026_105918</td><td>28/05/2024 09:00:00</td><td>true</td><td>economicas</td><td>40188</td><td>{\"image_intro\":\"images\\/agenciadenoticias\\/estatisticas_economicas\\/2024_05\\/IPCA15_THUMB_Helena-Pontes.jpg\",\"float_intro\":\"\",\"image_intro_alt\":\"\",\"image_intro_caption\":\"\",\"image_fulltext\":\"images\\/agenciadenoticias\\/estatisticas_economicas\\/2024_05\\/IPCA15_HOME_Helena-Pontes.jpg\",\"float_fulltext\":\"\",\"image_fulltext_alt\":\"\",\"image_fulltext_caption\":\"\"}</td><td>Alta da gasolina exerceu a principal influência na prévia da inflação de maio - Foto: Helena Pontes/Agência IBGE Notícias A prévia da inflação ficou em 0,44% em maio, 0,23 ponto percentual (p.p.) acima da taxa registrada em abril (0,21%). As maiores...</td><td>http://agenciadenoticias.ibge.gov.br/agencia-noticias/2012-agencia-de-noticias/noticias/40188-previa-da-inflacao-fica-em-0-44-em-maio-influenciada-pela-alta-da-gasolina.html</td><td>0</td><td>9262|Índice Nacional de Preços ao Consumidor Amplo Especial|indice-nacional-de-precos-ao-consumidor-amplo-especial|2212;9260|Índice Nacional de Preços ao Consumidor Amplo 15|indice-nacional-de-precos-ao-consumidor-amplo-15|2213</td><td>9262, 9260</td><td>Notícia</td><td>Prévia da inflação fica em 0,44% em maio, influenciada pela alta da gasolina</td><td>20241026_111053</td></tr><tr><td>11 - to - 20 - 20241026_105918</td><td>28/05/2024 09:00:00</td><td>true</td><td>economicas</td><td>40193</td><td>{\"image_intro\":\"images\\/agenciadenoticias\\/estatisticas_economicas\\/2024_05\\/IPP_THUMB_Camila-Domingues-Palcio-Piratini.jpg\",\"float_intro\":\"\",\"image_intro_alt\":\"\",\"image_intro_caption\":\"\",\"image_fulltext\":\"images\\/agenciadenoticias\\/estatisticas_economicas\\/2024_05\\/IPP_HOME_Camila-Domingues-Palcio-Piratini.jpg\",\"float_fulltext\":\"\",\"image_fulltext_alt\":\"\",\"image_fulltext_caption\":\"\"}</td><td>A alta de 0,79% no setor de refino de petróleo e biocombustíveis foi influenciada pelo aumento do biodiesel - Foto: Camila Domingues/Palácio Piratini Os preços da indústria nacional cresceram 0,74% em abril na comparação com o mês anterior. Esse foi o...</td><td>http://agenciadenoticias.ibge.gov.br/agencia-noticias/2012-agencia-de-noticias/noticias/40193-precos-da-industria-crescem-0-74-em-abril-terceiro-resultado-positivo-seguido.html</td><td>9282</td><td>9282|Índice de Preços ao Produtor - Indústrias Extrativas e de Transformação|indice-de-precos-ao-produtor-industrias-extrativas-e-de-transformacao|2081</td><td>9282</td><td>Notícia</td><td>Preços da indústria crescem 0,74% em abril, terceiro resultado positivo seguido</td><td>20241026_111053</td></tr><tr><td>11 - to - 20 - 20241026_105918</td><td>27/05/2024 04:09:03</td><td>true</td><td>ibge</td><td>40191</td><td>{\"image_intro\":\"images\\/agenciadenoticias\\/ibge\\/2024_05\\/p-fazenda.jpeg\",\"float_intro\":\"\",\"image_intro_alt\":\"\",\"image_intro_caption\":\"\",\"image_fulltext\":\"images\\/agenciadenoticias\\/ibge\\/2024_05\\/p-fazenda.jpeg\",\"float_fulltext\":\"\",\"image_fulltext_alt\":\"\",\"image_fulltext_caption\":\"\"}</td><td>Projeto vai reunir memória e tecnologia em um mesmo espaço de exposição presencial e virtual, com exibição do formulário do primeiro Censo realizado pelo IBGE O Instituto Brasileiro de Geografia e Estatística (IBGE) vai lançar durante a cerimônia de...</td><td>http://agenciadenoticias.ibge.gov.br/agencia-noticias/2012-agencia-de-noticias/noticias/40191-ibge-lanca-casa-brasil-ibge-para-preservacao-e-disseminacao-da-memoria.html</td><td>0</td><td></td><td></td><td>Notícia</td><td>IBGE lança Casa Brasil IBGE para preservação e disseminação da memória</td><td>20241026_111053</td></tr><tr><td>11 - to - 20 - 20241026_105918</td><td>27/05/2024 09:00:00</td><td>true</td><td>ibge</td><td>40174</td><td>{\"image_intro\":\"images\\/agenciadenoticias\\/ibge\\/2024_01\\/Agenda-IBGE_THUMB.jpg\",\"float_intro\":\"\",\"image_intro_alt\":\"\",\"image_intro_caption\":\"\",\"image_fulltext\":\"images\\/agenciadenoticias\\/ibge\\/2024_01\\/Agenda-IBGE_HOME.jpg\",\"float_fulltext\":\"\",\"image_fulltext_alt\":\"\",\"image_fulltext_caption\":\"\"}</td><td>Agenda IBGE traz a programação do instituto para a semana - Foto: Bel Corção/Brasil com S O IBGE divulgou hoje (27) a Agenda do Instituto para a semana de 27 de maio a 2 de junho. A Agenda IBGE contempla os eventos, as reuniões e os compromissos da...</td><td>http://agenciadenoticias.ibge.gov.br/agencia-noticias/2012-agencia-de-noticias/noticias/40174-ibge-divulga-agenda-de-27-de-maio-a-2-de-junho.html</td><td>0</td><td></td><td></td><td>Notícia</td><td>IBGE divulga Agenda de 27 de maio a 2 de junho</td><td>20241026_111053</td></tr><tr><td>11 - to - 20 - 20241026_105918</td><td>24/05/2024 05:37:11</td><td>true</td><td>ibge</td><td>40179</td><td>{\"image_intro\":\"images\\/agenciadenoticias\\/ibge\\/2024_05\\/sudene01.jpeg\",\"float_intro\":\"\",\"image_intro_alt\":\"\",\"image_intro_caption\":\"\",\"image_fulltext\":\"images\\/agenciadenoticias\\/ibge\\/2024_05\\/sudene01.jpeg\",\"float_fulltext\":\"\",\"image_fulltext_alt\":\"\",\"image_fulltext_caption\":\"\"}</td><td>Foto: Adriana Saraiva Representantes do Instituto Brasileiro de Geografia e Estatística (IBGE) e da Superintendência do Desenvolvimento do Nordeste (Sudene) se reuniram na sede do Instituto, no Rio de Janeiro, com o objetivo de intensificar a cooperação...</td><td>http://agenciadenoticias.ibge.gov.br/agencia-noticias/2012-agencia-de-noticias/noticias/40179-ibge-intensifica-cooperacao-tecnica-com-a-superintendencia-do-desenvolvimento-do-nordeste-2.html</td><td>0</td><td></td><td></td><td>Notícia</td><td>IBGE intensifica cooperação técnica com a Superintendência do Desenvolvimento do Nordeste</td><td>20241026_111053</td></tr><tr><td>11 - to - 20 - 20241026_105918</td><td>24/05/2024 04:40:03</td><td>true</td><td>ibge</td><td>40176</td><td>{\"image_intro\":\"images\\/agenciadenoticias\\/ibge\\/2024_05\\/materia-home.jpg\",\"float_intro\":\"\",\"image_intro_alt\":\"\",\"image_intro_caption\":\"\",\"image_fulltext\":\"images\\/agenciadenoticias\\/ibge\\/2024_05\\/materia-home.jpg\",\"float_fulltext\":\"\",\"image_fulltext_alt\":\"\",\"image_fulltext_caption\":\"\"}</td><td>O presidente do Instituto Brasileiro de Geografia e Estatística (IBGE), Marcio Pochmann, participou nesta quinta-feira, 23, do Seminário Sustentabilidade em Universidades: Gestão e Indicadores, realizado no Centro de Convenções da Universidade Estadual...</td><td>http://agenciadenoticias.ibge.gov.br/agencia-noticias/2012-agencia-de-noticias/noticias/40176-ibge-participa-de-seminario-sobre-gestao-de-dados-na-unicamp-em-campinas-sp.html</td><td>0</td><td></td><td></td><td>Notícia</td><td>IBGE participa de Seminário sobre gestão de dados na Unicamp, em Campinas (SP)</td><td>20241026_111053</td></tr></tbody></table></div>"
      ]
     },
     "metadata": {
      "application/vnd.databricks.v1+output": {
       "addedWidgets": {},
       "aggData": [],
       "aggError": "",
       "aggOverflow": false,
       "aggSchema": [],
       "aggSeriesLimitReached": false,
       "aggType": "",
       "arguments": {},
       "columnCustomDisplayInfos": {},
       "data": [
        [
         "11 - to - 20 - 20241026_105918",
         "04/06/2024 09:00:00",
         true,
         "economicas",
         40241,
         "{\"image_intro\":\"images\\/agenciadenoticias\\/releases\\/ContasNacionais.png\",\"float_intro\":\"\",\"image_intro_alt\":\"\",\"image_intro_caption\":\"\",\"image_fulltext\":\"images\\/agenciadenoticias\\/releases\\/ContasNacionais.png\",\"float_fulltext\":\"\",\"image_fulltext_alt\":\"\",\"image_fulltext_caption\":\"\"}",
         "No primeiro trimestre de 2024, o PIB cresceu 0,8% frente ao quarto trimestre de 2023, na série com ajuste sazonal. Pela ótica da produção, os destaques foram Serviços (1,4%) e Agropecuária (11,3%), enquanto a Indústria ficou estável (-0,1%). Período de...",
         "http://agenciadenoticias.ibge.gov.br/agencia-sala-de-imprensa/2013-agencia-de-noticias/releases/40241-pib-cresce-0-8-no-primeiro-trimestre-de-2024.html",
         9300,
         "9300|Sistema de Contas Nacionais Trimestrais|contas-nacionais-trimestrais|2087",
         "9300",
         "Release",
         "PIB cresce 0,8% no primeiro trimestre de 2024",
         "20241026_111053"
        ],
        [
         "11 - to - 20 - 20241026_105918",
         "04/06/2024 09:00:00",
         true,
         "economicas",
         40242,
         "{\"image_intro\":\"images\\/agenciadenoticias\\/estatisticas_economicas\\/2024_06\\/PIB-Tri_THUMB_HelenaPontes.jpg\",\"float_intro\":\"\",\"image_intro_alt\":\"\",\"image_intro_caption\":\"\",\"image_fulltext\":\"images\\/agenciadenoticias\\/estatisticas_economicas\\/2024_06\\/PIB-Tri_HOME_HelenaPontes.jpg\",\"float_fulltext\":\"\",\"image_fulltext_alt\":\"\",\"image_fulltext_caption\":\"\"}",
         "Setor de serviços puxa alta do PIB no primeiro trimestre de 2024, com destaque para o comércio varejista. - Foto: Helena Pontes/Agência IBGE Notícias No primeiro trimestre de 2024, o Produto Interno Bruto (PIB) do país teve alta de 0,8% frente ao último...",
         "http://agenciadenoticias.ibge.gov.br/agencia-noticias/2012-agencia-de-noticias/noticias/40242-pib-cresce-0-8-no-primeiro-trimestre-puxado-por-servicos.html",
         9300,
         "9300|Sistema de Contas Nacionais Trimestrais|contas-nacionais-trimestrais|2087",
         "9300",
         "Notícia",
         "PIB cresce 0,8% no primeiro trimestre, puxado por Serviços",
         "20241026_111053"
        ],
        [
         "11 - to - 20 - 20241026_105918",
         "03/06/2024 05:54:52",
         true,
         "ibge;censo2020",
         40240,
         "{\"image_intro\":\"images\\/agenciadenoticias\\/ibge\\/2024_06\\/Atendiment-THUMB.jpg\",\"float_intro\":\"\",\"image_intro_alt\":\"\",\"image_intro_caption\":\"\",\"image_fulltext\":\"images\\/agenciadenoticias\\/ibge\\/2024_06\\/Atendiment-HOME.jpg\",\"float_fulltext\":\"\",\"image_fulltext_alt\":\"\",\"image_fulltext_caption\":\"\"}",
         "Atendimento aos gestores no balcão do IBGE. Na foto, prefeito de Japaratinga e Superintendente da SES/AL - Foto: Nathalia Leal Um dos símbolos do litoral nordestino, a Área de Proteção Ambiental (APA) Costa dos Corais é a maior unidade de conservação...",
         "http://agenciadenoticias.ibge.gov.br/agencia-noticias/2012-agencia-de-noticias/noticias/40240-superintendencia-do-ibge-mostra-dados-do-censo-2022-para-gestores-publicos-em-alagoas.html",
         0,
         "",
         "",
         "Notícia",
         "Superintendência do IBGE mostra dados do Censo 2022 para gestores públicos em Alagoas",
         "20241026_111053"
        ],
        [
         "11 - to - 20 - 20241026_105918",
         "03/06/2024 02:00:00",
         true,
         "ibge",
         40235,
         "{\"image_intro\":\"images\\/agenciadenoticias\\/ibge\\/2024_06\\/ContadorIBGE_THUMB.jpg\",\"float_intro\":\"\",\"image_intro_alt\":\"\",\"image_intro_caption\":\"\",\"image_fulltext\":\"images\\/agenciadenoticias\\/ibge\\/2024_06\\/ContadorIBGE_HOME.jpg\",\"float_fulltext\":\"\",\"image_fulltext_alt\":\"\",\"image_fulltext_caption\":\"\"}",
         "O IBGE comemorou seus 88 anos, em 29 de maio de 2024, com uma cerimônia repleta de homenagens, no Palácio da Fazenda, no Rio de Janeiro (RJ). No mesmo dia, houve inauguração da Casa Brasil IBGE e consolidação de acordos de cooperação técnica e protocolos...",
         "http://agenciadenoticias.ibge.gov.br/agencia-noticias/2012-agencia-de-noticias/noticias/40235-contagem-regressiva-para-os-90-anos-do-ibge.html",
         0,
         "",
         "",
         "Notícia",
         "Contagem regressiva para os 90 anos do IBGE",
         "20241026_111053"
        ],
        [
         "11 - to - 20 - 20241026_105918",
         "03/06/2024 09:00:00",
         true,
         "ibge",
         40220,
         "{\"image_intro\":\"images\\/agenciadenoticias\\/ibge\\/2024_01\\/Agenda-IBGE_THUMB.jpg\",\"float_intro\":\"\",\"image_intro_alt\":\"\",\"image_intro_caption\":\"\",\"image_fulltext\":\"images\\/agenciadenoticias\\/ibge\\/2024_01\\/Agenda-IBGE_HOME.jpg\",\"float_fulltext\":\"\",\"image_fulltext_alt\":\"\",\"image_fulltext_caption\":\"\"}",
         "Agenda IBGE traz a programação do instituto para a semana - Foto: Bel Corção/Brasil com S Já está disponível a Agenda IBGE para a semana de 3 a 9 de junho. O documento traz as programações do Instituto e contempla as divulgações, as reuniões internas e...",
         "http://agenciadenoticias.ibge.gov.br/agencia-noticias/2012-agencia-de-noticias/noticias/40220-ibge-disponibiliza-agenda-de-3-a-9-de-junho.html",
         0,
         "",
         "",
         "Notícia",
         "IBGE disponibiliza Agenda de 3 a 9 de junho",
         "20241026_111053"
        ],
        [
         "11 - to - 20 - 20241026_105918",
         "29/05/2024 05:20:00",
         true,
         "ibge",
         40222,
         "{\"image_intro\":\"images\\/agenciadenoticias\\/ibge\\/2024_05\\/IBGE_88Anos\\/Casa_IBGE_THUMB.jpg\",\"float_intro\":\"\",\"image_intro_alt\":\"\",\"image_intro_caption\":\"\",\"image_fulltext\":\"images\\/agenciadenoticias\\/ibge\\/2024_05\\/IBGE_88Anos\\/Casa_IBGE_HOME.jpg\",\"float_fulltext\":\"\",\"image_fulltext_alt\":\"\",\"image_fulltext_caption\":\"\"}",
         "Mapa mundi com o Brasil no centro do mundo no espaço Casa IBGE - Foto: Acervo IBGE Na próxima segunda-feira, 3 de junho, a Casa Brasil IBGE será aberta ao público para visitação, trazendo ainda uma promoção na livraria. Por R$ 50,00 será possível...",
         "http://agenciadenoticias.ibge.gov.br/agencia-noticias/2012-agencia-de-noticias/noticias/40222-casa-brasil-ibge-abre-ao-publico-no-dia-3-de-junho-e-livraria-tem-promocao-especial.html",
         0,
         "",
         "",
         "Notícia",
         "Casa Brasil IBGE abre ao público no dia 3 de junho e livraria tem promoção especial",
         "20241026_111053"
        ],
        [
         "11 - to - 20 - 20241026_105918",
         "29/05/2024 05:00:36",
         true,
         "ibge",
         40217,
         "{\"image_intro\":\"images\\/agenciadenoticias\\/ibge\\/2024_05\\/IBGE_88Anos\\/Evento-88_THUMB.jpg\",\"float_intro\":\"\",\"image_intro_alt\":\"\",\"image_intro_caption\":\"\",\"image_fulltext\":\"images\\/agenciadenoticias\\/ibge\\/2024_05\\/IBGE_88Anos\\/Evento-88_HOME.jpg\",\"float_fulltext\":\"\",\"image_fulltext_alt\":\"\",\"image_fulltext_caption\":\"\"}",
         "Aniversário de 88 anos do IBGE foi comemorado em evento no Palácio da Fazenda - Foto: Adriana Saraiva/Agência IBGE Notícias O IBGE realizou na manhã desta quarta-feira (29) um evento de comemoração pelos 88 anos do Instituto. Com a presença de servidores...",
         "http://agenciadenoticias.ibge.gov.br/agencia-noticias/2012-agencia-de-noticias/noticias/40217-ibge-celebra-aniversario-de-88-anos-no-palacio-da-fazenda-e-lanca-casa-brasil-ibge.html",
         0,
         "",
         "",
         "Notícia",
         "IBGE celebra aniversário de 88 anos no Palácio da Fazenda e lança Casa Brasil IBGE",
         "20241026_111053"
        ],
        [
         "11 - to - 20 - 20241026_105918",
         "29/05/2024 10:00:00",
         true,
         "sociais",
         40201,
         "{\"image_intro\":\"images\\/agenciadenoticias\\/releases\\/PNAD_Coeficiente-Desequilibrio-Regional_release.png\",\"float_intro\":\"\",\"image_intro_alt\":\"\",\"image_intro_caption\":\"\",\"image_fulltext\":\"images\\/agenciadenoticias\\/releases\\/PNAD_Coeficiente-Desequilibrio-Regional_release.png\",\"float_fulltext\":\"\",\"image_fulltext_alt\":\"\",\"image_fulltext_caption\":\"\"}",
         "O IBGE divulga hoje os valores de rendimento nominal mensal domiciliar per capita (RDPC) e os Coeficientes de Desequilíbrio Regional (CDR) referentes a 2023 para o Brasil e três Grandes Regiões: Norte, Nordeste e Centro-Oeste, calculados com base na...",
         "http://agenciadenoticias.ibge.gov.br/agencia-sala-de-imprensa/2013-agencia-de-noticias/releases/40201-ibge-divulga-o-rendimento-domiciliar-per-capita-e-o-coeficiente-de-desequilibrio-regional-de-2023.html",
         0,
         "17270|Divulgação anual#pnadc3|pnad-continua|2511;26253|Acessibilidade Geográfica|acessibilidade-geografica|2969",
         "17270, 26253",
         "Release",
         "IBGE divulga o rendimento domiciliar per capita e o Coeficiente de Desequilíbrio Regional de 2023",
         "20241026_111053"
        ],
        [
         "11 - to - 20 - 20241026_105918",
         "29/05/2024 10:00:00",
         true,
         "economicas",
         40192,
         "{\"image_intro\":\"images\\/agenciadenoticias\\/estatisticas_economicas\\/2024_05\\/PAIC_THUMB_HelenaPontes.jpg\",\"float_intro\":\"\",\"image_intro_alt\":\"\",\"image_intro_caption\":\"\",\"image_fulltext\":\"images\\/agenciadenoticias\\/estatisticas_economicas\\/2024_05\\/PAIC_HOME_HelenaPontes.jpg\",\"float_fulltext\":\"\",\"image_fulltext_alt\":\"\",\"image_fulltext_caption\":\"\"}",
         "Serviços especializados para construção cresceu 6,5 pontos percentuais desde 2013 - Foto: Helena Pontes/Agência IBGE Notícias A indústria da Construção gerou R$439,0 bilhões em valor de incorporações, obras e/ou serviços em 2022, sendo R$415,6 bilhões em...",
         "http://agenciadenoticias.ibge.gov.br/agencia-noticias/2012-agencia-de-noticias/noticias/40192-em-2022-ocupacao-na-industria-da-construcao-cresce-4-4-e-servicos-especializados-ganham-participacao-no-valor-de-obras-do-setor.html",
         9018,
         "9018|Pesquisa Anual da Indústria da Construção|pesquisa-anual-da-industria-da-construcao|2002",
         "9018",
         "Notícia",
         "Em 2022, ocupação na indústria da construção cresce 4,4% e serviços especializados ganham participação no valor de obras do setor",
         "20241026_111053"
        ],
        [
         "11 - to - 20 - 20241026_105918",
         "29/05/2024 09:00:00",
         true,
         "sociais",
         40198,
         "{\"image_intro\":\"images\\/agenciadenoticias\\/releases\\/PNAD_C_Mensal_Release.png\",\"float_intro\":\"\",\"image_intro_alt\":\"\",\"image_intro_caption\":\"\",\"image_fulltext\":\"images\\/agenciadenoticias\\/releases\\/PNAD_C_Mensal_Release.png\",\"float_fulltext\":\"\",\"image_fulltext_alt\":\"\",\"image_fulltext_caption\":\"\"}",
         "A taxa de desocupação (7,5%) no trimestre encerrado em abril de 2024 não teve variação significativa frente ao trimestre de novembro a janeiro de 2024 (7,6%) e caiu 1,0 ponto percentual (p.p.) ante o mesmo trimestre móvel de 2023 (8,5%). Essa foi a menor...",
         "http://agenciadenoticias.ibge.gov.br/agencia-sala-de-imprensa/2013-agencia-de-noticias/releases/40198-pnad-continua-taxa-de-desocupacao-e-de-7-5-e-taxa-de-subutilizacao-e-de-17-4-no-trimestre-encerrado-em-abril.html",
         9171,
         "9171|Divulgação mensal#pnadc1|pesquisa-nacional-por-amostra-de-domicilios-continua-mensal|2511",
         "9171",
         "Release",
         "PNAD Contínua: taxa de desocupação é de 7,5% e taxa de subutilização é de 17,4% no trimestre encerrado em abril",
         "20241026_111053"
        ],
        [
         "11 - to - 20 - 20241026_105918",
         "29/05/2024 09:00:00",
         true,
         "sociais",
         40197,
         "{\"image_intro\":\"images\\/agenciadenoticias\\/estatisticas_sociais\\/2024_05\\/trabalho-THUMB-Karolina-Fabbris-Pacheco-AEN.jpg\",\"float_intro\":\"\",\"image_intro_alt\":\"\",\"image_intro_caption\":\"\",\"image_fulltext\":\"images\\/agenciadenoticias\\/estatisticas_sociais\\/2024_05\\/trabalho-HOME-Karolina-Fabbris-Pacheco-AEN.jpg\",\"float_fulltext\":\"\",\"image_fulltext_alt\":\"\",\"image_fulltext_caption\":\"\"}",
         "Trabalhadores com carteira chegam a 38,188 milhões e sem carteira chegam a 13,5 milhões, maiores contingentes da série histórica da PNAD Contínua, iniciada em 2012 - Foto: Karolina Fabbris Pacheco/AEN No trimestre móvel encerrado em abril de 2024, a taxa...",
         "http://agenciadenoticias.ibge.gov.br/agencia-noticias/2012-agencia-de-noticias/noticias/40197-desemprego-fica-estavel-e-ocupacao-com-e-sem-carteira-batem-recordes.html",
         9171,
         "9171|Divulgação mensal#pnadc1|pesquisa-nacional-por-amostra-de-domicilios-continua-mensal|2511",
         "9171",
         "Notícia",
         "Desemprego fica estável, com recordes de empregos com e sem carteira",
         "20241026_111053"
        ],
        [
         "11 - to - 20 - 20241026_105918",
         "28/05/2024 01:44:24",
         true,
         "ibge",
         40202,
         "{\"image_intro\":\"images\\/agenciadenoticias\\/ibge\\/2024_05\\/furukawa-home.jpg\",\"float_intro\":\"\",\"image_intro_alt\":\"\",\"image_intro_caption\":\"\",\"image_fulltext\":\"images\\/agenciadenoticias\\/ibge\\/2024_05\\/furukawa-home.jpg\",\"float_fulltext\":\"\",\"image_fulltext_alt\":\"\",\"image_fulltext_caption\":\"\"}",
         "Os projetos de inovação reconhecidos foram divulgados nacional e internacionalmente. O IBGE recebeu premiação na categoria de Data Center na quarta edição do Furukawa Electric Awards, realizado na semana passada. Participaram dessa premiação projetos...",
         "http://agenciadenoticias.ibge.gov.br/agencia-noticias/2012-agencia-de-noticias/noticias/40202-ibge-e-premiado-na-edicao-de-2024-do-furukawa-electric-awards.html",
         0,
         "",
         "",
         "Notícia",
         "IBGE é premiado na edição de 2024 do Furukawa Electric Awards",
         "20241026_111053"
        ],
        [
         "11 - to - 20 - 20241026_105918",
         "28/05/2024 09:00:00",
         true,
         "economicas",
         40190,
         "{\"image_intro\":\"images\\/agenciadenoticias\\/releases\\/IPP_Release.png\",\"float_intro\":\"\",\"image_intro_alt\":\"\",\"image_intro_caption\":\"\",\"image_fulltext\":\"images\\/agenciadenoticias\\/releases\\/IPP_Release.png\",\"float_fulltext\":\"\",\"image_fulltext_alt\":\"\",\"image_fulltext_caption\":\"\"}",
         "Em abril de 2024, os preços da indústria variaram 0,74% frente a março de 2024, terceiro resultado positivo seguido nesse indicador. Nessa comparação, 20 das 24 atividades industriais tiveram variações positivas de preços. O acumulado no ano foi de...",
         "http://agenciadenoticias.ibge.gov.br/agencia-sala-de-imprensa/2013-agencia-de-noticias/releases/40190-indice-de-precos-ao-produtor-ipp-e-de-0-74-em-abril.html",
         9282,
         "9282|Índice de Preços ao Produtor - Indústrias Extrativas e de Transformação|indice-de-precos-ao-produtor-industrias-extrativas-e-de-transformacao|2081",
         "9282",
         "Release",
         "Índice de Preços ao Produtor (IPP) é de 0,74% em abril",
         "20241026_111053"
        ],
        [
         "11 - to - 20 - 20241026_105918",
         "28/05/2024 09:00:00",
         true,
         "economicas",
         40186,
         "{\"image_intro\":\"images\\/agenciadenoticias\\/releases\\/IPCA15_Release.png\",\"float_intro\":\"\",\"image_intro_alt\":\"\",\"image_intro_caption\":\"\",\"image_fulltext\":\"images\\/agenciadenoticias\\/releases\\/IPCA15_Release.png\",\"float_fulltext\":\"\",\"image_fulltext_alt\":\"\",\"image_fulltext_caption\":\"\"}",
         "O Índice Nacional de Preços ao Consumidor Amplo 15 (IPCA-15) apresentou alta de 0,44% em maio, 0,23 ponto percentual (p.p.) acima da taxa registrada em abril (0,21%). No ano, o IPCA-15 acumula alta de 2,12% e, em 12 meses, de 3,70%, abaixo dos 3,77%...",
         "http://agenciadenoticias.ibge.gov.br/agencia-sala-de-imprensa/2013-agencia-de-noticias/releases/40186-ipca-15-foi-de-0-44-em-maio.html",
         0,
         "9262|Índice Nacional de Preços ao Consumidor Amplo Especial|indice-nacional-de-precos-ao-consumidor-amplo-especial|2212;9260|Índice Nacional de Preços ao Consumidor Amplo 15|indice-nacional-de-precos-ao-consumidor-amplo-15|2213",
         "9262, 9260",
         "Release",
         "IPCA-15 foi de 0,44% em maio",
         "20241026_111053"
        ],
        [
         "11 - to - 20 - 20241026_105918",
         "28/05/2024 09:00:00",
         true,
         "economicas",
         40188,
         "{\"image_intro\":\"images\\/agenciadenoticias\\/estatisticas_economicas\\/2024_05\\/IPCA15_THUMB_Helena-Pontes.jpg\",\"float_intro\":\"\",\"image_intro_alt\":\"\",\"image_intro_caption\":\"\",\"image_fulltext\":\"images\\/agenciadenoticias\\/estatisticas_economicas\\/2024_05\\/IPCA15_HOME_Helena-Pontes.jpg\",\"float_fulltext\":\"\",\"image_fulltext_alt\":\"\",\"image_fulltext_caption\":\"\"}",
         "Alta da gasolina exerceu a principal influência na prévia da inflação de maio - Foto: Helena Pontes/Agência IBGE Notícias A prévia da inflação ficou em 0,44% em maio, 0,23 ponto percentual (p.p.) acima da taxa registrada em abril (0,21%). As maiores...",
         "http://agenciadenoticias.ibge.gov.br/agencia-noticias/2012-agencia-de-noticias/noticias/40188-previa-da-inflacao-fica-em-0-44-em-maio-influenciada-pela-alta-da-gasolina.html",
         0,
         "9262|Índice Nacional de Preços ao Consumidor Amplo Especial|indice-nacional-de-precos-ao-consumidor-amplo-especial|2212;9260|Índice Nacional de Preços ao Consumidor Amplo 15|indice-nacional-de-precos-ao-consumidor-amplo-15|2213",
         "9262, 9260",
         "Notícia",
         "Prévia da inflação fica em 0,44% em maio, influenciada pela alta da gasolina",
         "20241026_111053"
        ],
        [
         "11 - to - 20 - 20241026_105918",
         "28/05/2024 09:00:00",
         true,
         "economicas",
         40193,
         "{\"image_intro\":\"images\\/agenciadenoticias\\/estatisticas_economicas\\/2024_05\\/IPP_THUMB_Camila-Domingues-Palcio-Piratini.jpg\",\"float_intro\":\"\",\"image_intro_alt\":\"\",\"image_intro_caption\":\"\",\"image_fulltext\":\"images\\/agenciadenoticias\\/estatisticas_economicas\\/2024_05\\/IPP_HOME_Camila-Domingues-Palcio-Piratini.jpg\",\"float_fulltext\":\"\",\"image_fulltext_alt\":\"\",\"image_fulltext_caption\":\"\"}",
         "A alta de 0,79% no setor de refino de petróleo e biocombustíveis foi influenciada pelo aumento do biodiesel - Foto: Camila Domingues/Palácio Piratini Os preços da indústria nacional cresceram 0,74% em abril na comparação com o mês anterior. Esse foi o...",
         "http://agenciadenoticias.ibge.gov.br/agencia-noticias/2012-agencia-de-noticias/noticias/40193-precos-da-industria-crescem-0-74-em-abril-terceiro-resultado-positivo-seguido.html",
         9282,
         "9282|Índice de Preços ao Produtor - Indústrias Extrativas e de Transformação|indice-de-precos-ao-produtor-industrias-extrativas-e-de-transformacao|2081",
         "9282",
         "Notícia",
         "Preços da indústria crescem 0,74% em abril, terceiro resultado positivo seguido",
         "20241026_111053"
        ],
        [
         "11 - to - 20 - 20241026_105918",
         "27/05/2024 04:09:03",
         true,
         "ibge",
         40191,
         "{\"image_intro\":\"images\\/agenciadenoticias\\/ibge\\/2024_05\\/p-fazenda.jpeg\",\"float_intro\":\"\",\"image_intro_alt\":\"\",\"image_intro_caption\":\"\",\"image_fulltext\":\"images\\/agenciadenoticias\\/ibge\\/2024_05\\/p-fazenda.jpeg\",\"float_fulltext\":\"\",\"image_fulltext_alt\":\"\",\"image_fulltext_caption\":\"\"}",
         "Projeto vai reunir memória e tecnologia em um mesmo espaço de exposição presencial e virtual, com exibição do formulário do primeiro Censo realizado pelo IBGE O Instituto Brasileiro de Geografia e Estatística (IBGE) vai lançar durante a cerimônia de...",
         "http://agenciadenoticias.ibge.gov.br/agencia-noticias/2012-agencia-de-noticias/noticias/40191-ibge-lanca-casa-brasil-ibge-para-preservacao-e-disseminacao-da-memoria.html",
         0,
         "",
         "",
         "Notícia",
         "IBGE lança Casa Brasil IBGE para preservação e disseminação da memória",
         "20241026_111053"
        ],
        [
         "11 - to - 20 - 20241026_105918",
         "27/05/2024 09:00:00",
         true,
         "ibge",
         40174,
         "{\"image_intro\":\"images\\/agenciadenoticias\\/ibge\\/2024_01\\/Agenda-IBGE_THUMB.jpg\",\"float_intro\":\"\",\"image_intro_alt\":\"\",\"image_intro_caption\":\"\",\"image_fulltext\":\"images\\/agenciadenoticias\\/ibge\\/2024_01\\/Agenda-IBGE_HOME.jpg\",\"float_fulltext\":\"\",\"image_fulltext_alt\":\"\",\"image_fulltext_caption\":\"\"}",
         "Agenda IBGE traz a programação do instituto para a semana - Foto: Bel Corção/Brasil com S O IBGE divulgou hoje (27) a Agenda do Instituto para a semana de 27 de maio a 2 de junho. A Agenda IBGE contempla os eventos, as reuniões e os compromissos da...",
         "http://agenciadenoticias.ibge.gov.br/agencia-noticias/2012-agencia-de-noticias/noticias/40174-ibge-divulga-agenda-de-27-de-maio-a-2-de-junho.html",
         0,
         "",
         "",
         "Notícia",
         "IBGE divulga Agenda de 27 de maio a 2 de junho",
         "20241026_111053"
        ],
        [
         "11 - to - 20 - 20241026_105918",
         "24/05/2024 05:37:11",
         true,
         "ibge",
         40179,
         "{\"image_intro\":\"images\\/agenciadenoticias\\/ibge\\/2024_05\\/sudene01.jpeg\",\"float_intro\":\"\",\"image_intro_alt\":\"\",\"image_intro_caption\":\"\",\"image_fulltext\":\"images\\/agenciadenoticias\\/ibge\\/2024_05\\/sudene01.jpeg\",\"float_fulltext\":\"\",\"image_fulltext_alt\":\"\",\"image_fulltext_caption\":\"\"}",
         "Foto: Adriana Saraiva Representantes do Instituto Brasileiro de Geografia e Estatística (IBGE) e da Superintendência do Desenvolvimento do Nordeste (Sudene) se reuniram na sede do Instituto, no Rio de Janeiro, com o objetivo de intensificar a cooperação...",
         "http://agenciadenoticias.ibge.gov.br/agencia-noticias/2012-agencia-de-noticias/noticias/40179-ibge-intensifica-cooperacao-tecnica-com-a-superintendencia-do-desenvolvimento-do-nordeste-2.html",
         0,
         "",
         "",
         "Notícia",
         "IBGE intensifica cooperação técnica com a Superintendência do Desenvolvimento do Nordeste",
         "20241026_111053"
        ],
        [
         "11 - to - 20 - 20241026_105918",
         "24/05/2024 04:40:03",
         true,
         "ibge",
         40176,
         "{\"image_intro\":\"images\\/agenciadenoticias\\/ibge\\/2024_05\\/materia-home.jpg\",\"float_intro\":\"\",\"image_intro_alt\":\"\",\"image_intro_caption\":\"\",\"image_fulltext\":\"images\\/agenciadenoticias\\/ibge\\/2024_05\\/materia-home.jpg\",\"float_fulltext\":\"\",\"image_fulltext_alt\":\"\",\"image_fulltext_caption\":\"\"}",
         "O presidente do Instituto Brasileiro de Geografia e Estatística (IBGE), Marcio Pochmann, participou nesta quinta-feira, 23, do Seminário Sustentabilidade em Universidades: Gestão e Indicadores, realizado no Centro de Convenções da Universidade Estadual...",
         "http://agenciadenoticias.ibge.gov.br/agencia-noticias/2012-agencia-de-noticias/noticias/40176-ibge-participa-de-seminario-sobre-gestao-de-dados-na-unicamp-em-campinas-sp.html",
         0,
         "",
         "",
         "Notícia",
         "IBGE participa de Seminário sobre gestão de dados na Unicamp, em Campinas (SP)",
         "20241026_111053"
        ]
       ],
       "datasetInfos": [],
       "dbfsResultPath": null,
       "isJsonSchema": true,
       "metadata": {
        "dataframeName": "_sqldf",
        "executionCount": 95
       },
       "overflow": false,
       "plotOptions": {
        "customPlotOptions": {},
        "displayType": "table",
        "pivotAggregation": null,
        "pivotColumns": null,
        "xColumns": null,
        "yColumns": null
       },
       "removedWidgets": [],
       "schema": [
        {
         "metadata": "{}",
         "name": "PAGE",
         "type": "\"string\""
        },
        {
         "metadata": "{}",
         "name": "data_publicacao",
         "type": "\"string\""
        },
        {
         "metadata": "{}",
         "name": "destaque",
         "type": "\"boolean\""
        },
        {
         "metadata": "{}",
         "name": "editorias",
         "type": "\"string\""
        },
        {
         "metadata": "{}",
         "name": "id",
         "type": "\"long\""
        },
        {
         "metadata": "{}",
         "name": "imagens",
         "type": "\"string\""
        },
        {
         "metadata": "{}",
         "name": "introducao",
         "type": "\"string\""
        },
        {
         "metadata": "{}",
         "name": "link",
         "type": "\"string\""
        },
        {
         "metadata": "{}",
         "name": "produto_id",
         "type": "\"long\""
        },
        {
         "metadata": "{}",
         "name": "produtos",
         "type": "\"string\""
        },
        {
         "metadata": "{}",
         "name": "produtos_relacionados",
         "type": "\"string\""
        },
        {
         "metadata": "{}",
         "name": "tipo",
         "type": "\"string\""
        },
        {
         "metadata": "{}",
         "name": "titulo",
         "type": "\"string\""
        },
        {
         "metadata": "{}",
         "name": "DTPROC",
         "type": "\"string\""
        }
       ],
       "type": "table"
      }
     },
     "output_type": "display_data"
    }
   ],
   "source": [
    "%sql\n",
    "-- select count(*) from delta.`dbfs:/mnt/bronze/`\n",
    "select * from bronze.ibge_news limit 20"
   ]
  },
  {
   "cell_type": "code",
   "execution_count": 0,
   "metadata": {
    "application/vnd.databricks.v1+cell": {
     "cellMetadata": {
      "byteLimit": 2048000,
      "rowLimit": 10000
     },
     "inputWidgets": {},
     "nuid": "a128b90a-bb20-4cba-a687-6b6ef76565ad",
     "showTitle": false,
     "title": ""
    }
   },
   "outputs": [
    {
     "output_type": "execute_result",
     "data": {
      "text/plain": [
       "False"
      ]
     },
     "execution_count": 88,
     "metadata": {},
     "output_type": "execute_result"
    }
   ],
   "source": [
    "# display(dbutils.fs.ls('dbfs:/mnt/historic/bronze/202410/ibgeapipage_1_to_10_20241019_110702/'))\n",
    "\n",
    "## apagar pastas\n",
    "# dbutils.fs.rm('dbfs:/mnt/raw/',True)\n",
    "# dbutils.fs.rm('dbfs:/mnt/bronze/',True)\n",
    "# dbutils.fs.rm('dbfs:/mnt/historic/bronze/',True)\n",
    "\n",
    "## criar pasta\n",
    "# dbutils.fs.mkdirs('dbfs:/mnt/raw/')\n",
    "# dbutils.fs.mkdirs('dbfs:/mnt/raw_2/')\n",
    "# dbutils.fs.mkdirs('dbfs:/mnt/raw_3/')"
   ]
  },
  {
   "cell_type": "code",
   "execution_count": 0,
   "metadata": {
    "application/vnd.databricks.v1+cell": {
     "cellMetadata": {
      "byteLimit": 2048000,
      "rowLimit": 10000
     },
     "inputWidgets": {},
     "nuid": "465a52b2-97ed-45ef-9e8c-fcbd3e24c6b8",
     "showTitle": true,
     "title": "Leitura de arquivos de forma Multipla"
    }
   },
   "outputs": [],
   "source": [
    "# ### é Possivel fazer a Leitura de varios arquivos de forma Multipla, passando a referencia deles dentro de uma lista  ##########\n",
    "\n",
    "# spark.read.json(files).display()"
   ]
  }
 ],
 "metadata": {
  "application/vnd.databricks.v1+notebook": {
   "dashboards": [],
   "environmentMetadata": null,
   "language": "python",
   "notebookMetadata": {
    "mostRecentlyExecutedCommandWithImplicitDF": {
     "commandId": 1746308985242144,
     "dataframes": [
      "_sqldf"
     ]
    },
    "pythonIndentUnit": 2
   },
   "notebookName": "bronze_ingestion_run- camada BRONZE",
   "widgets": {}
  }
 },
 "nbformat": 4,
 "nbformat_minor": 0
}
